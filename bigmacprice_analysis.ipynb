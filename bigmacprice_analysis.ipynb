{
 "cells": [
  {
   "cell_type": "markdown",
   "id": "e49fa19a",
   "metadata": {},
   "source": [
    "#                   BigMac Fiyat Değişim Analizi"
   ]
  },
  {
   "cell_type": "markdown",
   "id": "ff5fd6e8",
   "metadata": {},
   "source": [
    "Kaggle'dan çektiğim ülkelere göre bigmacin fiyat değişimi ve ülkelerin gelir ortalaması verilerini analiz ettim."
   ]
  },
  {
   "cell_type": "code",
   "execution_count": 2,
   "id": "d3633f34",
   "metadata": {},
   "outputs": [],
   "source": [
    "import pandas as pd\n",
    "import numpy as np\n",
    "\n",
    "import plotly.express as px\n",
    "import seaborn as sns\n",
    "import matplotlib.pyplot as plt\n",
    "import folium"
   ]
  },
  {
   "cell_type": "code",
   "execution_count": 3,
   "id": "0d8fb483",
   "metadata": {},
   "outputs": [],
   "source": [
    "df =  pd.read_csv('BigmacPrice.csv')"
   ]
  },
  {
   "cell_type": "code",
   "execution_count": 4,
   "id": "36a12d17",
   "metadata": {},
   "outputs": [],
   "source": [
    "#veri setinden Türkiye verilerini çekerek yeni bir data frame elde ediyorum.\n",
    "df2 = df.loc[df['name'] == 'Turkey']"
   ]
  },
  {
   "cell_type": "code",
   "execution_count": 5,
   "id": "6a0675f5",
   "metadata": {},
   "outputs": [
    {
     "data": {
      "text/html": [
       "<div>\n",
       "<style scoped>\n",
       "    .dataframe tbody tr th:only-of-type {\n",
       "        vertical-align: middle;\n",
       "    }\n",
       "\n",
       "    .dataframe tbody tr th {\n",
       "        vertical-align: top;\n",
       "    }\n",
       "\n",
       "    .dataframe thead th {\n",
       "        text-align: right;\n",
       "    }\n",
       "</style>\n",
       "<table border=\"1\" class=\"dataframe\">\n",
       "  <thead>\n",
       "    <tr style=\"text-align: right;\">\n",
       "      <th></th>\n",
       "      <th>date</th>\n",
       "      <th>currency_code</th>\n",
       "      <th>name</th>\n",
       "      <th>local_price</th>\n",
       "      <th>dollar_ex</th>\n",
       "      <th>dollar_price</th>\n",
       "    </tr>\n",
       "  </thead>\n",
       "  <tbody>\n",
       "    <tr>\n",
       "      <th>86</th>\n",
       "      <td>2002-04-01</td>\n",
       "      <td>TRY</td>\n",
       "      <td>Turkey</td>\n",
       "      <td>4000000.00</td>\n",
       "      <td>1.324500e+06</td>\n",
       "      <td>3.020008</td>\n",
       "    </tr>\n",
       "    <tr>\n",
       "      <th>117</th>\n",
       "      <td>2003-04-01</td>\n",
       "      <td>TRY</td>\n",
       "      <td>Turkey</td>\n",
       "      <td>3750000.00</td>\n",
       "      <td>1.600500e+06</td>\n",
       "      <td>2.343018</td>\n",
       "    </tr>\n",
       "    <tr>\n",
       "      <th>154</th>\n",
       "      <td>2004-05-01</td>\n",
       "      <td>TRY</td>\n",
       "      <td>Turkey</td>\n",
       "      <td>3950000.00</td>\n",
       "      <td>1.531000e+06</td>\n",
       "      <td>2.580013</td>\n",
       "    </tr>\n",
       "    <tr>\n",
       "      <th>193</th>\n",
       "      <td>2005-06-01</td>\n",
       "      <td>TRY</td>\n",
       "      <td>Turkey</td>\n",
       "      <td>4.00</td>\n",
       "      <td>1.369000e+00</td>\n",
       "      <td>2.921841</td>\n",
       "    </tr>\n",
       "    <tr>\n",
       "      <th>227</th>\n",
       "      <td>2006-01-01</td>\n",
       "      <td>TRY</td>\n",
       "      <td>Turkey</td>\n",
       "      <td>4.10</td>\n",
       "      <td>1.336500e+00</td>\n",
       "      <td>3.067714</td>\n",
       "    </tr>\n",
       "    <tr>\n",
       "      <th>264</th>\n",
       "      <td>2006-05-01</td>\n",
       "      <td>TRY</td>\n",
       "      <td>Turkey</td>\n",
       "      <td>4.20</td>\n",
       "      <td>1.541500e+00</td>\n",
       "      <td>2.724619</td>\n",
       "    </tr>\n",
       "    <tr>\n",
       "      <th>304</th>\n",
       "      <td>2007-01-01</td>\n",
       "      <td>TRY</td>\n",
       "      <td>Turkey</td>\n",
       "      <td>4.55</td>\n",
       "      <td>1.409750e+00</td>\n",
       "      <td>3.227523</td>\n",
       "    </tr>\n",
       "    <tr>\n",
       "      <th>344</th>\n",
       "      <td>2007-06-01</td>\n",
       "      <td>TRY</td>\n",
       "      <td>Turkey</td>\n",
       "      <td>4.75</td>\n",
       "      <td>1.298100e+00</td>\n",
       "      <td>3.659194</td>\n",
       "    </tr>\n",
       "    <tr>\n",
       "      <th>384</th>\n",
       "      <td>2008-06-01</td>\n",
       "      <td>TRY</td>\n",
       "      <td>Turkey</td>\n",
       "      <td>5.15</td>\n",
       "      <td>1.192750e+00</td>\n",
       "      <td>4.317753</td>\n",
       "    </tr>\n",
       "    <tr>\n",
       "      <th>425</th>\n",
       "      <td>2009-07-01</td>\n",
       "      <td>TRY</td>\n",
       "      <td>Turkey</td>\n",
       "      <td>5.65</td>\n",
       "      <td>1.550050e+00</td>\n",
       "      <td>3.645044</td>\n",
       "    </tr>\n",
       "    <tr>\n",
       "      <th>466</th>\n",
       "      <td>2010-01-01</td>\n",
       "      <td>TRY</td>\n",
       "      <td>Turkey</td>\n",
       "      <td>5.65</td>\n",
       "      <td>1.474550e+00</td>\n",
       "      <td>3.831677</td>\n",
       "    </tr>\n",
       "    <tr>\n",
       "      <th>507</th>\n",
       "      <td>2010-07-01</td>\n",
       "      <td>TRY</td>\n",
       "      <td>Turkey</td>\n",
       "      <td>5.95</td>\n",
       "      <td>1.529300e+00</td>\n",
       "      <td>3.890669</td>\n",
       "    </tr>\n",
       "    <tr>\n",
       "      <th>549</th>\n",
       "      <td>2011-07-01</td>\n",
       "      <td>TRY</td>\n",
       "      <td>Turkey</td>\n",
       "      <td>6.50</td>\n",
       "      <td>1.722850e+00</td>\n",
       "      <td>3.772818</td>\n",
       "    </tr>\n",
       "    <tr>\n",
       "      <th>591</th>\n",
       "      <td>2012-01-01</td>\n",
       "      <td>TRY</td>\n",
       "      <td>Turkey</td>\n",
       "      <td>6.60</td>\n",
       "      <td>1.862950e+00</td>\n",
       "      <td>3.542768</td>\n",
       "    </tr>\n",
       "    <tr>\n",
       "      <th>631</th>\n",
       "      <td>2012-07-01</td>\n",
       "      <td>TRY</td>\n",
       "      <td>Turkey</td>\n",
       "      <td>8.25</td>\n",
       "      <td>1.826900e+00</td>\n",
       "      <td>4.515847</td>\n",
       "    </tr>\n",
       "    <tr>\n",
       "      <th>673</th>\n",
       "      <td>2013-01-01</td>\n",
       "      <td>TRY</td>\n",
       "      <td>Turkey</td>\n",
       "      <td>8.45</td>\n",
       "      <td>1.768750e+00</td>\n",
       "      <td>4.777385</td>\n",
       "    </tr>\n",
       "    <tr>\n",
       "      <th>715</th>\n",
       "      <td>2013-07-01</td>\n",
       "      <td>TRY</td>\n",
       "      <td>Turkey</td>\n",
       "      <td>8.50</td>\n",
       "      <td>1.957450e+00</td>\n",
       "      <td>4.342384</td>\n",
       "    </tr>\n",
       "    <tr>\n",
       "      <th>757</th>\n",
       "      <td>2014-01-01</td>\n",
       "      <td>TRY</td>\n",
       "      <td>Turkey</td>\n",
       "      <td>8.50</td>\n",
       "      <td>2.261550e+00</td>\n",
       "      <td>3.758484</td>\n",
       "    </tr>\n",
       "    <tr>\n",
       "      <th>799</th>\n",
       "      <td>2014-07-01</td>\n",
       "      <td>TRY</td>\n",
       "      <td>Turkey</td>\n",
       "      <td>9.25</td>\n",
       "      <td>2.091250e+00</td>\n",
       "      <td>4.423192</td>\n",
       "    </tr>\n",
       "    <tr>\n",
       "      <th>842</th>\n",
       "      <td>2015-01-01</td>\n",
       "      <td>TRY</td>\n",
       "      <td>Turkey</td>\n",
       "      <td>9.25</td>\n",
       "      <td>2.333450e+00</td>\n",
       "      <td>3.964088</td>\n",
       "    </tr>\n",
       "    <tr>\n",
       "      <th>885</th>\n",
       "      <td>2015-07-01</td>\n",
       "      <td>TRY</td>\n",
       "      <td>Turkey</td>\n",
       "      <td>10.25</td>\n",
       "      <td>2.645700e+00</td>\n",
       "      <td>3.874211</td>\n",
       "    </tr>\n",
       "    <tr>\n",
       "      <th>928</th>\n",
       "      <td>2016-01-01</td>\n",
       "      <td>TRY</td>\n",
       "      <td>Turkey</td>\n",
       "      <td>10.25</td>\n",
       "      <td>3.009600e+00</td>\n",
       "      <td>3.405768</td>\n",
       "    </tr>\n",
       "    <tr>\n",
       "      <th>971</th>\n",
       "      <td>2016-07-01</td>\n",
       "      <td>TRY</td>\n",
       "      <td>Turkey</td>\n",
       "      <td>10.75</td>\n",
       "      <td>3.043050e+00</td>\n",
       "      <td>3.532640</td>\n",
       "    </tr>\n",
       "    <tr>\n",
       "      <th>1014</th>\n",
       "      <td>2017-01-01</td>\n",
       "      <td>TRY</td>\n",
       "      <td>Turkey</td>\n",
       "      <td>10.75</td>\n",
       "      <td>3.911150e+00</td>\n",
       "      <td>2.748552</td>\n",
       "    </tr>\n",
       "    <tr>\n",
       "      <th>1057</th>\n",
       "      <td>2017-07-01</td>\n",
       "      <td>TRY</td>\n",
       "      <td>Turkey</td>\n",
       "      <td>10.75</td>\n",
       "      <td>3.576050e+00</td>\n",
       "      <td>3.006110</td>\n",
       "    </tr>\n",
       "    <tr>\n",
       "      <th>1100</th>\n",
       "      <td>2018-01-01</td>\n",
       "      <td>TRY</td>\n",
       "      <td>Turkey</td>\n",
       "      <td>10.75</td>\n",
       "      <td>3.802600e+00</td>\n",
       "      <td>2.827013</td>\n",
       "    </tr>\n",
       "    <tr>\n",
       "      <th>1156</th>\n",
       "      <td>2018-07-01</td>\n",
       "      <td>TRY</td>\n",
       "      <td>Turkey</td>\n",
       "      <td>10.75</td>\n",
       "      <td>4.706250e+00</td>\n",
       "      <td>2.284197</td>\n",
       "    </tr>\n",
       "    <tr>\n",
       "      <th>1212</th>\n",
       "      <td>2019-01-01</td>\n",
       "      <td>TRY</td>\n",
       "      <td>Turkey</td>\n",
       "      <td>10.75</td>\n",
       "      <td>5.383400e+00</td>\n",
       "      <td>1.996879</td>\n",
       "    </tr>\n",
       "    <tr>\n",
       "      <th>1268</th>\n",
       "      <td>2019-07-09</td>\n",
       "      <td>TRY</td>\n",
       "      <td>Turkey</td>\n",
       "      <td>13.99</td>\n",
       "      <td>5.722000e+00</td>\n",
       "      <td>2.444949</td>\n",
       "    </tr>\n",
       "    <tr>\n",
       "      <th>1324</th>\n",
       "      <td>2020-01-14</td>\n",
       "      <td>TRY</td>\n",
       "      <td>Turkey</td>\n",
       "      <td>12.99</td>\n",
       "      <td>5.880250e+00</td>\n",
       "      <td>2.209090</td>\n",
       "    </tr>\n",
       "  </tbody>\n",
       "</table>\n",
       "</div>"
      ],
      "text/plain": [
       "            date currency_code    name  local_price     dollar_ex  \\\n",
       "86    2002-04-01           TRY  Turkey   4000000.00  1.324500e+06   \n",
       "117   2003-04-01           TRY  Turkey   3750000.00  1.600500e+06   \n",
       "154   2004-05-01           TRY  Turkey   3950000.00  1.531000e+06   \n",
       "193   2005-06-01           TRY  Turkey         4.00  1.369000e+00   \n",
       "227   2006-01-01           TRY  Turkey         4.10  1.336500e+00   \n",
       "264   2006-05-01           TRY  Turkey         4.20  1.541500e+00   \n",
       "304   2007-01-01           TRY  Turkey         4.55  1.409750e+00   \n",
       "344   2007-06-01           TRY  Turkey         4.75  1.298100e+00   \n",
       "384   2008-06-01           TRY  Turkey         5.15  1.192750e+00   \n",
       "425   2009-07-01           TRY  Turkey         5.65  1.550050e+00   \n",
       "466   2010-01-01           TRY  Turkey         5.65  1.474550e+00   \n",
       "507   2010-07-01           TRY  Turkey         5.95  1.529300e+00   \n",
       "549   2011-07-01           TRY  Turkey         6.50  1.722850e+00   \n",
       "591   2012-01-01           TRY  Turkey         6.60  1.862950e+00   \n",
       "631   2012-07-01           TRY  Turkey         8.25  1.826900e+00   \n",
       "673   2013-01-01           TRY  Turkey         8.45  1.768750e+00   \n",
       "715   2013-07-01           TRY  Turkey         8.50  1.957450e+00   \n",
       "757   2014-01-01           TRY  Turkey         8.50  2.261550e+00   \n",
       "799   2014-07-01           TRY  Turkey         9.25  2.091250e+00   \n",
       "842   2015-01-01           TRY  Turkey         9.25  2.333450e+00   \n",
       "885   2015-07-01           TRY  Turkey        10.25  2.645700e+00   \n",
       "928   2016-01-01           TRY  Turkey        10.25  3.009600e+00   \n",
       "971   2016-07-01           TRY  Turkey        10.75  3.043050e+00   \n",
       "1014  2017-01-01           TRY  Turkey        10.75  3.911150e+00   \n",
       "1057  2017-07-01           TRY  Turkey        10.75  3.576050e+00   \n",
       "1100  2018-01-01           TRY  Turkey        10.75  3.802600e+00   \n",
       "1156  2018-07-01           TRY  Turkey        10.75  4.706250e+00   \n",
       "1212  2019-01-01           TRY  Turkey        10.75  5.383400e+00   \n",
       "1268  2019-07-09           TRY  Turkey        13.99  5.722000e+00   \n",
       "1324  2020-01-14           TRY  Turkey        12.99  5.880250e+00   \n",
       "\n",
       "      dollar_price  \n",
       "86        3.020008  \n",
       "117       2.343018  \n",
       "154       2.580013  \n",
       "193       2.921841  \n",
       "227       3.067714  \n",
       "264       2.724619  \n",
       "304       3.227523  \n",
       "344       3.659194  \n",
       "384       4.317753  \n",
       "425       3.645044  \n",
       "466       3.831677  \n",
       "507       3.890669  \n",
       "549       3.772818  \n",
       "591       3.542768  \n",
       "631       4.515847  \n",
       "673       4.777385  \n",
       "715       4.342384  \n",
       "757       3.758484  \n",
       "799       4.423192  \n",
       "842       3.964088  \n",
       "885       3.874211  \n",
       "928       3.405768  \n",
       "971       3.532640  \n",
       "1014      2.748552  \n",
       "1057      3.006110  \n",
       "1100      2.827013  \n",
       "1156      2.284197  \n",
       "1212      1.996879  \n",
       "1268      2.444949  \n",
       "1324      2.209090  "
      ]
     },
     "execution_count": 5,
     "metadata": {},
     "output_type": "execute_result"
    }
   ],
   "source": [
    "df2"
   ]
  },
  {
   "cell_type": "markdown",
   "id": "a6697efc",
   "metadata": {},
   "source": [
    "Görüldüğü üzere 2002-2020 arası veriler bulunuyor. 2002-2004 yılları arasında henğz YTL'ye geçilmediği için grafiğe yansıttığımız zaman aykırı değer olarak göreceğiz. Bu yüzden 6 sıfırı atıp YTL haline getiriyorum. Aynı zamanda dolar karşılığını da düzenliyorum. Bunun için data framei ikiye bölerek, istediğim sütunlarda bölme işlemi yapacağım ve daha sonra tekrar birleştiriyorum."
   ]
  },
  {
   "cell_type": "code",
   "execution_count": 6,
   "id": "7d0d290a",
   "metadata": {},
   "outputs": [],
   "source": [
    "#Data frame'i YTL'den öncesi ve sonrası olarak ikiye ayırıyorum..\n",
    "\n",
    "df_temp1= df2.iloc[3:,:]\n",
    "df_temp2 = df2.iloc[:3,:]"
   ]
  },
  {
   "cell_type": "code",
   "execution_count": 7,
   "id": "32cd3129",
   "metadata": {},
   "outputs": [
    {
     "data": {
      "text/html": [
       "<div>\n",
       "<style scoped>\n",
       "    .dataframe tbody tr th:only-of-type {\n",
       "        vertical-align: middle;\n",
       "    }\n",
       "\n",
       "    .dataframe tbody tr th {\n",
       "        vertical-align: top;\n",
       "    }\n",
       "\n",
       "    .dataframe thead th {\n",
       "        text-align: right;\n",
       "    }\n",
       "</style>\n",
       "<table border=\"1\" class=\"dataframe\">\n",
       "  <thead>\n",
       "    <tr style=\"text-align: right;\">\n",
       "      <th></th>\n",
       "      <th>date</th>\n",
       "      <th>currency_code</th>\n",
       "      <th>name</th>\n",
       "      <th>local_price</th>\n",
       "      <th>dollar_ex</th>\n",
       "      <th>dollar_price</th>\n",
       "    </tr>\n",
       "  </thead>\n",
       "  <tbody>\n",
       "    <tr>\n",
       "      <th>193</th>\n",
       "      <td>2005-06-01</td>\n",
       "      <td>TRY</td>\n",
       "      <td>Turkey</td>\n",
       "      <td>4.00</td>\n",
       "      <td>1.36900</td>\n",
       "      <td>2.921841</td>\n",
       "    </tr>\n",
       "    <tr>\n",
       "      <th>227</th>\n",
       "      <td>2006-01-01</td>\n",
       "      <td>TRY</td>\n",
       "      <td>Turkey</td>\n",
       "      <td>4.10</td>\n",
       "      <td>1.33650</td>\n",
       "      <td>3.067714</td>\n",
       "    </tr>\n",
       "    <tr>\n",
       "      <th>264</th>\n",
       "      <td>2006-05-01</td>\n",
       "      <td>TRY</td>\n",
       "      <td>Turkey</td>\n",
       "      <td>4.20</td>\n",
       "      <td>1.54150</td>\n",
       "      <td>2.724619</td>\n",
       "    </tr>\n",
       "    <tr>\n",
       "      <th>304</th>\n",
       "      <td>2007-01-01</td>\n",
       "      <td>TRY</td>\n",
       "      <td>Turkey</td>\n",
       "      <td>4.55</td>\n",
       "      <td>1.40975</td>\n",
       "      <td>3.227523</td>\n",
       "    </tr>\n",
       "    <tr>\n",
       "      <th>344</th>\n",
       "      <td>2007-06-01</td>\n",
       "      <td>TRY</td>\n",
       "      <td>Turkey</td>\n",
       "      <td>4.75</td>\n",
       "      <td>1.29810</td>\n",
       "      <td>3.659194</td>\n",
       "    </tr>\n",
       "    <tr>\n",
       "      <th>384</th>\n",
       "      <td>2008-06-01</td>\n",
       "      <td>TRY</td>\n",
       "      <td>Turkey</td>\n",
       "      <td>5.15</td>\n",
       "      <td>1.19275</td>\n",
       "      <td>4.317753</td>\n",
       "    </tr>\n",
       "    <tr>\n",
       "      <th>425</th>\n",
       "      <td>2009-07-01</td>\n",
       "      <td>TRY</td>\n",
       "      <td>Turkey</td>\n",
       "      <td>5.65</td>\n",
       "      <td>1.55005</td>\n",
       "      <td>3.645044</td>\n",
       "    </tr>\n",
       "    <tr>\n",
       "      <th>466</th>\n",
       "      <td>2010-01-01</td>\n",
       "      <td>TRY</td>\n",
       "      <td>Turkey</td>\n",
       "      <td>5.65</td>\n",
       "      <td>1.47455</td>\n",
       "      <td>3.831677</td>\n",
       "    </tr>\n",
       "    <tr>\n",
       "      <th>507</th>\n",
       "      <td>2010-07-01</td>\n",
       "      <td>TRY</td>\n",
       "      <td>Turkey</td>\n",
       "      <td>5.95</td>\n",
       "      <td>1.52930</td>\n",
       "      <td>3.890669</td>\n",
       "    </tr>\n",
       "    <tr>\n",
       "      <th>549</th>\n",
       "      <td>2011-07-01</td>\n",
       "      <td>TRY</td>\n",
       "      <td>Turkey</td>\n",
       "      <td>6.50</td>\n",
       "      <td>1.72285</td>\n",
       "      <td>3.772818</td>\n",
       "    </tr>\n",
       "    <tr>\n",
       "      <th>591</th>\n",
       "      <td>2012-01-01</td>\n",
       "      <td>TRY</td>\n",
       "      <td>Turkey</td>\n",
       "      <td>6.60</td>\n",
       "      <td>1.86295</td>\n",
       "      <td>3.542768</td>\n",
       "    </tr>\n",
       "    <tr>\n",
       "      <th>631</th>\n",
       "      <td>2012-07-01</td>\n",
       "      <td>TRY</td>\n",
       "      <td>Turkey</td>\n",
       "      <td>8.25</td>\n",
       "      <td>1.82690</td>\n",
       "      <td>4.515847</td>\n",
       "    </tr>\n",
       "    <tr>\n",
       "      <th>673</th>\n",
       "      <td>2013-01-01</td>\n",
       "      <td>TRY</td>\n",
       "      <td>Turkey</td>\n",
       "      <td>8.45</td>\n",
       "      <td>1.76875</td>\n",
       "      <td>4.777385</td>\n",
       "    </tr>\n",
       "    <tr>\n",
       "      <th>715</th>\n",
       "      <td>2013-07-01</td>\n",
       "      <td>TRY</td>\n",
       "      <td>Turkey</td>\n",
       "      <td>8.50</td>\n",
       "      <td>1.95745</td>\n",
       "      <td>4.342384</td>\n",
       "    </tr>\n",
       "    <tr>\n",
       "      <th>757</th>\n",
       "      <td>2014-01-01</td>\n",
       "      <td>TRY</td>\n",
       "      <td>Turkey</td>\n",
       "      <td>8.50</td>\n",
       "      <td>2.26155</td>\n",
       "      <td>3.758484</td>\n",
       "    </tr>\n",
       "    <tr>\n",
       "      <th>799</th>\n",
       "      <td>2014-07-01</td>\n",
       "      <td>TRY</td>\n",
       "      <td>Turkey</td>\n",
       "      <td>9.25</td>\n",
       "      <td>2.09125</td>\n",
       "      <td>4.423192</td>\n",
       "    </tr>\n",
       "    <tr>\n",
       "      <th>842</th>\n",
       "      <td>2015-01-01</td>\n",
       "      <td>TRY</td>\n",
       "      <td>Turkey</td>\n",
       "      <td>9.25</td>\n",
       "      <td>2.33345</td>\n",
       "      <td>3.964088</td>\n",
       "    </tr>\n",
       "    <tr>\n",
       "      <th>885</th>\n",
       "      <td>2015-07-01</td>\n",
       "      <td>TRY</td>\n",
       "      <td>Turkey</td>\n",
       "      <td>10.25</td>\n",
       "      <td>2.64570</td>\n",
       "      <td>3.874211</td>\n",
       "    </tr>\n",
       "    <tr>\n",
       "      <th>928</th>\n",
       "      <td>2016-01-01</td>\n",
       "      <td>TRY</td>\n",
       "      <td>Turkey</td>\n",
       "      <td>10.25</td>\n",
       "      <td>3.00960</td>\n",
       "      <td>3.405768</td>\n",
       "    </tr>\n",
       "    <tr>\n",
       "      <th>971</th>\n",
       "      <td>2016-07-01</td>\n",
       "      <td>TRY</td>\n",
       "      <td>Turkey</td>\n",
       "      <td>10.75</td>\n",
       "      <td>3.04305</td>\n",
       "      <td>3.532640</td>\n",
       "    </tr>\n",
       "    <tr>\n",
       "      <th>1014</th>\n",
       "      <td>2017-01-01</td>\n",
       "      <td>TRY</td>\n",
       "      <td>Turkey</td>\n",
       "      <td>10.75</td>\n",
       "      <td>3.91115</td>\n",
       "      <td>2.748552</td>\n",
       "    </tr>\n",
       "    <tr>\n",
       "      <th>1057</th>\n",
       "      <td>2017-07-01</td>\n",
       "      <td>TRY</td>\n",
       "      <td>Turkey</td>\n",
       "      <td>10.75</td>\n",
       "      <td>3.57605</td>\n",
       "      <td>3.006110</td>\n",
       "    </tr>\n",
       "    <tr>\n",
       "      <th>1100</th>\n",
       "      <td>2018-01-01</td>\n",
       "      <td>TRY</td>\n",
       "      <td>Turkey</td>\n",
       "      <td>10.75</td>\n",
       "      <td>3.80260</td>\n",
       "      <td>2.827013</td>\n",
       "    </tr>\n",
       "    <tr>\n",
       "      <th>1156</th>\n",
       "      <td>2018-07-01</td>\n",
       "      <td>TRY</td>\n",
       "      <td>Turkey</td>\n",
       "      <td>10.75</td>\n",
       "      <td>4.70625</td>\n",
       "      <td>2.284197</td>\n",
       "    </tr>\n",
       "    <tr>\n",
       "      <th>1212</th>\n",
       "      <td>2019-01-01</td>\n",
       "      <td>TRY</td>\n",
       "      <td>Turkey</td>\n",
       "      <td>10.75</td>\n",
       "      <td>5.38340</td>\n",
       "      <td>1.996879</td>\n",
       "    </tr>\n",
       "    <tr>\n",
       "      <th>1268</th>\n",
       "      <td>2019-07-09</td>\n",
       "      <td>TRY</td>\n",
       "      <td>Turkey</td>\n",
       "      <td>13.99</td>\n",
       "      <td>5.72200</td>\n",
       "      <td>2.444949</td>\n",
       "    </tr>\n",
       "    <tr>\n",
       "      <th>1324</th>\n",
       "      <td>2020-01-14</td>\n",
       "      <td>TRY</td>\n",
       "      <td>Turkey</td>\n",
       "      <td>12.99</td>\n",
       "      <td>5.88025</td>\n",
       "      <td>2.209090</td>\n",
       "    </tr>\n",
       "  </tbody>\n",
       "</table>\n",
       "</div>"
      ],
      "text/plain": [
       "            date currency_code    name  local_price  dollar_ex  dollar_price\n",
       "193   2005-06-01           TRY  Turkey         4.00    1.36900      2.921841\n",
       "227   2006-01-01           TRY  Turkey         4.10    1.33650      3.067714\n",
       "264   2006-05-01           TRY  Turkey         4.20    1.54150      2.724619\n",
       "304   2007-01-01           TRY  Turkey         4.55    1.40975      3.227523\n",
       "344   2007-06-01           TRY  Turkey         4.75    1.29810      3.659194\n",
       "384   2008-06-01           TRY  Turkey         5.15    1.19275      4.317753\n",
       "425   2009-07-01           TRY  Turkey         5.65    1.55005      3.645044\n",
       "466   2010-01-01           TRY  Turkey         5.65    1.47455      3.831677\n",
       "507   2010-07-01           TRY  Turkey         5.95    1.52930      3.890669\n",
       "549   2011-07-01           TRY  Turkey         6.50    1.72285      3.772818\n",
       "591   2012-01-01           TRY  Turkey         6.60    1.86295      3.542768\n",
       "631   2012-07-01           TRY  Turkey         8.25    1.82690      4.515847\n",
       "673   2013-01-01           TRY  Turkey         8.45    1.76875      4.777385\n",
       "715   2013-07-01           TRY  Turkey         8.50    1.95745      4.342384\n",
       "757   2014-01-01           TRY  Turkey         8.50    2.26155      3.758484\n",
       "799   2014-07-01           TRY  Turkey         9.25    2.09125      4.423192\n",
       "842   2015-01-01           TRY  Turkey         9.25    2.33345      3.964088\n",
       "885   2015-07-01           TRY  Turkey        10.25    2.64570      3.874211\n",
       "928   2016-01-01           TRY  Turkey        10.25    3.00960      3.405768\n",
       "971   2016-07-01           TRY  Turkey        10.75    3.04305      3.532640\n",
       "1014  2017-01-01           TRY  Turkey        10.75    3.91115      2.748552\n",
       "1057  2017-07-01           TRY  Turkey        10.75    3.57605      3.006110\n",
       "1100  2018-01-01           TRY  Turkey        10.75    3.80260      2.827013\n",
       "1156  2018-07-01           TRY  Turkey        10.75    4.70625      2.284197\n",
       "1212  2019-01-01           TRY  Turkey        10.75    5.38340      1.996879\n",
       "1268  2019-07-09           TRY  Turkey        13.99    5.72200      2.444949\n",
       "1324  2020-01-14           TRY  Turkey        12.99    5.88025      2.209090"
      ]
     },
     "execution_count": 7,
     "metadata": {},
     "output_type": "execute_result"
    }
   ],
   "source": [
    "df_temp1"
   ]
  },
  {
   "cell_type": "code",
   "execution_count": 8,
   "id": "954a56e6",
   "metadata": {},
   "outputs": [
    {
     "data": {
      "text/html": [
       "<div>\n",
       "<style scoped>\n",
       "    .dataframe tbody tr th:only-of-type {\n",
       "        vertical-align: middle;\n",
       "    }\n",
       "\n",
       "    .dataframe tbody tr th {\n",
       "        vertical-align: top;\n",
       "    }\n",
       "\n",
       "    .dataframe thead th {\n",
       "        text-align: right;\n",
       "    }\n",
       "</style>\n",
       "<table border=\"1\" class=\"dataframe\">\n",
       "  <thead>\n",
       "    <tr style=\"text-align: right;\">\n",
       "      <th></th>\n",
       "      <th>date</th>\n",
       "      <th>currency_code</th>\n",
       "      <th>name</th>\n",
       "      <th>local_price</th>\n",
       "      <th>dollar_ex</th>\n",
       "      <th>dollar_price</th>\n",
       "    </tr>\n",
       "  </thead>\n",
       "  <tbody>\n",
       "    <tr>\n",
       "      <th>86</th>\n",
       "      <td>2002-04-01</td>\n",
       "      <td>TRY</td>\n",
       "      <td>Turkey</td>\n",
       "      <td>4000000.0</td>\n",
       "      <td>1324500.0</td>\n",
       "      <td>3.020008</td>\n",
       "    </tr>\n",
       "    <tr>\n",
       "      <th>117</th>\n",
       "      <td>2003-04-01</td>\n",
       "      <td>TRY</td>\n",
       "      <td>Turkey</td>\n",
       "      <td>3750000.0</td>\n",
       "      <td>1600500.0</td>\n",
       "      <td>2.343018</td>\n",
       "    </tr>\n",
       "    <tr>\n",
       "      <th>154</th>\n",
       "      <td>2004-05-01</td>\n",
       "      <td>TRY</td>\n",
       "      <td>Turkey</td>\n",
       "      <td>3950000.0</td>\n",
       "      <td>1531000.0</td>\n",
       "      <td>2.580013</td>\n",
       "    </tr>\n",
       "  </tbody>\n",
       "</table>\n",
       "</div>"
      ],
      "text/plain": [
       "           date currency_code    name  local_price  dollar_ex  dollar_price\n",
       "86   2002-04-01           TRY  Turkey    4000000.0  1324500.0      3.020008\n",
       "117  2003-04-01           TRY  Turkey    3750000.0  1600500.0      2.343018\n",
       "154  2004-05-01           TRY  Turkey    3950000.0  1531000.0      2.580013"
      ]
     },
     "execution_count": 8,
     "metadata": {},
     "output_type": "execute_result"
    }
   ],
   "source": [
    "df_temp2"
   ]
  },
  {
   "cell_type": "code",
   "execution_count": 9,
   "id": "7d934213",
   "metadata": {},
   "outputs": [
    {
     "name": "stderr",
     "output_type": "stream",
     "text": [
      "<ipython-input-9-6bac250267ba>:3: SettingWithCopyWarning: \n",
      "A value is trying to be set on a copy of a slice from a DataFrame.\n",
      "Try using .loc[row_indexer,col_indexer] = value instead\n",
      "\n",
      "See the caveats in the documentation: https://pandas.pydata.org/pandas-docs/stable/user_guide/indexing.html#returning-a-view-versus-a-copy\n",
      "  df_temp2['local_price'] = df_temp2['local_price'].div(1000000)\n"
     ]
    }
   ],
   "source": [
    "#YTL'den öncesini YTL haline getiriyorum.\n",
    "\n",
    "df_temp2['local_price'] = df_temp2['local_price'].div(1000000)"
   ]
  },
  {
   "cell_type": "code",
   "execution_count": 10,
   "id": "c429f8dc",
   "metadata": {},
   "outputs": [
    {
     "name": "stderr",
     "output_type": "stream",
     "text": [
      "<ipython-input-10-bbb2eef2bed2>:2: SettingWithCopyWarning: \n",
      "A value is trying to be set on a copy of a slice from a DataFrame.\n",
      "Try using .loc[row_indexer,col_indexer] = value instead\n",
      "\n",
      "See the caveats in the documentation: https://pandas.pydata.org/pandas-docs/stable/user_guide/indexing.html#returning-a-view-versus-a-copy\n",
      "  df_temp2['dollar_ex'] = df_temp2['dollar_ex'].div(1000000)\n"
     ]
    }
   ],
   "source": [
    "#Dolar karşılığını da düzenliyorum.\n",
    "df_temp2['dollar_ex'] = df_temp2['dollar_ex'].div(1000000)"
   ]
  },
  {
   "cell_type": "code",
   "execution_count": 11,
   "id": "77e701a2",
   "metadata": {},
   "outputs": [
    {
     "data": {
      "text/html": [
       "<div>\n",
       "<style scoped>\n",
       "    .dataframe tbody tr th:only-of-type {\n",
       "        vertical-align: middle;\n",
       "    }\n",
       "\n",
       "    .dataframe tbody tr th {\n",
       "        vertical-align: top;\n",
       "    }\n",
       "\n",
       "    .dataframe thead th {\n",
       "        text-align: right;\n",
       "    }\n",
       "</style>\n",
       "<table border=\"1\" class=\"dataframe\">\n",
       "  <thead>\n",
       "    <tr style=\"text-align: right;\">\n",
       "      <th></th>\n",
       "      <th>date</th>\n",
       "      <th>currency_code</th>\n",
       "      <th>name</th>\n",
       "      <th>local_price</th>\n",
       "      <th>dollar_ex</th>\n",
       "      <th>dollar_price</th>\n",
       "    </tr>\n",
       "  </thead>\n",
       "  <tbody>\n",
       "    <tr>\n",
       "      <th>86</th>\n",
       "      <td>2002-04-01</td>\n",
       "      <td>TRY</td>\n",
       "      <td>Turkey</td>\n",
       "      <td>4.00</td>\n",
       "      <td>1.3245</td>\n",
       "      <td>3.020008</td>\n",
       "    </tr>\n",
       "    <tr>\n",
       "      <th>117</th>\n",
       "      <td>2003-04-01</td>\n",
       "      <td>TRY</td>\n",
       "      <td>Turkey</td>\n",
       "      <td>3.75</td>\n",
       "      <td>1.6005</td>\n",
       "      <td>2.343018</td>\n",
       "    </tr>\n",
       "    <tr>\n",
       "      <th>154</th>\n",
       "      <td>2004-05-01</td>\n",
       "      <td>TRY</td>\n",
       "      <td>Turkey</td>\n",
       "      <td>3.95</td>\n",
       "      <td>1.5310</td>\n",
       "      <td>2.580013</td>\n",
       "    </tr>\n",
       "  </tbody>\n",
       "</table>\n",
       "</div>"
      ],
      "text/plain": [
       "           date currency_code    name  local_price  dollar_ex  dollar_price\n",
       "86   2002-04-01           TRY  Turkey         4.00     1.3245      3.020008\n",
       "117  2003-04-01           TRY  Turkey         3.75     1.6005      2.343018\n",
       "154  2004-05-01           TRY  Turkey         3.95     1.5310      2.580013"
      ]
     },
     "execution_count": 11,
     "metadata": {},
     "output_type": "execute_result"
    }
   ],
   "source": [
    "#son hali:\n",
    "df_temp2"
   ]
  },
  {
   "cell_type": "code",
   "execution_count": 12,
   "id": "253a5d35",
   "metadata": {},
   "outputs": [],
   "source": [
    "#veri setlerini birleştirelim ekleyelim.\n",
    "df_bm = pd.concat([df_temp2, df_temp1])"
   ]
  },
  {
   "cell_type": "code",
   "execution_count": 13,
   "id": "f98094de",
   "metadata": {},
   "outputs": [
    {
     "data": {
      "text/html": [
       "<div>\n",
       "<style scoped>\n",
       "    .dataframe tbody tr th:only-of-type {\n",
       "        vertical-align: middle;\n",
       "    }\n",
       "\n",
       "    .dataframe tbody tr th {\n",
       "        vertical-align: top;\n",
       "    }\n",
       "\n",
       "    .dataframe thead th {\n",
       "        text-align: right;\n",
       "    }\n",
       "</style>\n",
       "<table border=\"1\" class=\"dataframe\">\n",
       "  <thead>\n",
       "    <tr style=\"text-align: right;\">\n",
       "      <th></th>\n",
       "      <th>date</th>\n",
       "      <th>currency_code</th>\n",
       "      <th>name</th>\n",
       "      <th>local_price</th>\n",
       "      <th>dollar_ex</th>\n",
       "      <th>dollar_price</th>\n",
       "    </tr>\n",
       "  </thead>\n",
       "  <tbody>\n",
       "    <tr>\n",
       "      <th>86</th>\n",
       "      <td>2002-04-01</td>\n",
       "      <td>TRY</td>\n",
       "      <td>Turkey</td>\n",
       "      <td>4.00</td>\n",
       "      <td>1.32450</td>\n",
       "      <td>3.020008</td>\n",
       "    </tr>\n",
       "    <tr>\n",
       "      <th>117</th>\n",
       "      <td>2003-04-01</td>\n",
       "      <td>TRY</td>\n",
       "      <td>Turkey</td>\n",
       "      <td>3.75</td>\n",
       "      <td>1.60050</td>\n",
       "      <td>2.343018</td>\n",
       "    </tr>\n",
       "    <tr>\n",
       "      <th>154</th>\n",
       "      <td>2004-05-01</td>\n",
       "      <td>TRY</td>\n",
       "      <td>Turkey</td>\n",
       "      <td>3.95</td>\n",
       "      <td>1.53100</td>\n",
       "      <td>2.580013</td>\n",
       "    </tr>\n",
       "    <tr>\n",
       "      <th>193</th>\n",
       "      <td>2005-06-01</td>\n",
       "      <td>TRY</td>\n",
       "      <td>Turkey</td>\n",
       "      <td>4.00</td>\n",
       "      <td>1.36900</td>\n",
       "      <td>2.921841</td>\n",
       "    </tr>\n",
       "    <tr>\n",
       "      <th>227</th>\n",
       "      <td>2006-01-01</td>\n",
       "      <td>TRY</td>\n",
       "      <td>Turkey</td>\n",
       "      <td>4.10</td>\n",
       "      <td>1.33650</td>\n",
       "      <td>3.067714</td>\n",
       "    </tr>\n",
       "    <tr>\n",
       "      <th>264</th>\n",
       "      <td>2006-05-01</td>\n",
       "      <td>TRY</td>\n",
       "      <td>Turkey</td>\n",
       "      <td>4.20</td>\n",
       "      <td>1.54150</td>\n",
       "      <td>2.724619</td>\n",
       "    </tr>\n",
       "    <tr>\n",
       "      <th>304</th>\n",
       "      <td>2007-01-01</td>\n",
       "      <td>TRY</td>\n",
       "      <td>Turkey</td>\n",
       "      <td>4.55</td>\n",
       "      <td>1.40975</td>\n",
       "      <td>3.227523</td>\n",
       "    </tr>\n",
       "    <tr>\n",
       "      <th>344</th>\n",
       "      <td>2007-06-01</td>\n",
       "      <td>TRY</td>\n",
       "      <td>Turkey</td>\n",
       "      <td>4.75</td>\n",
       "      <td>1.29810</td>\n",
       "      <td>3.659194</td>\n",
       "    </tr>\n",
       "    <tr>\n",
       "      <th>384</th>\n",
       "      <td>2008-06-01</td>\n",
       "      <td>TRY</td>\n",
       "      <td>Turkey</td>\n",
       "      <td>5.15</td>\n",
       "      <td>1.19275</td>\n",
       "      <td>4.317753</td>\n",
       "    </tr>\n",
       "    <tr>\n",
       "      <th>425</th>\n",
       "      <td>2009-07-01</td>\n",
       "      <td>TRY</td>\n",
       "      <td>Turkey</td>\n",
       "      <td>5.65</td>\n",
       "      <td>1.55005</td>\n",
       "      <td>3.645044</td>\n",
       "    </tr>\n",
       "    <tr>\n",
       "      <th>466</th>\n",
       "      <td>2010-01-01</td>\n",
       "      <td>TRY</td>\n",
       "      <td>Turkey</td>\n",
       "      <td>5.65</td>\n",
       "      <td>1.47455</td>\n",
       "      <td>3.831677</td>\n",
       "    </tr>\n",
       "    <tr>\n",
       "      <th>507</th>\n",
       "      <td>2010-07-01</td>\n",
       "      <td>TRY</td>\n",
       "      <td>Turkey</td>\n",
       "      <td>5.95</td>\n",
       "      <td>1.52930</td>\n",
       "      <td>3.890669</td>\n",
       "    </tr>\n",
       "    <tr>\n",
       "      <th>549</th>\n",
       "      <td>2011-07-01</td>\n",
       "      <td>TRY</td>\n",
       "      <td>Turkey</td>\n",
       "      <td>6.50</td>\n",
       "      <td>1.72285</td>\n",
       "      <td>3.772818</td>\n",
       "    </tr>\n",
       "    <tr>\n",
       "      <th>591</th>\n",
       "      <td>2012-01-01</td>\n",
       "      <td>TRY</td>\n",
       "      <td>Turkey</td>\n",
       "      <td>6.60</td>\n",
       "      <td>1.86295</td>\n",
       "      <td>3.542768</td>\n",
       "    </tr>\n",
       "    <tr>\n",
       "      <th>631</th>\n",
       "      <td>2012-07-01</td>\n",
       "      <td>TRY</td>\n",
       "      <td>Turkey</td>\n",
       "      <td>8.25</td>\n",
       "      <td>1.82690</td>\n",
       "      <td>4.515847</td>\n",
       "    </tr>\n",
       "    <tr>\n",
       "      <th>673</th>\n",
       "      <td>2013-01-01</td>\n",
       "      <td>TRY</td>\n",
       "      <td>Turkey</td>\n",
       "      <td>8.45</td>\n",
       "      <td>1.76875</td>\n",
       "      <td>4.777385</td>\n",
       "    </tr>\n",
       "    <tr>\n",
       "      <th>715</th>\n",
       "      <td>2013-07-01</td>\n",
       "      <td>TRY</td>\n",
       "      <td>Turkey</td>\n",
       "      <td>8.50</td>\n",
       "      <td>1.95745</td>\n",
       "      <td>4.342384</td>\n",
       "    </tr>\n",
       "    <tr>\n",
       "      <th>757</th>\n",
       "      <td>2014-01-01</td>\n",
       "      <td>TRY</td>\n",
       "      <td>Turkey</td>\n",
       "      <td>8.50</td>\n",
       "      <td>2.26155</td>\n",
       "      <td>3.758484</td>\n",
       "    </tr>\n",
       "    <tr>\n",
       "      <th>799</th>\n",
       "      <td>2014-07-01</td>\n",
       "      <td>TRY</td>\n",
       "      <td>Turkey</td>\n",
       "      <td>9.25</td>\n",
       "      <td>2.09125</td>\n",
       "      <td>4.423192</td>\n",
       "    </tr>\n",
       "    <tr>\n",
       "      <th>842</th>\n",
       "      <td>2015-01-01</td>\n",
       "      <td>TRY</td>\n",
       "      <td>Turkey</td>\n",
       "      <td>9.25</td>\n",
       "      <td>2.33345</td>\n",
       "      <td>3.964088</td>\n",
       "    </tr>\n",
       "    <tr>\n",
       "      <th>885</th>\n",
       "      <td>2015-07-01</td>\n",
       "      <td>TRY</td>\n",
       "      <td>Turkey</td>\n",
       "      <td>10.25</td>\n",
       "      <td>2.64570</td>\n",
       "      <td>3.874211</td>\n",
       "    </tr>\n",
       "    <tr>\n",
       "      <th>928</th>\n",
       "      <td>2016-01-01</td>\n",
       "      <td>TRY</td>\n",
       "      <td>Turkey</td>\n",
       "      <td>10.25</td>\n",
       "      <td>3.00960</td>\n",
       "      <td>3.405768</td>\n",
       "    </tr>\n",
       "    <tr>\n",
       "      <th>971</th>\n",
       "      <td>2016-07-01</td>\n",
       "      <td>TRY</td>\n",
       "      <td>Turkey</td>\n",
       "      <td>10.75</td>\n",
       "      <td>3.04305</td>\n",
       "      <td>3.532640</td>\n",
       "    </tr>\n",
       "    <tr>\n",
       "      <th>1014</th>\n",
       "      <td>2017-01-01</td>\n",
       "      <td>TRY</td>\n",
       "      <td>Turkey</td>\n",
       "      <td>10.75</td>\n",
       "      <td>3.91115</td>\n",
       "      <td>2.748552</td>\n",
       "    </tr>\n",
       "    <tr>\n",
       "      <th>1057</th>\n",
       "      <td>2017-07-01</td>\n",
       "      <td>TRY</td>\n",
       "      <td>Turkey</td>\n",
       "      <td>10.75</td>\n",
       "      <td>3.57605</td>\n",
       "      <td>3.006110</td>\n",
       "    </tr>\n",
       "    <tr>\n",
       "      <th>1100</th>\n",
       "      <td>2018-01-01</td>\n",
       "      <td>TRY</td>\n",
       "      <td>Turkey</td>\n",
       "      <td>10.75</td>\n",
       "      <td>3.80260</td>\n",
       "      <td>2.827013</td>\n",
       "    </tr>\n",
       "    <tr>\n",
       "      <th>1156</th>\n",
       "      <td>2018-07-01</td>\n",
       "      <td>TRY</td>\n",
       "      <td>Turkey</td>\n",
       "      <td>10.75</td>\n",
       "      <td>4.70625</td>\n",
       "      <td>2.284197</td>\n",
       "    </tr>\n",
       "    <tr>\n",
       "      <th>1212</th>\n",
       "      <td>2019-01-01</td>\n",
       "      <td>TRY</td>\n",
       "      <td>Turkey</td>\n",
       "      <td>10.75</td>\n",
       "      <td>5.38340</td>\n",
       "      <td>1.996879</td>\n",
       "    </tr>\n",
       "    <tr>\n",
       "      <th>1268</th>\n",
       "      <td>2019-07-09</td>\n",
       "      <td>TRY</td>\n",
       "      <td>Turkey</td>\n",
       "      <td>13.99</td>\n",
       "      <td>5.72200</td>\n",
       "      <td>2.444949</td>\n",
       "    </tr>\n",
       "    <tr>\n",
       "      <th>1324</th>\n",
       "      <td>2020-01-14</td>\n",
       "      <td>TRY</td>\n",
       "      <td>Turkey</td>\n",
       "      <td>12.99</td>\n",
       "      <td>5.88025</td>\n",
       "      <td>2.209090</td>\n",
       "    </tr>\n",
       "  </tbody>\n",
       "</table>\n",
       "</div>"
      ],
      "text/plain": [
       "            date currency_code    name  local_price  dollar_ex  dollar_price\n",
       "86    2002-04-01           TRY  Turkey         4.00    1.32450      3.020008\n",
       "117   2003-04-01           TRY  Turkey         3.75    1.60050      2.343018\n",
       "154   2004-05-01           TRY  Turkey         3.95    1.53100      2.580013\n",
       "193   2005-06-01           TRY  Turkey         4.00    1.36900      2.921841\n",
       "227   2006-01-01           TRY  Turkey         4.10    1.33650      3.067714\n",
       "264   2006-05-01           TRY  Turkey         4.20    1.54150      2.724619\n",
       "304   2007-01-01           TRY  Turkey         4.55    1.40975      3.227523\n",
       "344   2007-06-01           TRY  Turkey         4.75    1.29810      3.659194\n",
       "384   2008-06-01           TRY  Turkey         5.15    1.19275      4.317753\n",
       "425   2009-07-01           TRY  Turkey         5.65    1.55005      3.645044\n",
       "466   2010-01-01           TRY  Turkey         5.65    1.47455      3.831677\n",
       "507   2010-07-01           TRY  Turkey         5.95    1.52930      3.890669\n",
       "549   2011-07-01           TRY  Turkey         6.50    1.72285      3.772818\n",
       "591   2012-01-01           TRY  Turkey         6.60    1.86295      3.542768\n",
       "631   2012-07-01           TRY  Turkey         8.25    1.82690      4.515847\n",
       "673   2013-01-01           TRY  Turkey         8.45    1.76875      4.777385\n",
       "715   2013-07-01           TRY  Turkey         8.50    1.95745      4.342384\n",
       "757   2014-01-01           TRY  Turkey         8.50    2.26155      3.758484\n",
       "799   2014-07-01           TRY  Turkey         9.25    2.09125      4.423192\n",
       "842   2015-01-01           TRY  Turkey         9.25    2.33345      3.964088\n",
       "885   2015-07-01           TRY  Turkey        10.25    2.64570      3.874211\n",
       "928   2016-01-01           TRY  Turkey        10.25    3.00960      3.405768\n",
       "971   2016-07-01           TRY  Turkey        10.75    3.04305      3.532640\n",
       "1014  2017-01-01           TRY  Turkey        10.75    3.91115      2.748552\n",
       "1057  2017-07-01           TRY  Turkey        10.75    3.57605      3.006110\n",
       "1100  2018-01-01           TRY  Turkey        10.75    3.80260      2.827013\n",
       "1156  2018-07-01           TRY  Turkey        10.75    4.70625      2.284197\n",
       "1212  2019-01-01           TRY  Turkey        10.75    5.38340      1.996879\n",
       "1268  2019-07-09           TRY  Turkey        13.99    5.72200      2.444949\n",
       "1324  2020-01-14           TRY  Turkey        12.99    5.88025      2.209090"
      ]
     },
     "execution_count": 13,
     "metadata": {},
     "output_type": "execute_result"
    }
   ],
   "source": [
    "#Veri setinin son hali:\n",
    "df_bm"
   ]
  },
  {
   "cell_type": "code",
   "execution_count": 14,
   "id": "0ee25284",
   "metadata": {},
   "outputs": [],
   "source": [
    "#ortalama gelir ile karşılaştırmak istediğim için tarihi sadece yıl formatına çeviriyorum.\n",
    "df_bm['TIME'] = pd.to_datetime(df['date']).dt.year\n"
   ]
  },
  {
   "cell_type": "code",
   "execution_count": 15,
   "id": "7de2e0c5",
   "metadata": {},
   "outputs": [
    {
     "data": {
      "text/html": [
       "<div>\n",
       "<style scoped>\n",
       "    .dataframe tbody tr th:only-of-type {\n",
       "        vertical-align: middle;\n",
       "    }\n",
       "\n",
       "    .dataframe tbody tr th {\n",
       "        vertical-align: top;\n",
       "    }\n",
       "\n",
       "    .dataframe thead th {\n",
       "        text-align: right;\n",
       "    }\n",
       "</style>\n",
       "<table border=\"1\" class=\"dataframe\">\n",
       "  <thead>\n",
       "    <tr style=\"text-align: right;\">\n",
       "      <th></th>\n",
       "      <th>date</th>\n",
       "      <th>currency_code</th>\n",
       "      <th>name</th>\n",
       "      <th>local_price</th>\n",
       "      <th>dollar_ex</th>\n",
       "      <th>dollar_price</th>\n",
       "      <th>TIME</th>\n",
       "    </tr>\n",
       "  </thead>\n",
       "  <tbody>\n",
       "    <tr>\n",
       "      <th>86</th>\n",
       "      <td>2002-04-01</td>\n",
       "      <td>TRY</td>\n",
       "      <td>Turkey</td>\n",
       "      <td>4.00</td>\n",
       "      <td>1.32450</td>\n",
       "      <td>3.020008</td>\n",
       "      <td>2002</td>\n",
       "    </tr>\n",
       "    <tr>\n",
       "      <th>117</th>\n",
       "      <td>2003-04-01</td>\n",
       "      <td>TRY</td>\n",
       "      <td>Turkey</td>\n",
       "      <td>3.75</td>\n",
       "      <td>1.60050</td>\n",
       "      <td>2.343018</td>\n",
       "      <td>2003</td>\n",
       "    </tr>\n",
       "    <tr>\n",
       "      <th>154</th>\n",
       "      <td>2004-05-01</td>\n",
       "      <td>TRY</td>\n",
       "      <td>Turkey</td>\n",
       "      <td>3.95</td>\n",
       "      <td>1.53100</td>\n",
       "      <td>2.580013</td>\n",
       "      <td>2004</td>\n",
       "    </tr>\n",
       "    <tr>\n",
       "      <th>193</th>\n",
       "      <td>2005-06-01</td>\n",
       "      <td>TRY</td>\n",
       "      <td>Turkey</td>\n",
       "      <td>4.00</td>\n",
       "      <td>1.36900</td>\n",
       "      <td>2.921841</td>\n",
       "      <td>2005</td>\n",
       "    </tr>\n",
       "    <tr>\n",
       "      <th>227</th>\n",
       "      <td>2006-01-01</td>\n",
       "      <td>TRY</td>\n",
       "      <td>Turkey</td>\n",
       "      <td>4.10</td>\n",
       "      <td>1.33650</td>\n",
       "      <td>3.067714</td>\n",
       "      <td>2006</td>\n",
       "    </tr>\n",
       "    <tr>\n",
       "      <th>264</th>\n",
       "      <td>2006-05-01</td>\n",
       "      <td>TRY</td>\n",
       "      <td>Turkey</td>\n",
       "      <td>4.20</td>\n",
       "      <td>1.54150</td>\n",
       "      <td>2.724619</td>\n",
       "      <td>2006</td>\n",
       "    </tr>\n",
       "    <tr>\n",
       "      <th>304</th>\n",
       "      <td>2007-01-01</td>\n",
       "      <td>TRY</td>\n",
       "      <td>Turkey</td>\n",
       "      <td>4.55</td>\n",
       "      <td>1.40975</td>\n",
       "      <td>3.227523</td>\n",
       "      <td>2007</td>\n",
       "    </tr>\n",
       "    <tr>\n",
       "      <th>344</th>\n",
       "      <td>2007-06-01</td>\n",
       "      <td>TRY</td>\n",
       "      <td>Turkey</td>\n",
       "      <td>4.75</td>\n",
       "      <td>1.29810</td>\n",
       "      <td>3.659194</td>\n",
       "      <td>2007</td>\n",
       "    </tr>\n",
       "    <tr>\n",
       "      <th>384</th>\n",
       "      <td>2008-06-01</td>\n",
       "      <td>TRY</td>\n",
       "      <td>Turkey</td>\n",
       "      <td>5.15</td>\n",
       "      <td>1.19275</td>\n",
       "      <td>4.317753</td>\n",
       "      <td>2008</td>\n",
       "    </tr>\n",
       "    <tr>\n",
       "      <th>425</th>\n",
       "      <td>2009-07-01</td>\n",
       "      <td>TRY</td>\n",
       "      <td>Turkey</td>\n",
       "      <td>5.65</td>\n",
       "      <td>1.55005</td>\n",
       "      <td>3.645044</td>\n",
       "      <td>2009</td>\n",
       "    </tr>\n",
       "    <tr>\n",
       "      <th>466</th>\n",
       "      <td>2010-01-01</td>\n",
       "      <td>TRY</td>\n",
       "      <td>Turkey</td>\n",
       "      <td>5.65</td>\n",
       "      <td>1.47455</td>\n",
       "      <td>3.831677</td>\n",
       "      <td>2010</td>\n",
       "    </tr>\n",
       "    <tr>\n",
       "      <th>507</th>\n",
       "      <td>2010-07-01</td>\n",
       "      <td>TRY</td>\n",
       "      <td>Turkey</td>\n",
       "      <td>5.95</td>\n",
       "      <td>1.52930</td>\n",
       "      <td>3.890669</td>\n",
       "      <td>2010</td>\n",
       "    </tr>\n",
       "    <tr>\n",
       "      <th>549</th>\n",
       "      <td>2011-07-01</td>\n",
       "      <td>TRY</td>\n",
       "      <td>Turkey</td>\n",
       "      <td>6.50</td>\n",
       "      <td>1.72285</td>\n",
       "      <td>3.772818</td>\n",
       "      <td>2011</td>\n",
       "    </tr>\n",
       "    <tr>\n",
       "      <th>591</th>\n",
       "      <td>2012-01-01</td>\n",
       "      <td>TRY</td>\n",
       "      <td>Turkey</td>\n",
       "      <td>6.60</td>\n",
       "      <td>1.86295</td>\n",
       "      <td>3.542768</td>\n",
       "      <td>2012</td>\n",
       "    </tr>\n",
       "    <tr>\n",
       "      <th>631</th>\n",
       "      <td>2012-07-01</td>\n",
       "      <td>TRY</td>\n",
       "      <td>Turkey</td>\n",
       "      <td>8.25</td>\n",
       "      <td>1.82690</td>\n",
       "      <td>4.515847</td>\n",
       "      <td>2012</td>\n",
       "    </tr>\n",
       "    <tr>\n",
       "      <th>673</th>\n",
       "      <td>2013-01-01</td>\n",
       "      <td>TRY</td>\n",
       "      <td>Turkey</td>\n",
       "      <td>8.45</td>\n",
       "      <td>1.76875</td>\n",
       "      <td>4.777385</td>\n",
       "      <td>2013</td>\n",
       "    </tr>\n",
       "    <tr>\n",
       "      <th>715</th>\n",
       "      <td>2013-07-01</td>\n",
       "      <td>TRY</td>\n",
       "      <td>Turkey</td>\n",
       "      <td>8.50</td>\n",
       "      <td>1.95745</td>\n",
       "      <td>4.342384</td>\n",
       "      <td>2013</td>\n",
       "    </tr>\n",
       "    <tr>\n",
       "      <th>757</th>\n",
       "      <td>2014-01-01</td>\n",
       "      <td>TRY</td>\n",
       "      <td>Turkey</td>\n",
       "      <td>8.50</td>\n",
       "      <td>2.26155</td>\n",
       "      <td>3.758484</td>\n",
       "      <td>2014</td>\n",
       "    </tr>\n",
       "    <tr>\n",
       "      <th>799</th>\n",
       "      <td>2014-07-01</td>\n",
       "      <td>TRY</td>\n",
       "      <td>Turkey</td>\n",
       "      <td>9.25</td>\n",
       "      <td>2.09125</td>\n",
       "      <td>4.423192</td>\n",
       "      <td>2014</td>\n",
       "    </tr>\n",
       "    <tr>\n",
       "      <th>842</th>\n",
       "      <td>2015-01-01</td>\n",
       "      <td>TRY</td>\n",
       "      <td>Turkey</td>\n",
       "      <td>9.25</td>\n",
       "      <td>2.33345</td>\n",
       "      <td>3.964088</td>\n",
       "      <td>2015</td>\n",
       "    </tr>\n",
       "    <tr>\n",
       "      <th>885</th>\n",
       "      <td>2015-07-01</td>\n",
       "      <td>TRY</td>\n",
       "      <td>Turkey</td>\n",
       "      <td>10.25</td>\n",
       "      <td>2.64570</td>\n",
       "      <td>3.874211</td>\n",
       "      <td>2015</td>\n",
       "    </tr>\n",
       "    <tr>\n",
       "      <th>928</th>\n",
       "      <td>2016-01-01</td>\n",
       "      <td>TRY</td>\n",
       "      <td>Turkey</td>\n",
       "      <td>10.25</td>\n",
       "      <td>3.00960</td>\n",
       "      <td>3.405768</td>\n",
       "      <td>2016</td>\n",
       "    </tr>\n",
       "    <tr>\n",
       "      <th>971</th>\n",
       "      <td>2016-07-01</td>\n",
       "      <td>TRY</td>\n",
       "      <td>Turkey</td>\n",
       "      <td>10.75</td>\n",
       "      <td>3.04305</td>\n",
       "      <td>3.532640</td>\n",
       "      <td>2016</td>\n",
       "    </tr>\n",
       "    <tr>\n",
       "      <th>1014</th>\n",
       "      <td>2017-01-01</td>\n",
       "      <td>TRY</td>\n",
       "      <td>Turkey</td>\n",
       "      <td>10.75</td>\n",
       "      <td>3.91115</td>\n",
       "      <td>2.748552</td>\n",
       "      <td>2017</td>\n",
       "    </tr>\n",
       "    <tr>\n",
       "      <th>1057</th>\n",
       "      <td>2017-07-01</td>\n",
       "      <td>TRY</td>\n",
       "      <td>Turkey</td>\n",
       "      <td>10.75</td>\n",
       "      <td>3.57605</td>\n",
       "      <td>3.006110</td>\n",
       "      <td>2017</td>\n",
       "    </tr>\n",
       "    <tr>\n",
       "      <th>1100</th>\n",
       "      <td>2018-01-01</td>\n",
       "      <td>TRY</td>\n",
       "      <td>Turkey</td>\n",
       "      <td>10.75</td>\n",
       "      <td>3.80260</td>\n",
       "      <td>2.827013</td>\n",
       "      <td>2018</td>\n",
       "    </tr>\n",
       "    <tr>\n",
       "      <th>1156</th>\n",
       "      <td>2018-07-01</td>\n",
       "      <td>TRY</td>\n",
       "      <td>Turkey</td>\n",
       "      <td>10.75</td>\n",
       "      <td>4.70625</td>\n",
       "      <td>2.284197</td>\n",
       "      <td>2018</td>\n",
       "    </tr>\n",
       "    <tr>\n",
       "      <th>1212</th>\n",
       "      <td>2019-01-01</td>\n",
       "      <td>TRY</td>\n",
       "      <td>Turkey</td>\n",
       "      <td>10.75</td>\n",
       "      <td>5.38340</td>\n",
       "      <td>1.996879</td>\n",
       "      <td>2019</td>\n",
       "    </tr>\n",
       "    <tr>\n",
       "      <th>1268</th>\n",
       "      <td>2019-07-09</td>\n",
       "      <td>TRY</td>\n",
       "      <td>Turkey</td>\n",
       "      <td>13.99</td>\n",
       "      <td>5.72200</td>\n",
       "      <td>2.444949</td>\n",
       "      <td>2019</td>\n",
       "    </tr>\n",
       "    <tr>\n",
       "      <th>1324</th>\n",
       "      <td>2020-01-14</td>\n",
       "      <td>TRY</td>\n",
       "      <td>Turkey</td>\n",
       "      <td>12.99</td>\n",
       "      <td>5.88025</td>\n",
       "      <td>2.209090</td>\n",
       "      <td>2020</td>\n",
       "    </tr>\n",
       "  </tbody>\n",
       "</table>\n",
       "</div>"
      ],
      "text/plain": [
       "            date currency_code    name  local_price  dollar_ex  dollar_price  \\\n",
       "86    2002-04-01           TRY  Turkey         4.00    1.32450      3.020008   \n",
       "117   2003-04-01           TRY  Turkey         3.75    1.60050      2.343018   \n",
       "154   2004-05-01           TRY  Turkey         3.95    1.53100      2.580013   \n",
       "193   2005-06-01           TRY  Turkey         4.00    1.36900      2.921841   \n",
       "227   2006-01-01           TRY  Turkey         4.10    1.33650      3.067714   \n",
       "264   2006-05-01           TRY  Turkey         4.20    1.54150      2.724619   \n",
       "304   2007-01-01           TRY  Turkey         4.55    1.40975      3.227523   \n",
       "344   2007-06-01           TRY  Turkey         4.75    1.29810      3.659194   \n",
       "384   2008-06-01           TRY  Turkey         5.15    1.19275      4.317753   \n",
       "425   2009-07-01           TRY  Turkey         5.65    1.55005      3.645044   \n",
       "466   2010-01-01           TRY  Turkey         5.65    1.47455      3.831677   \n",
       "507   2010-07-01           TRY  Turkey         5.95    1.52930      3.890669   \n",
       "549   2011-07-01           TRY  Turkey         6.50    1.72285      3.772818   \n",
       "591   2012-01-01           TRY  Turkey         6.60    1.86295      3.542768   \n",
       "631   2012-07-01           TRY  Turkey         8.25    1.82690      4.515847   \n",
       "673   2013-01-01           TRY  Turkey         8.45    1.76875      4.777385   \n",
       "715   2013-07-01           TRY  Turkey         8.50    1.95745      4.342384   \n",
       "757   2014-01-01           TRY  Turkey         8.50    2.26155      3.758484   \n",
       "799   2014-07-01           TRY  Turkey         9.25    2.09125      4.423192   \n",
       "842   2015-01-01           TRY  Turkey         9.25    2.33345      3.964088   \n",
       "885   2015-07-01           TRY  Turkey        10.25    2.64570      3.874211   \n",
       "928   2016-01-01           TRY  Turkey        10.25    3.00960      3.405768   \n",
       "971   2016-07-01           TRY  Turkey        10.75    3.04305      3.532640   \n",
       "1014  2017-01-01           TRY  Turkey        10.75    3.91115      2.748552   \n",
       "1057  2017-07-01           TRY  Turkey        10.75    3.57605      3.006110   \n",
       "1100  2018-01-01           TRY  Turkey        10.75    3.80260      2.827013   \n",
       "1156  2018-07-01           TRY  Turkey        10.75    4.70625      2.284197   \n",
       "1212  2019-01-01           TRY  Turkey        10.75    5.38340      1.996879   \n",
       "1268  2019-07-09           TRY  Turkey        13.99    5.72200      2.444949   \n",
       "1324  2020-01-14           TRY  Turkey        12.99    5.88025      2.209090   \n",
       "\n",
       "      TIME  \n",
       "86    2002  \n",
       "117   2003  \n",
       "154   2004  \n",
       "193   2005  \n",
       "227   2006  \n",
       "264   2006  \n",
       "304   2007  \n",
       "344   2007  \n",
       "384   2008  \n",
       "425   2009  \n",
       "466   2010  \n",
       "507   2010  \n",
       "549   2011  \n",
       "591   2012  \n",
       "631   2012  \n",
       "673   2013  \n",
       "715   2013  \n",
       "757   2014  \n",
       "799   2014  \n",
       "842   2015  \n",
       "885   2015  \n",
       "928   2016  \n",
       "971   2016  \n",
       "1014  2017  \n",
       "1057  2017  \n",
       "1100  2018  \n",
       "1156  2018  \n",
       "1212  2019  \n",
       "1268  2019  \n",
       "1324  2020  "
      ]
     },
     "execution_count": 15,
     "metadata": {},
     "output_type": "execute_result"
    }
   ],
   "source": [
    "df_bm"
   ]
  },
  {
   "cell_type": "code",
   "execution_count": 16,
   "id": "e2b08fac",
   "metadata": {},
   "outputs": [
    {
     "name": "stdout",
     "output_type": "stream",
     "text": [
      "<class 'pandas.core.frame.DataFrame'>\n",
      "Int64Index: 30 entries, 86 to 1324\n",
      "Data columns (total 7 columns):\n",
      " #   Column         Non-Null Count  Dtype  \n",
      "---  ------         --------------  -----  \n",
      " 0   date           30 non-null     object \n",
      " 1   currency_code  30 non-null     object \n",
      " 2   name           30 non-null     object \n",
      " 3   local_price    30 non-null     float64\n",
      " 4   dollar_ex      30 non-null     float64\n",
      " 5   dollar_price   30 non-null     float64\n",
      " 6   TIME           30 non-null     int64  \n",
      "dtypes: float64(3), int64(1), object(3)\n",
      "memory usage: 1.9+ KB\n"
     ]
    }
   ],
   "source": [
    "df_bm.info()"
   ]
  },
  {
   "cell_type": "code",
   "execution_count": 17,
   "id": "ea1d0596",
   "metadata": {},
   "outputs": [
    {
     "data": {
      "text/plain": [
       "date             0\n",
       "currency_code    0\n",
       "name             0\n",
       "local_price      0\n",
       "dollar_ex        0\n",
       "dollar_price     0\n",
       "dtype: int64"
      ]
     },
     "execution_count": 17,
     "metadata": {},
     "output_type": "execute_result"
    }
   ],
   "source": [
    "#boş veri olmadığını görüyoruz fakat yine de kontrol edelim.\n",
    "df2.isnull().sum()"
   ]
  },
  {
   "cell_type": "code",
   "execution_count": 18,
   "id": "0891431b",
   "metadata": {},
   "outputs": [
    {
     "data": {
      "text/html": [
       "<div>\n",
       "<style scoped>\n",
       "    .dataframe tbody tr th:only-of-type {\n",
       "        vertical-align: middle;\n",
       "    }\n",
       "\n",
       "    .dataframe tbody tr th {\n",
       "        vertical-align: top;\n",
       "    }\n",
       "\n",
       "    .dataframe thead th {\n",
       "        text-align: right;\n",
       "    }\n",
       "</style>\n",
       "<table border=\"1\" class=\"dataframe\">\n",
       "  <thead>\n",
       "    <tr style=\"text-align: right;\">\n",
       "      <th></th>\n",
       "      <th>local_price</th>\n",
       "      <th>dollar_ex</th>\n",
       "      <th>dollar_price</th>\n",
       "      <th>TIME</th>\n",
       "    </tr>\n",
       "  </thead>\n",
       "  <tbody>\n",
       "    <tr>\n",
       "      <th>count</th>\n",
       "      <td>30.000000</td>\n",
       "      <td>30.000000</td>\n",
       "      <td>30.000000</td>\n",
       "      <td>30.000000</td>\n",
       "    </tr>\n",
       "    <tr>\n",
       "      <th>mean</th>\n",
       "      <td>7.766000</td>\n",
       "      <td>2.488757</td>\n",
       "      <td>3.355182</td>\n",
       "      <td>2011.866667</td>\n",
       "    </tr>\n",
       "    <tr>\n",
       "      <th>std</th>\n",
       "      <td>3.021118</td>\n",
       "      <td>1.400374</td>\n",
       "      <td>0.753684</td>\n",
       "      <td>5.230767</td>\n",
       "    </tr>\n",
       "    <tr>\n",
       "      <th>min</th>\n",
       "      <td>3.750000</td>\n",
       "      <td>1.192750</td>\n",
       "      <td>1.996879</td>\n",
       "      <td>2002.000000</td>\n",
       "    </tr>\n",
       "    <tr>\n",
       "      <th>25%</th>\n",
       "      <td>4.850000</td>\n",
       "      <td>1.529725</td>\n",
       "      <td>2.768167</td>\n",
       "      <td>2007.250000</td>\n",
       "    </tr>\n",
       "    <tr>\n",
       "      <th>50%</th>\n",
       "      <td>8.350000</td>\n",
       "      <td>1.844925</td>\n",
       "      <td>3.469204</td>\n",
       "      <td>2012.500000</td>\n",
       "    </tr>\n",
       "    <tr>\n",
       "      <th>75%</th>\n",
       "      <td>10.625000</td>\n",
       "      <td>3.034687</td>\n",
       "      <td>3.863578</td>\n",
       "      <td>2016.000000</td>\n",
       "    </tr>\n",
       "    <tr>\n",
       "      <th>max</th>\n",
       "      <td>13.990000</td>\n",
       "      <td>5.880250</td>\n",
       "      <td>4.777385</td>\n",
       "      <td>2020.000000</td>\n",
       "    </tr>\n",
       "  </tbody>\n",
       "</table>\n",
       "</div>"
      ],
      "text/plain": [
       "       local_price  dollar_ex  dollar_price         TIME\n",
       "count    30.000000  30.000000     30.000000    30.000000\n",
       "mean      7.766000   2.488757      3.355182  2011.866667\n",
       "std       3.021118   1.400374      0.753684     5.230767\n",
       "min       3.750000   1.192750      1.996879  2002.000000\n",
       "25%       4.850000   1.529725      2.768167  2007.250000\n",
       "50%       8.350000   1.844925      3.469204  2012.500000\n",
       "75%      10.625000   3.034687      3.863578  2016.000000\n",
       "max      13.990000   5.880250      4.777385  2020.000000"
      ]
     },
     "execution_count": 18,
     "metadata": {},
     "output_type": "execute_result"
    }
   ],
   "source": [
    "#istatiksel özetine bakalım.\n",
    "\n",
    "df_bm.describe()"
   ]
  },
  {
   "cell_type": "code",
   "execution_count": 49,
   "id": "7cafa9bd",
   "metadata": {},
   "outputs": [
    {
     "data": {
      "application/vnd.plotly.v1+json": {
       "config": {
        "plotlyServerURL": "https://plot.ly"
       },
       "data": [
        {
         "marker": {
          "color": "indianred"
         },
         "name": "Turkish Lira",
         "type": "bar",
         "x": [
          2002,
          2003,
          2004,
          2005,
          2006,
          2006,
          2007,
          2007,
          2008,
          2009,
          2010,
          2010,
          2011,
          2012,
          2012,
          2013,
          2013,
          2014,
          2014,
          2015,
          2015,
          2016,
          2016,
          2017,
          2017,
          2018,
          2018,
          2019,
          2019,
          2020
         ],
         "y": [
          4,
          3.75,
          3.95,
          4,
          4.1,
          4.2,
          4.55,
          4.75,
          5.15,
          5.65,
          5.65,
          5.95,
          6.5,
          6.6,
          8.25,
          8.45,
          8.5,
          8.5,
          9.25,
          9.25,
          10.25,
          10.25,
          10.75,
          10.75,
          10.75,
          10.75,
          10.75,
          10.75,
          13.99,
          12.99
         ]
        },
        {
         "marker": {
          "color": "lightsalmon"
         },
         "name": "Dollar",
         "type": "bar",
         "x": [
          2002,
          2003,
          2004,
          2005,
          2006,
          2006,
          2007,
          2007,
          2008,
          2009,
          2010,
          2010,
          2011,
          2012,
          2012,
          2013,
          2013,
          2014,
          2014,
          2015,
          2015,
          2016,
          2016,
          2017,
          2017,
          2018,
          2018,
          2019,
          2019,
          2020
         ],
         "y": [
          3.02000755001888,
          2.3430178069353302,
          2.58001306335728,
          2.9218407596786,
          3.06771417882529,
          2.7246188777165097,
          3.22752261039191,
          3.6591942069178,
          4.31775309159505,
          3.64504370826748,
          3.83167746092028,
          3.89066893349899,
          3.77281829526656,
          3.54276819023592,
          4.51584651595599,
          4.7773851590106,
          4.34238422437355,
          3.75848422542062,
          4.42319187089062,
          3.964087509910221,
          3.8742109838606,
          3.40576820839979,
          3.53263995005011,
          2.74855221610012,
          3.00611009353896,
          2.827013096302529,
          2.28419654714475,
          1.99687929561244,
          2.44494931842013,
          2.20908974958548
         ]
        }
       ],
       "layout": {
        "barmode": "group",
        "template": {
         "data": {
          "bar": [
           {
            "error_x": {
             "color": "#2a3f5f"
            },
            "error_y": {
             "color": "#2a3f5f"
            },
            "marker": {
             "line": {
              "color": "#E5ECF6",
              "width": 0.5
             },
             "pattern": {
              "fillmode": "overlay",
              "size": 10,
              "solidity": 0.2
             }
            },
            "type": "bar"
           }
          ],
          "barpolar": [
           {
            "marker": {
             "line": {
              "color": "#E5ECF6",
              "width": 0.5
             },
             "pattern": {
              "fillmode": "overlay",
              "size": 10,
              "solidity": 0.2
             }
            },
            "type": "barpolar"
           }
          ],
          "carpet": [
           {
            "aaxis": {
             "endlinecolor": "#2a3f5f",
             "gridcolor": "white",
             "linecolor": "white",
             "minorgridcolor": "white",
             "startlinecolor": "#2a3f5f"
            },
            "baxis": {
             "endlinecolor": "#2a3f5f",
             "gridcolor": "white",
             "linecolor": "white",
             "minorgridcolor": "white",
             "startlinecolor": "#2a3f5f"
            },
            "type": "carpet"
           }
          ],
          "choropleth": [
           {
            "colorbar": {
             "outlinewidth": 0,
             "ticks": ""
            },
            "type": "choropleth"
           }
          ],
          "contour": [
           {
            "colorbar": {
             "outlinewidth": 0,
             "ticks": ""
            },
            "colorscale": [
             [
              0,
              "#0d0887"
             ],
             [
              0.1111111111111111,
              "#46039f"
             ],
             [
              0.2222222222222222,
              "#7201a8"
             ],
             [
              0.3333333333333333,
              "#9c179e"
             ],
             [
              0.4444444444444444,
              "#bd3786"
             ],
             [
              0.5555555555555556,
              "#d8576b"
             ],
             [
              0.6666666666666666,
              "#ed7953"
             ],
             [
              0.7777777777777778,
              "#fb9f3a"
             ],
             [
              0.8888888888888888,
              "#fdca26"
             ],
             [
              1,
              "#f0f921"
             ]
            ],
            "type": "contour"
           }
          ],
          "contourcarpet": [
           {
            "colorbar": {
             "outlinewidth": 0,
             "ticks": ""
            },
            "type": "contourcarpet"
           }
          ],
          "heatmap": [
           {
            "colorbar": {
             "outlinewidth": 0,
             "ticks": ""
            },
            "colorscale": [
             [
              0,
              "#0d0887"
             ],
             [
              0.1111111111111111,
              "#46039f"
             ],
             [
              0.2222222222222222,
              "#7201a8"
             ],
             [
              0.3333333333333333,
              "#9c179e"
             ],
             [
              0.4444444444444444,
              "#bd3786"
             ],
             [
              0.5555555555555556,
              "#d8576b"
             ],
             [
              0.6666666666666666,
              "#ed7953"
             ],
             [
              0.7777777777777778,
              "#fb9f3a"
             ],
             [
              0.8888888888888888,
              "#fdca26"
             ],
             [
              1,
              "#f0f921"
             ]
            ],
            "type": "heatmap"
           }
          ],
          "heatmapgl": [
           {
            "colorbar": {
             "outlinewidth": 0,
             "ticks": ""
            },
            "colorscale": [
             [
              0,
              "#0d0887"
             ],
             [
              0.1111111111111111,
              "#46039f"
             ],
             [
              0.2222222222222222,
              "#7201a8"
             ],
             [
              0.3333333333333333,
              "#9c179e"
             ],
             [
              0.4444444444444444,
              "#bd3786"
             ],
             [
              0.5555555555555556,
              "#d8576b"
             ],
             [
              0.6666666666666666,
              "#ed7953"
             ],
             [
              0.7777777777777778,
              "#fb9f3a"
             ],
             [
              0.8888888888888888,
              "#fdca26"
             ],
             [
              1,
              "#f0f921"
             ]
            ],
            "type": "heatmapgl"
           }
          ],
          "histogram": [
           {
            "marker": {
             "pattern": {
              "fillmode": "overlay",
              "size": 10,
              "solidity": 0.2
             }
            },
            "type": "histogram"
           }
          ],
          "histogram2d": [
           {
            "colorbar": {
             "outlinewidth": 0,
             "ticks": ""
            },
            "colorscale": [
             [
              0,
              "#0d0887"
             ],
             [
              0.1111111111111111,
              "#46039f"
             ],
             [
              0.2222222222222222,
              "#7201a8"
             ],
             [
              0.3333333333333333,
              "#9c179e"
             ],
             [
              0.4444444444444444,
              "#bd3786"
             ],
             [
              0.5555555555555556,
              "#d8576b"
             ],
             [
              0.6666666666666666,
              "#ed7953"
             ],
             [
              0.7777777777777778,
              "#fb9f3a"
             ],
             [
              0.8888888888888888,
              "#fdca26"
             ],
             [
              1,
              "#f0f921"
             ]
            ],
            "type": "histogram2d"
           }
          ],
          "histogram2dcontour": [
           {
            "colorbar": {
             "outlinewidth": 0,
             "ticks": ""
            },
            "colorscale": [
             [
              0,
              "#0d0887"
             ],
             [
              0.1111111111111111,
              "#46039f"
             ],
             [
              0.2222222222222222,
              "#7201a8"
             ],
             [
              0.3333333333333333,
              "#9c179e"
             ],
             [
              0.4444444444444444,
              "#bd3786"
             ],
             [
              0.5555555555555556,
              "#d8576b"
             ],
             [
              0.6666666666666666,
              "#ed7953"
             ],
             [
              0.7777777777777778,
              "#fb9f3a"
             ],
             [
              0.8888888888888888,
              "#fdca26"
             ],
             [
              1,
              "#f0f921"
             ]
            ],
            "type": "histogram2dcontour"
           }
          ],
          "mesh3d": [
           {
            "colorbar": {
             "outlinewidth": 0,
             "ticks": ""
            },
            "type": "mesh3d"
           }
          ],
          "parcoords": [
           {
            "line": {
             "colorbar": {
              "outlinewidth": 0,
              "ticks": ""
             }
            },
            "type": "parcoords"
           }
          ],
          "pie": [
           {
            "automargin": true,
            "type": "pie"
           }
          ],
          "scatter": [
           {
            "fillpattern": {
             "fillmode": "overlay",
             "size": 10,
             "solidity": 0.2
            },
            "type": "scatter"
           }
          ],
          "scatter3d": [
           {
            "line": {
             "colorbar": {
              "outlinewidth": 0,
              "ticks": ""
             }
            },
            "marker": {
             "colorbar": {
              "outlinewidth": 0,
              "ticks": ""
             }
            },
            "type": "scatter3d"
           }
          ],
          "scattercarpet": [
           {
            "marker": {
             "colorbar": {
              "outlinewidth": 0,
              "ticks": ""
             }
            },
            "type": "scattercarpet"
           }
          ],
          "scattergeo": [
           {
            "marker": {
             "colorbar": {
              "outlinewidth": 0,
              "ticks": ""
             }
            },
            "type": "scattergeo"
           }
          ],
          "scattergl": [
           {
            "marker": {
             "colorbar": {
              "outlinewidth": 0,
              "ticks": ""
             }
            },
            "type": "scattergl"
           }
          ],
          "scattermapbox": [
           {
            "marker": {
             "colorbar": {
              "outlinewidth": 0,
              "ticks": ""
             }
            },
            "type": "scattermapbox"
           }
          ],
          "scatterpolar": [
           {
            "marker": {
             "colorbar": {
              "outlinewidth": 0,
              "ticks": ""
             }
            },
            "type": "scatterpolar"
           }
          ],
          "scatterpolargl": [
           {
            "marker": {
             "colorbar": {
              "outlinewidth": 0,
              "ticks": ""
             }
            },
            "type": "scatterpolargl"
           }
          ],
          "scatterternary": [
           {
            "marker": {
             "colorbar": {
              "outlinewidth": 0,
              "ticks": ""
             }
            },
            "type": "scatterternary"
           }
          ],
          "surface": [
           {
            "colorbar": {
             "outlinewidth": 0,
             "ticks": ""
            },
            "colorscale": [
             [
              0,
              "#0d0887"
             ],
             [
              0.1111111111111111,
              "#46039f"
             ],
             [
              0.2222222222222222,
              "#7201a8"
             ],
             [
              0.3333333333333333,
              "#9c179e"
             ],
             [
              0.4444444444444444,
              "#bd3786"
             ],
             [
              0.5555555555555556,
              "#d8576b"
             ],
             [
              0.6666666666666666,
              "#ed7953"
             ],
             [
              0.7777777777777778,
              "#fb9f3a"
             ],
             [
              0.8888888888888888,
              "#fdca26"
             ],
             [
              1,
              "#f0f921"
             ]
            ],
            "type": "surface"
           }
          ],
          "table": [
           {
            "cells": {
             "fill": {
              "color": "#EBF0F8"
             },
             "line": {
              "color": "white"
             }
            },
            "header": {
             "fill": {
              "color": "#C8D4E3"
             },
             "line": {
              "color": "white"
             }
            },
            "type": "table"
           }
          ]
         },
         "layout": {
          "annotationdefaults": {
           "arrowcolor": "#2a3f5f",
           "arrowhead": 0,
           "arrowwidth": 1
          },
          "autotypenumbers": "strict",
          "coloraxis": {
           "colorbar": {
            "outlinewidth": 0,
            "ticks": ""
           }
          },
          "colorscale": {
           "diverging": [
            [
             0,
             "#8e0152"
            ],
            [
             0.1,
             "#c51b7d"
            ],
            [
             0.2,
             "#de77ae"
            ],
            [
             0.3,
             "#f1b6da"
            ],
            [
             0.4,
             "#fde0ef"
            ],
            [
             0.5,
             "#f7f7f7"
            ],
            [
             0.6,
             "#e6f5d0"
            ],
            [
             0.7,
             "#b8e186"
            ],
            [
             0.8,
             "#7fbc41"
            ],
            [
             0.9,
             "#4d9221"
            ],
            [
             1,
             "#276419"
            ]
           ],
           "sequential": [
            [
             0,
             "#0d0887"
            ],
            [
             0.1111111111111111,
             "#46039f"
            ],
            [
             0.2222222222222222,
             "#7201a8"
            ],
            [
             0.3333333333333333,
             "#9c179e"
            ],
            [
             0.4444444444444444,
             "#bd3786"
            ],
            [
             0.5555555555555556,
             "#d8576b"
            ],
            [
             0.6666666666666666,
             "#ed7953"
            ],
            [
             0.7777777777777778,
             "#fb9f3a"
            ],
            [
             0.8888888888888888,
             "#fdca26"
            ],
            [
             1,
             "#f0f921"
            ]
           ],
           "sequentialminus": [
            [
             0,
             "#0d0887"
            ],
            [
             0.1111111111111111,
             "#46039f"
            ],
            [
             0.2222222222222222,
             "#7201a8"
            ],
            [
             0.3333333333333333,
             "#9c179e"
            ],
            [
             0.4444444444444444,
             "#bd3786"
            ],
            [
             0.5555555555555556,
             "#d8576b"
            ],
            [
             0.6666666666666666,
             "#ed7953"
            ],
            [
             0.7777777777777778,
             "#fb9f3a"
            ],
            [
             0.8888888888888888,
             "#fdca26"
            ],
            [
             1,
             "#f0f921"
            ]
           ]
          },
          "colorway": [
           "#636efa",
           "#EF553B",
           "#00cc96",
           "#ab63fa",
           "#FFA15A",
           "#19d3f3",
           "#FF6692",
           "#B6E880",
           "#FF97FF",
           "#FECB52"
          ],
          "font": {
           "color": "#2a3f5f"
          },
          "geo": {
           "bgcolor": "white",
           "lakecolor": "white",
           "landcolor": "#E5ECF6",
           "showlakes": true,
           "showland": true,
           "subunitcolor": "white"
          },
          "hoverlabel": {
           "align": "left"
          },
          "hovermode": "closest",
          "mapbox": {
           "style": "light"
          },
          "paper_bgcolor": "white",
          "plot_bgcolor": "#E5ECF6",
          "polar": {
           "angularaxis": {
            "gridcolor": "white",
            "linecolor": "white",
            "ticks": ""
           },
           "bgcolor": "#E5ECF6",
           "radialaxis": {
            "gridcolor": "white",
            "linecolor": "white",
            "ticks": ""
           }
          },
          "scene": {
           "xaxis": {
            "backgroundcolor": "#E5ECF6",
            "gridcolor": "white",
            "gridwidth": 2,
            "linecolor": "white",
            "showbackground": true,
            "ticks": "",
            "zerolinecolor": "white"
           },
           "yaxis": {
            "backgroundcolor": "#E5ECF6",
            "gridcolor": "white",
            "gridwidth": 2,
            "linecolor": "white",
            "showbackground": true,
            "ticks": "",
            "zerolinecolor": "white"
           },
           "zaxis": {
            "backgroundcolor": "#E5ECF6",
            "gridcolor": "white",
            "gridwidth": 2,
            "linecolor": "white",
            "showbackground": true,
            "ticks": "",
            "zerolinecolor": "white"
           }
          },
          "shapedefaults": {
           "line": {
            "color": "#2a3f5f"
           }
          },
          "ternary": {
           "aaxis": {
            "gridcolor": "white",
            "linecolor": "white",
            "ticks": ""
           },
           "baxis": {
            "gridcolor": "white",
            "linecolor": "white",
            "ticks": ""
           },
           "bgcolor": "#E5ECF6",
           "caxis": {
            "gridcolor": "white",
            "linecolor": "white",
            "ticks": ""
           }
          },
          "title": {
           "x": 0.05
          },
          "xaxis": {
           "automargin": true,
           "gridcolor": "white",
           "linecolor": "white",
           "ticks": "",
           "title": {
            "standoff": 15
           },
           "zerolinecolor": "white",
           "zerolinewidth": 2
          },
          "yaxis": {
           "automargin": true,
           "gridcolor": "white",
           "linecolor": "white",
           "ticks": "",
           "title": {
            "standoff": 15
           },
           "zerolinecolor": "white",
           "zerolinewidth": 2
          }
         }
        },
        "xaxis": {
         "tickangle": -45
        }
       }
      },
      "text/html": [
       "<div>                            <div id=\"d84e000c-1ec4-4c29-995c-5535f771a92e\" class=\"plotly-graph-div\" style=\"height:525px; width:100%;\"></div>            <script type=\"text/javascript\">                require([\"plotly\"], function(Plotly) {                    window.PLOTLYENV=window.PLOTLYENV || {};                                    if (document.getElementById(\"d84e000c-1ec4-4c29-995c-5535f771a92e\")) {                    Plotly.newPlot(                        \"d84e000c-1ec4-4c29-995c-5535f771a92e\",                        [{\"marker\":{\"color\":\"indianred\"},\"name\":\"Turkish Lira\",\"x\":[2002,2003,2004,2005,2006,2006,2007,2007,2008,2009,2010,2010,2011,2012,2012,2013,2013,2014,2014,2015,2015,2016,2016,2017,2017,2018,2018,2019,2019,2020],\"y\":[4.0,3.75,3.95,4.0,4.1,4.2,4.55,4.75,5.15,5.65,5.65,5.95,6.5,6.6,8.25,8.45,8.5,8.5,9.25,9.25,10.25,10.25,10.75,10.75,10.75,10.75,10.75,10.75,13.99,12.99],\"type\":\"bar\"},{\"marker\":{\"color\":\"lightsalmon\"},\"name\":\"Dollar\",\"x\":[2002,2003,2004,2005,2006,2006,2007,2007,2008,2009,2010,2010,2011,2012,2012,2013,2013,2014,2014,2015,2015,2016,2016,2017,2017,2018,2018,2019,2019,2020],\"y\":[3.02000755001888,2.3430178069353302,2.58001306335728,2.9218407596786,3.06771417882529,2.7246188777165097,3.22752261039191,3.6591942069178,4.31775309159505,3.64504370826748,3.83167746092028,3.89066893349899,3.77281829526656,3.54276819023592,4.51584651595599,4.7773851590106,4.34238422437355,3.75848422542062,4.42319187089062,3.964087509910221,3.8742109838606,3.40576820839979,3.53263995005011,2.74855221610012,3.00611009353896,2.827013096302529,2.28419654714475,1.99687929561244,2.44494931842013,2.20908974958548],\"type\":\"bar\"}],                        {\"template\":{\"data\":{\"histogram2dcontour\":[{\"type\":\"histogram2dcontour\",\"colorbar\":{\"outlinewidth\":0,\"ticks\":\"\"},\"colorscale\":[[0.0,\"#0d0887\"],[0.1111111111111111,\"#46039f\"],[0.2222222222222222,\"#7201a8\"],[0.3333333333333333,\"#9c179e\"],[0.4444444444444444,\"#bd3786\"],[0.5555555555555556,\"#d8576b\"],[0.6666666666666666,\"#ed7953\"],[0.7777777777777778,\"#fb9f3a\"],[0.8888888888888888,\"#fdca26\"],[1.0,\"#f0f921\"]]}],\"choropleth\":[{\"type\":\"choropleth\",\"colorbar\":{\"outlinewidth\":0,\"ticks\":\"\"}}],\"histogram2d\":[{\"type\":\"histogram2d\",\"colorbar\":{\"outlinewidth\":0,\"ticks\":\"\"},\"colorscale\":[[0.0,\"#0d0887\"],[0.1111111111111111,\"#46039f\"],[0.2222222222222222,\"#7201a8\"],[0.3333333333333333,\"#9c179e\"],[0.4444444444444444,\"#bd3786\"],[0.5555555555555556,\"#d8576b\"],[0.6666666666666666,\"#ed7953\"],[0.7777777777777778,\"#fb9f3a\"],[0.8888888888888888,\"#fdca26\"],[1.0,\"#f0f921\"]]}],\"heatmap\":[{\"type\":\"heatmap\",\"colorbar\":{\"outlinewidth\":0,\"ticks\":\"\"},\"colorscale\":[[0.0,\"#0d0887\"],[0.1111111111111111,\"#46039f\"],[0.2222222222222222,\"#7201a8\"],[0.3333333333333333,\"#9c179e\"],[0.4444444444444444,\"#bd3786\"],[0.5555555555555556,\"#d8576b\"],[0.6666666666666666,\"#ed7953\"],[0.7777777777777778,\"#fb9f3a\"],[0.8888888888888888,\"#fdca26\"],[1.0,\"#f0f921\"]]}],\"heatmapgl\":[{\"type\":\"heatmapgl\",\"colorbar\":{\"outlinewidth\":0,\"ticks\":\"\"},\"colorscale\":[[0.0,\"#0d0887\"],[0.1111111111111111,\"#46039f\"],[0.2222222222222222,\"#7201a8\"],[0.3333333333333333,\"#9c179e\"],[0.4444444444444444,\"#bd3786\"],[0.5555555555555556,\"#d8576b\"],[0.6666666666666666,\"#ed7953\"],[0.7777777777777778,\"#fb9f3a\"],[0.8888888888888888,\"#fdca26\"],[1.0,\"#f0f921\"]]}],\"contourcarpet\":[{\"type\":\"contourcarpet\",\"colorbar\":{\"outlinewidth\":0,\"ticks\":\"\"}}],\"contour\":[{\"type\":\"contour\",\"colorbar\":{\"outlinewidth\":0,\"ticks\":\"\"},\"colorscale\":[[0.0,\"#0d0887\"],[0.1111111111111111,\"#46039f\"],[0.2222222222222222,\"#7201a8\"],[0.3333333333333333,\"#9c179e\"],[0.4444444444444444,\"#bd3786\"],[0.5555555555555556,\"#d8576b\"],[0.6666666666666666,\"#ed7953\"],[0.7777777777777778,\"#fb9f3a\"],[0.8888888888888888,\"#fdca26\"],[1.0,\"#f0f921\"]]}],\"surface\":[{\"type\":\"surface\",\"colorbar\":{\"outlinewidth\":0,\"ticks\":\"\"},\"colorscale\":[[0.0,\"#0d0887\"],[0.1111111111111111,\"#46039f\"],[0.2222222222222222,\"#7201a8\"],[0.3333333333333333,\"#9c179e\"],[0.4444444444444444,\"#bd3786\"],[0.5555555555555556,\"#d8576b\"],[0.6666666666666666,\"#ed7953\"],[0.7777777777777778,\"#fb9f3a\"],[0.8888888888888888,\"#fdca26\"],[1.0,\"#f0f921\"]]}],\"mesh3d\":[{\"type\":\"mesh3d\",\"colorbar\":{\"outlinewidth\":0,\"ticks\":\"\"}}],\"scatter\":[{\"fillpattern\":{\"fillmode\":\"overlay\",\"size\":10,\"solidity\":0.2},\"type\":\"scatter\"}],\"parcoords\":[{\"type\":\"parcoords\",\"line\":{\"colorbar\":{\"outlinewidth\":0,\"ticks\":\"\"}}}],\"scatterpolargl\":[{\"type\":\"scatterpolargl\",\"marker\":{\"colorbar\":{\"outlinewidth\":0,\"ticks\":\"\"}}}],\"bar\":[{\"error_x\":{\"color\":\"#2a3f5f\"},\"error_y\":{\"color\":\"#2a3f5f\"},\"marker\":{\"line\":{\"color\":\"#E5ECF6\",\"width\":0.5},\"pattern\":{\"fillmode\":\"overlay\",\"size\":10,\"solidity\":0.2}},\"type\":\"bar\"}],\"scattergeo\":[{\"type\":\"scattergeo\",\"marker\":{\"colorbar\":{\"outlinewidth\":0,\"ticks\":\"\"}}}],\"scatterpolar\":[{\"type\":\"scatterpolar\",\"marker\":{\"colorbar\":{\"outlinewidth\":0,\"ticks\":\"\"}}}],\"histogram\":[{\"marker\":{\"pattern\":{\"fillmode\":\"overlay\",\"size\":10,\"solidity\":0.2}},\"type\":\"histogram\"}],\"scattergl\":[{\"type\":\"scattergl\",\"marker\":{\"colorbar\":{\"outlinewidth\":0,\"ticks\":\"\"}}}],\"scatter3d\":[{\"type\":\"scatter3d\",\"line\":{\"colorbar\":{\"outlinewidth\":0,\"ticks\":\"\"}},\"marker\":{\"colorbar\":{\"outlinewidth\":0,\"ticks\":\"\"}}}],\"scattermapbox\":[{\"type\":\"scattermapbox\",\"marker\":{\"colorbar\":{\"outlinewidth\":0,\"ticks\":\"\"}}}],\"scatterternary\":[{\"type\":\"scatterternary\",\"marker\":{\"colorbar\":{\"outlinewidth\":0,\"ticks\":\"\"}}}],\"scattercarpet\":[{\"type\":\"scattercarpet\",\"marker\":{\"colorbar\":{\"outlinewidth\":0,\"ticks\":\"\"}}}],\"carpet\":[{\"aaxis\":{\"endlinecolor\":\"#2a3f5f\",\"gridcolor\":\"white\",\"linecolor\":\"white\",\"minorgridcolor\":\"white\",\"startlinecolor\":\"#2a3f5f\"},\"baxis\":{\"endlinecolor\":\"#2a3f5f\",\"gridcolor\":\"white\",\"linecolor\":\"white\",\"minorgridcolor\":\"white\",\"startlinecolor\":\"#2a3f5f\"},\"type\":\"carpet\"}],\"table\":[{\"cells\":{\"fill\":{\"color\":\"#EBF0F8\"},\"line\":{\"color\":\"white\"}},\"header\":{\"fill\":{\"color\":\"#C8D4E3\"},\"line\":{\"color\":\"white\"}},\"type\":\"table\"}],\"barpolar\":[{\"marker\":{\"line\":{\"color\":\"#E5ECF6\",\"width\":0.5},\"pattern\":{\"fillmode\":\"overlay\",\"size\":10,\"solidity\":0.2}},\"type\":\"barpolar\"}],\"pie\":[{\"automargin\":true,\"type\":\"pie\"}]},\"layout\":{\"autotypenumbers\":\"strict\",\"colorway\":[\"#636efa\",\"#EF553B\",\"#00cc96\",\"#ab63fa\",\"#FFA15A\",\"#19d3f3\",\"#FF6692\",\"#B6E880\",\"#FF97FF\",\"#FECB52\"],\"font\":{\"color\":\"#2a3f5f\"},\"hovermode\":\"closest\",\"hoverlabel\":{\"align\":\"left\"},\"paper_bgcolor\":\"white\",\"plot_bgcolor\":\"#E5ECF6\",\"polar\":{\"bgcolor\":\"#E5ECF6\",\"angularaxis\":{\"gridcolor\":\"white\",\"linecolor\":\"white\",\"ticks\":\"\"},\"radialaxis\":{\"gridcolor\":\"white\",\"linecolor\":\"white\",\"ticks\":\"\"}},\"ternary\":{\"bgcolor\":\"#E5ECF6\",\"aaxis\":{\"gridcolor\":\"white\",\"linecolor\":\"white\",\"ticks\":\"\"},\"baxis\":{\"gridcolor\":\"white\",\"linecolor\":\"white\",\"ticks\":\"\"},\"caxis\":{\"gridcolor\":\"white\",\"linecolor\":\"white\",\"ticks\":\"\"}},\"coloraxis\":{\"colorbar\":{\"outlinewidth\":0,\"ticks\":\"\"}},\"colorscale\":{\"sequential\":[[0.0,\"#0d0887\"],[0.1111111111111111,\"#46039f\"],[0.2222222222222222,\"#7201a8\"],[0.3333333333333333,\"#9c179e\"],[0.4444444444444444,\"#bd3786\"],[0.5555555555555556,\"#d8576b\"],[0.6666666666666666,\"#ed7953\"],[0.7777777777777778,\"#fb9f3a\"],[0.8888888888888888,\"#fdca26\"],[1.0,\"#f0f921\"]],\"sequentialminus\":[[0.0,\"#0d0887\"],[0.1111111111111111,\"#46039f\"],[0.2222222222222222,\"#7201a8\"],[0.3333333333333333,\"#9c179e\"],[0.4444444444444444,\"#bd3786\"],[0.5555555555555556,\"#d8576b\"],[0.6666666666666666,\"#ed7953\"],[0.7777777777777778,\"#fb9f3a\"],[0.8888888888888888,\"#fdca26\"],[1.0,\"#f0f921\"]],\"diverging\":[[0,\"#8e0152\"],[0.1,\"#c51b7d\"],[0.2,\"#de77ae\"],[0.3,\"#f1b6da\"],[0.4,\"#fde0ef\"],[0.5,\"#f7f7f7\"],[0.6,\"#e6f5d0\"],[0.7,\"#b8e186\"],[0.8,\"#7fbc41\"],[0.9,\"#4d9221\"],[1,\"#276419\"]]},\"xaxis\":{\"gridcolor\":\"white\",\"linecolor\":\"white\",\"ticks\":\"\",\"title\":{\"standoff\":15},\"zerolinecolor\":\"white\",\"automargin\":true,\"zerolinewidth\":2},\"yaxis\":{\"gridcolor\":\"white\",\"linecolor\":\"white\",\"ticks\":\"\",\"title\":{\"standoff\":15},\"zerolinecolor\":\"white\",\"automargin\":true,\"zerolinewidth\":2},\"scene\":{\"xaxis\":{\"backgroundcolor\":\"#E5ECF6\",\"gridcolor\":\"white\",\"linecolor\":\"white\",\"showbackground\":true,\"ticks\":\"\",\"zerolinecolor\":\"white\",\"gridwidth\":2},\"yaxis\":{\"backgroundcolor\":\"#E5ECF6\",\"gridcolor\":\"white\",\"linecolor\":\"white\",\"showbackground\":true,\"ticks\":\"\",\"zerolinecolor\":\"white\",\"gridwidth\":2},\"zaxis\":{\"backgroundcolor\":\"#E5ECF6\",\"gridcolor\":\"white\",\"linecolor\":\"white\",\"showbackground\":true,\"ticks\":\"\",\"zerolinecolor\":\"white\",\"gridwidth\":2}},\"shapedefaults\":{\"line\":{\"color\":\"#2a3f5f\"}},\"annotationdefaults\":{\"arrowcolor\":\"#2a3f5f\",\"arrowhead\":0,\"arrowwidth\":1},\"geo\":{\"bgcolor\":\"white\",\"landcolor\":\"#E5ECF6\",\"subunitcolor\":\"white\",\"showland\":true,\"showlakes\":true,\"lakecolor\":\"white\"},\"title\":{\"x\":0.05},\"mapbox\":{\"style\":\"light\"}}},\"xaxis\":{\"tickangle\":-45},\"barmode\":\"group\"},                        {\"responsive\": true}                    ).then(function(){\n",
       "                            \n",
       "var gd = document.getElementById('d84e000c-1ec4-4c29-995c-5535f771a92e');\n",
       "var x = new MutationObserver(function (mutations, observer) {{\n",
       "        var display = window.getComputedStyle(gd).display;\n",
       "        if (!display || display === 'none') {{\n",
       "            console.log([gd, 'removed!']);\n",
       "            Plotly.purge(gd);\n",
       "            observer.disconnect();\n",
       "        }}\n",
       "}});\n",
       "\n",
       "// Listen for the removal of the full notebook cells\n",
       "var notebookContainer = gd.closest('#notebook-container');\n",
       "if (notebookContainer) {{\n",
       "    x.observe(notebookContainer, {childList: true});\n",
       "}}\n",
       "\n",
       "// Listen for the clearing of the current output cell\n",
       "var outputEl = gd.closest('.output');\n",
       "if (outputEl) {{\n",
       "    x.observe(outputEl, {childList: true});\n",
       "}}\n",
       "\n",
       "                        })                };                });            </script>        </div>"
      ]
     },
     "metadata": {},
     "output_type": "display_data"
    }
   ],
   "source": [
    "import plotly.graph_objects as go\n",
    "\n",
    "fig = go.Figure()\n",
    "fig.add_trace(go.Bar(\n",
    "    x=df_bm['TIME'],\n",
    "    y=df_bm['local_price'],\n",
    "    name='Turkish Lira',\n",
    "    marker_color='indianred'\n",
    "))\n",
    "fig.add_trace(go.Bar(\n",
    "    x=df_bm['TIME'],\n",
    "    y=df_bm['dollar_price'],\n",
    "    name='Dollar',\n",
    "    marker_color='lightsalmon'\n",
    "))\n",
    "\n",
    "# Here we modify the tickangle of the xaxis, resulting in rotated labels.\n",
    "fig.update_layout(barmode='group', xaxis_tickangle=-45)\n",
    "fig.show()"
   ]
  },
  {
   "cell_type": "markdown",
   "id": "73db7cd6",
   "metadata": {},
   "source": [
    "Grafikte görüldüğü üzere yıllara göre dolar fiyatında azalmalar olmasına rağmen TL'nin değer kaybına bağlı olarak ürünün fiyatı artış göstermektedir."
   ]
  },
  {
   "cell_type": "code",
   "execution_count": 20,
   "id": "e470fe6e",
   "metadata": {},
   "outputs": [
    {
     "data": {
      "text/html": [
       "<div>\n",
       "<style scoped>\n",
       "    .dataframe tbody tr th:only-of-type {\n",
       "        vertical-align: middle;\n",
       "    }\n",
       "\n",
       "    .dataframe tbody tr th {\n",
       "        vertical-align: top;\n",
       "    }\n",
       "\n",
       "    .dataframe thead th {\n",
       "        text-align: right;\n",
       "    }\n",
       "</style>\n",
       "<table border=\"1\" class=\"dataframe\">\n",
       "  <thead>\n",
       "    <tr style=\"text-align: right;\">\n",
       "      <th></th>\n",
       "      <th>LOCATION</th>\n",
       "      <th>INDICATOR</th>\n",
       "      <th>SUBJECT</th>\n",
       "      <th>MEASURE</th>\n",
       "      <th>FREQUENCY</th>\n",
       "      <th>TIME</th>\n",
       "      <th>Value</th>\n",
       "      <th>Flag Codes</th>\n",
       "    </tr>\n",
       "  </thead>\n",
       "  <tbody>\n",
       "    <tr>\n",
       "      <th>0</th>\n",
       "      <td>AUS</td>\n",
       "      <td>AVWAGE</td>\n",
       "      <td>TOT</td>\n",
       "      <td>USD</td>\n",
       "      <td>A</td>\n",
       "      <td>1990</td>\n",
       "      <td>40519.083621</td>\n",
       "      <td>NaN</td>\n",
       "    </tr>\n",
       "    <tr>\n",
       "      <th>1</th>\n",
       "      <td>AUS</td>\n",
       "      <td>AVWAGE</td>\n",
       "      <td>TOT</td>\n",
       "      <td>USD</td>\n",
       "      <td>A</td>\n",
       "      <td>1991</td>\n",
       "      <td>40328.934866</td>\n",
       "      <td>NaN</td>\n",
       "    </tr>\n",
       "    <tr>\n",
       "      <th>2</th>\n",
       "      <td>AUS</td>\n",
       "      <td>AVWAGE</td>\n",
       "      <td>TOT</td>\n",
       "      <td>USD</td>\n",
       "      <td>A</td>\n",
       "      <td>1992</td>\n",
       "      <td>41135.798085</td>\n",
       "      <td>NaN</td>\n",
       "    </tr>\n",
       "    <tr>\n",
       "      <th>3</th>\n",
       "      <td>AUS</td>\n",
       "      <td>AVWAGE</td>\n",
       "      <td>TOT</td>\n",
       "      <td>USD</td>\n",
       "      <td>A</td>\n",
       "      <td>1993</td>\n",
       "      <td>41513.545516</td>\n",
       "      <td>NaN</td>\n",
       "    </tr>\n",
       "    <tr>\n",
       "      <th>4</th>\n",
       "      <td>AUS</td>\n",
       "      <td>AVWAGE</td>\n",
       "      <td>TOT</td>\n",
       "      <td>USD</td>\n",
       "      <td>A</td>\n",
       "      <td>1994</td>\n",
       "      <td>41789.766398</td>\n",
       "      <td>NaN</td>\n",
       "    </tr>\n",
       "    <tr>\n",
       "      <th>...</th>\n",
       "      <td>...</td>\n",
       "      <td>...</td>\n",
       "      <td>...</td>\n",
       "      <td>...</td>\n",
       "      <td>...</td>\n",
       "      <td>...</td>\n",
       "      <td>...</td>\n",
       "      <td>...</td>\n",
       "    </tr>\n",
       "    <tr>\n",
       "      <th>1074</th>\n",
       "      <td>TUR</td>\n",
       "      <td>AVWAGE</td>\n",
       "      <td>TOT</td>\n",
       "      <td>USD</td>\n",
       "      <td>A</td>\n",
       "      <td>2016</td>\n",
       "      <td>30653.260715</td>\n",
       "      <td>NaN</td>\n",
       "    </tr>\n",
       "    <tr>\n",
       "      <th>1075</th>\n",
       "      <td>TUR</td>\n",
       "      <td>AVWAGE</td>\n",
       "      <td>TOT</td>\n",
       "      <td>USD</td>\n",
       "      <td>A</td>\n",
       "      <td>2017</td>\n",
       "      <td>30076.378939</td>\n",
       "      <td>NaN</td>\n",
       "    </tr>\n",
       "    <tr>\n",
       "      <th>1076</th>\n",
       "      <td>TUR</td>\n",
       "      <td>AVWAGE</td>\n",
       "      <td>TOT</td>\n",
       "      <td>USD</td>\n",
       "      <td>A</td>\n",
       "      <td>2018</td>\n",
       "      <td>30610.715156</td>\n",
       "      <td>NaN</td>\n",
       "    </tr>\n",
       "    <tr>\n",
       "      <th>1077</th>\n",
       "      <td>TUR</td>\n",
       "      <td>AVWAGE</td>\n",
       "      <td>TOT</td>\n",
       "      <td>USD</td>\n",
       "      <td>A</td>\n",
       "      <td>2019</td>\n",
       "      <td>32625.050808</td>\n",
       "      <td>NaN</td>\n",
       "    </tr>\n",
       "    <tr>\n",
       "      <th>1078</th>\n",
       "      <td>TUR</td>\n",
       "      <td>AVWAGE</td>\n",
       "      <td>TOT</td>\n",
       "      <td>USD</td>\n",
       "      <td>A</td>\n",
       "      <td>2020</td>\n",
       "      <td>32482.671310</td>\n",
       "      <td>NaN</td>\n",
       "    </tr>\n",
       "  </tbody>\n",
       "</table>\n",
       "<p>1079 rows × 8 columns</p>\n",
       "</div>"
      ],
      "text/plain": [
       "     LOCATION INDICATOR SUBJECT MEASURE FREQUENCY  TIME         Value  \\\n",
       "0         AUS    AVWAGE     TOT     USD         A  1990  40519.083621   \n",
       "1         AUS    AVWAGE     TOT     USD         A  1991  40328.934866   \n",
       "2         AUS    AVWAGE     TOT     USD         A  1992  41135.798085   \n",
       "3         AUS    AVWAGE     TOT     USD         A  1993  41513.545516   \n",
       "4         AUS    AVWAGE     TOT     USD         A  1994  41789.766398   \n",
       "...       ...       ...     ...     ...       ...   ...           ...   \n",
       "1074      TUR    AVWAGE     TOT     USD         A  2016  30653.260715   \n",
       "1075      TUR    AVWAGE     TOT     USD         A  2017  30076.378939   \n",
       "1076      TUR    AVWAGE     TOT     USD         A  2018  30610.715156   \n",
       "1077      TUR    AVWAGE     TOT     USD         A  2019  32625.050808   \n",
       "1078      TUR    AVWAGE     TOT     USD         A  2020  32482.671310   \n",
       "\n",
       "      Flag Codes  \n",
       "0            NaN  \n",
       "1            NaN  \n",
       "2            NaN  \n",
       "3            NaN  \n",
       "4            NaN  \n",
       "...          ...  \n",
       "1074         NaN  \n",
       "1075         NaN  \n",
       "1076         NaN  \n",
       "1077         NaN  \n",
       "1078         NaN  \n",
       "\n",
       "[1079 rows x 8 columns]"
      ]
     },
     "execution_count": 20,
     "metadata": {},
     "output_type": "execute_result"
    }
   ],
   "source": [
    "#Ortalama GelirVeri Setini dahil ediyorum.\n",
    "\n",
    "df3 =  pd.read_csv('avg_wage.csv')\n",
    "df3"
   ]
  },
  {
   "cell_type": "code",
   "execution_count": 21,
   "id": "96921209",
   "metadata": {},
   "outputs": [
    {
     "data": {
      "text/html": [
       "<div>\n",
       "<style scoped>\n",
       "    .dataframe tbody tr th:only-of-type {\n",
       "        vertical-align: middle;\n",
       "    }\n",
       "\n",
       "    .dataframe tbody tr th {\n",
       "        vertical-align: top;\n",
       "    }\n",
       "\n",
       "    .dataframe thead th {\n",
       "        text-align: right;\n",
       "    }\n",
       "</style>\n",
       "<table border=\"1\" class=\"dataframe\">\n",
       "  <thead>\n",
       "    <tr style=\"text-align: right;\">\n",
       "      <th></th>\n",
       "      <th>LOCATION</th>\n",
       "      <th>INDICATOR</th>\n",
       "      <th>SUBJECT</th>\n",
       "      <th>MEASURE</th>\n",
       "      <th>FREQUENCY</th>\n",
       "      <th>TIME</th>\n",
       "      <th>Value</th>\n",
       "      <th>Flag Codes</th>\n",
       "    </tr>\n",
       "  </thead>\n",
       "  <tbody>\n",
       "    <tr>\n",
       "      <th>1064</th>\n",
       "      <td>TUR</td>\n",
       "      <td>AVWAGE</td>\n",
       "      <td>TOT</td>\n",
       "      <td>USD</td>\n",
       "      <td>A</td>\n",
       "      <td>2006</td>\n",
       "      <td>21839.962867</td>\n",
       "      <td>NaN</td>\n",
       "    </tr>\n",
       "    <tr>\n",
       "      <th>1065</th>\n",
       "      <td>TUR</td>\n",
       "      <td>AVWAGE</td>\n",
       "      <td>TOT</td>\n",
       "      <td>USD</td>\n",
       "      <td>A</td>\n",
       "      <td>2007</td>\n",
       "      <td>22590.984710</td>\n",
       "      <td>NaN</td>\n",
       "    </tr>\n",
       "    <tr>\n",
       "      <th>1066</th>\n",
       "      <td>TUR</td>\n",
       "      <td>AVWAGE</td>\n",
       "      <td>TOT</td>\n",
       "      <td>USD</td>\n",
       "      <td>A</td>\n",
       "      <td>2008</td>\n",
       "      <td>22467.875809</td>\n",
       "      <td>NaN</td>\n",
       "    </tr>\n",
       "    <tr>\n",
       "      <th>1067</th>\n",
       "      <td>TUR</td>\n",
       "      <td>AVWAGE</td>\n",
       "      <td>TOT</td>\n",
       "      <td>USD</td>\n",
       "      <td>A</td>\n",
       "      <td>2009</td>\n",
       "      <td>22722.973353</td>\n",
       "      <td>NaN</td>\n",
       "    </tr>\n",
       "    <tr>\n",
       "      <th>1068</th>\n",
       "      <td>TUR</td>\n",
       "      <td>AVWAGE</td>\n",
       "      <td>TOT</td>\n",
       "      <td>USD</td>\n",
       "      <td>A</td>\n",
       "      <td>2010</td>\n",
       "      <td>23291.586868</td>\n",
       "      <td>NaN</td>\n",
       "    </tr>\n",
       "    <tr>\n",
       "      <th>1069</th>\n",
       "      <td>TUR</td>\n",
       "      <td>AVWAGE</td>\n",
       "      <td>TOT</td>\n",
       "      <td>USD</td>\n",
       "      <td>A</td>\n",
       "      <td>2011</td>\n",
       "      <td>23666.754874</td>\n",
       "      <td>NaN</td>\n",
       "    </tr>\n",
       "    <tr>\n",
       "      <th>1070</th>\n",
       "      <td>TUR</td>\n",
       "      <td>AVWAGE</td>\n",
       "      <td>TOT</td>\n",
       "      <td>USD</td>\n",
       "      <td>A</td>\n",
       "      <td>2012</td>\n",
       "      <td>24617.577418</td>\n",
       "      <td>NaN</td>\n",
       "    </tr>\n",
       "    <tr>\n",
       "      <th>1071</th>\n",
       "      <td>TUR</td>\n",
       "      <td>AVWAGE</td>\n",
       "      <td>TOT</td>\n",
       "      <td>USD</td>\n",
       "      <td>A</td>\n",
       "      <td>2013</td>\n",
       "      <td>25748.979474</td>\n",
       "      <td>NaN</td>\n",
       "    </tr>\n",
       "    <tr>\n",
       "      <th>1072</th>\n",
       "      <td>TUR</td>\n",
       "      <td>AVWAGE</td>\n",
       "      <td>TOT</td>\n",
       "      <td>USD</td>\n",
       "      <td>A</td>\n",
       "      <td>2014</td>\n",
       "      <td>26631.201686</td>\n",
       "      <td>NaN</td>\n",
       "    </tr>\n",
       "    <tr>\n",
       "      <th>1073</th>\n",
       "      <td>TUR</td>\n",
       "      <td>AVWAGE</td>\n",
       "      <td>TOT</td>\n",
       "      <td>USD</td>\n",
       "      <td>A</td>\n",
       "      <td>2015</td>\n",
       "      <td>27308.102961</td>\n",
       "      <td>NaN</td>\n",
       "    </tr>\n",
       "    <tr>\n",
       "      <th>1074</th>\n",
       "      <td>TUR</td>\n",
       "      <td>AVWAGE</td>\n",
       "      <td>TOT</td>\n",
       "      <td>USD</td>\n",
       "      <td>A</td>\n",
       "      <td>2016</td>\n",
       "      <td>30653.260715</td>\n",
       "      <td>NaN</td>\n",
       "    </tr>\n",
       "    <tr>\n",
       "      <th>1075</th>\n",
       "      <td>TUR</td>\n",
       "      <td>AVWAGE</td>\n",
       "      <td>TOT</td>\n",
       "      <td>USD</td>\n",
       "      <td>A</td>\n",
       "      <td>2017</td>\n",
       "      <td>30076.378939</td>\n",
       "      <td>NaN</td>\n",
       "    </tr>\n",
       "    <tr>\n",
       "      <th>1076</th>\n",
       "      <td>TUR</td>\n",
       "      <td>AVWAGE</td>\n",
       "      <td>TOT</td>\n",
       "      <td>USD</td>\n",
       "      <td>A</td>\n",
       "      <td>2018</td>\n",
       "      <td>30610.715156</td>\n",
       "      <td>NaN</td>\n",
       "    </tr>\n",
       "    <tr>\n",
       "      <th>1077</th>\n",
       "      <td>TUR</td>\n",
       "      <td>AVWAGE</td>\n",
       "      <td>TOT</td>\n",
       "      <td>USD</td>\n",
       "      <td>A</td>\n",
       "      <td>2019</td>\n",
       "      <td>32625.050808</td>\n",
       "      <td>NaN</td>\n",
       "    </tr>\n",
       "    <tr>\n",
       "      <th>1078</th>\n",
       "      <td>TUR</td>\n",
       "      <td>AVWAGE</td>\n",
       "      <td>TOT</td>\n",
       "      <td>USD</td>\n",
       "      <td>A</td>\n",
       "      <td>2020</td>\n",
       "      <td>32482.671310</td>\n",
       "      <td>NaN</td>\n",
       "    </tr>\n",
       "  </tbody>\n",
       "</table>\n",
       "</div>"
      ],
      "text/plain": [
       "     LOCATION INDICATOR SUBJECT MEASURE FREQUENCY  TIME         Value  \\\n",
       "1064      TUR    AVWAGE     TOT     USD         A  2006  21839.962867   \n",
       "1065      TUR    AVWAGE     TOT     USD         A  2007  22590.984710   \n",
       "1066      TUR    AVWAGE     TOT     USD         A  2008  22467.875809   \n",
       "1067      TUR    AVWAGE     TOT     USD         A  2009  22722.973353   \n",
       "1068      TUR    AVWAGE     TOT     USD         A  2010  23291.586868   \n",
       "1069      TUR    AVWAGE     TOT     USD         A  2011  23666.754874   \n",
       "1070      TUR    AVWAGE     TOT     USD         A  2012  24617.577418   \n",
       "1071      TUR    AVWAGE     TOT     USD         A  2013  25748.979474   \n",
       "1072      TUR    AVWAGE     TOT     USD         A  2014  26631.201686   \n",
       "1073      TUR    AVWAGE     TOT     USD         A  2015  27308.102961   \n",
       "1074      TUR    AVWAGE     TOT     USD         A  2016  30653.260715   \n",
       "1075      TUR    AVWAGE     TOT     USD         A  2017  30076.378939   \n",
       "1076      TUR    AVWAGE     TOT     USD         A  2018  30610.715156   \n",
       "1077      TUR    AVWAGE     TOT     USD         A  2019  32625.050808   \n",
       "1078      TUR    AVWAGE     TOT     USD         A  2020  32482.671310   \n",
       "\n",
       "      Flag Codes  \n",
       "1064         NaN  \n",
       "1065         NaN  \n",
       "1066         NaN  \n",
       "1067         NaN  \n",
       "1068         NaN  \n",
       "1069         NaN  \n",
       "1070         NaN  \n",
       "1071         NaN  \n",
       "1072         NaN  \n",
       "1073         NaN  \n",
       "1074         NaN  \n",
       "1075         NaN  \n",
       "1076         NaN  \n",
       "1077         NaN  \n",
       "1078         NaN  "
      ]
     },
     "execution_count": 21,
     "metadata": {},
     "output_type": "execute_result"
    }
   ],
   "source": [
    "#Sadece Türkiye'nin değerlerini alıyorum.\n",
    "\n",
    "df_aw = df3.loc[df3['LOCATION'] == 'TUR']\n",
    "df_aw"
   ]
  },
  {
   "cell_type": "code",
   "execution_count": 22,
   "id": "42d47435",
   "metadata": {},
   "outputs": [
    {
     "data": {
      "application/vnd.plotly.v1+json": {
       "config": {
        "plotlyServerURL": "https://plot.ly"
       },
       "data": [
        {
         "alignmentgroup": "True",
         "hovertemplate": "TIME=%{x}<br>Value=%{y}<extra></extra>",
         "legendgroup": "",
         "marker": {
          "color": "#636efa",
          "pattern": {
           "shape": ""
          }
         },
         "name": "",
         "offsetgroup": "",
         "orientation": "v",
         "showlegend": false,
         "textposition": "auto",
         "type": "bar",
         "x": [
          2006,
          2007,
          2008,
          2009,
          2010,
          2011,
          2012,
          2013,
          2014,
          2015,
          2016,
          2017,
          2018,
          2019,
          2020
         ],
         "xaxis": "x",
         "y": [
          21839.9628670585,
          22590.984709907,
          22467.8758088104,
          22722.9733525656,
          23291.5868677003,
          23666.7548738797,
          24617.5774184607,
          25748.9794744452,
          26631.2016858859,
          27308.1029608959,
          30653.260715263,
          30076.3789394926,
          30610.7151561307,
          32625.0508075616,
          32482.6713098403
         ],
         "yaxis": "y"
        }
       ],
       "layout": {
        "barmode": "relative",
        "legend": {
         "tracegroupgap": 0
        },
        "margin": {
         "t": 60
        },
        "template": {
         "data": {
          "bar": [
           {
            "error_x": {
             "color": "#2a3f5f"
            },
            "error_y": {
             "color": "#2a3f5f"
            },
            "marker": {
             "line": {
              "color": "#E5ECF6",
              "width": 0.5
             },
             "pattern": {
              "fillmode": "overlay",
              "size": 10,
              "solidity": 0.2
             }
            },
            "type": "bar"
           }
          ],
          "barpolar": [
           {
            "marker": {
             "line": {
              "color": "#E5ECF6",
              "width": 0.5
             },
             "pattern": {
              "fillmode": "overlay",
              "size": 10,
              "solidity": 0.2
             }
            },
            "type": "barpolar"
           }
          ],
          "carpet": [
           {
            "aaxis": {
             "endlinecolor": "#2a3f5f",
             "gridcolor": "white",
             "linecolor": "white",
             "minorgridcolor": "white",
             "startlinecolor": "#2a3f5f"
            },
            "baxis": {
             "endlinecolor": "#2a3f5f",
             "gridcolor": "white",
             "linecolor": "white",
             "minorgridcolor": "white",
             "startlinecolor": "#2a3f5f"
            },
            "type": "carpet"
           }
          ],
          "choropleth": [
           {
            "colorbar": {
             "outlinewidth": 0,
             "ticks": ""
            },
            "type": "choropleth"
           }
          ],
          "contour": [
           {
            "colorbar": {
             "outlinewidth": 0,
             "ticks": ""
            },
            "colorscale": [
             [
              0,
              "#0d0887"
             ],
             [
              0.1111111111111111,
              "#46039f"
             ],
             [
              0.2222222222222222,
              "#7201a8"
             ],
             [
              0.3333333333333333,
              "#9c179e"
             ],
             [
              0.4444444444444444,
              "#bd3786"
             ],
             [
              0.5555555555555556,
              "#d8576b"
             ],
             [
              0.6666666666666666,
              "#ed7953"
             ],
             [
              0.7777777777777778,
              "#fb9f3a"
             ],
             [
              0.8888888888888888,
              "#fdca26"
             ],
             [
              1,
              "#f0f921"
             ]
            ],
            "type": "contour"
           }
          ],
          "contourcarpet": [
           {
            "colorbar": {
             "outlinewidth": 0,
             "ticks": ""
            },
            "type": "contourcarpet"
           }
          ],
          "heatmap": [
           {
            "colorbar": {
             "outlinewidth": 0,
             "ticks": ""
            },
            "colorscale": [
             [
              0,
              "#0d0887"
             ],
             [
              0.1111111111111111,
              "#46039f"
             ],
             [
              0.2222222222222222,
              "#7201a8"
             ],
             [
              0.3333333333333333,
              "#9c179e"
             ],
             [
              0.4444444444444444,
              "#bd3786"
             ],
             [
              0.5555555555555556,
              "#d8576b"
             ],
             [
              0.6666666666666666,
              "#ed7953"
             ],
             [
              0.7777777777777778,
              "#fb9f3a"
             ],
             [
              0.8888888888888888,
              "#fdca26"
             ],
             [
              1,
              "#f0f921"
             ]
            ],
            "type": "heatmap"
           }
          ],
          "heatmapgl": [
           {
            "colorbar": {
             "outlinewidth": 0,
             "ticks": ""
            },
            "colorscale": [
             [
              0,
              "#0d0887"
             ],
             [
              0.1111111111111111,
              "#46039f"
             ],
             [
              0.2222222222222222,
              "#7201a8"
             ],
             [
              0.3333333333333333,
              "#9c179e"
             ],
             [
              0.4444444444444444,
              "#bd3786"
             ],
             [
              0.5555555555555556,
              "#d8576b"
             ],
             [
              0.6666666666666666,
              "#ed7953"
             ],
             [
              0.7777777777777778,
              "#fb9f3a"
             ],
             [
              0.8888888888888888,
              "#fdca26"
             ],
             [
              1,
              "#f0f921"
             ]
            ],
            "type": "heatmapgl"
           }
          ],
          "histogram": [
           {
            "marker": {
             "pattern": {
              "fillmode": "overlay",
              "size": 10,
              "solidity": 0.2
             }
            },
            "type": "histogram"
           }
          ],
          "histogram2d": [
           {
            "colorbar": {
             "outlinewidth": 0,
             "ticks": ""
            },
            "colorscale": [
             [
              0,
              "#0d0887"
             ],
             [
              0.1111111111111111,
              "#46039f"
             ],
             [
              0.2222222222222222,
              "#7201a8"
             ],
             [
              0.3333333333333333,
              "#9c179e"
             ],
             [
              0.4444444444444444,
              "#bd3786"
             ],
             [
              0.5555555555555556,
              "#d8576b"
             ],
             [
              0.6666666666666666,
              "#ed7953"
             ],
             [
              0.7777777777777778,
              "#fb9f3a"
             ],
             [
              0.8888888888888888,
              "#fdca26"
             ],
             [
              1,
              "#f0f921"
             ]
            ],
            "type": "histogram2d"
           }
          ],
          "histogram2dcontour": [
           {
            "colorbar": {
             "outlinewidth": 0,
             "ticks": ""
            },
            "colorscale": [
             [
              0,
              "#0d0887"
             ],
             [
              0.1111111111111111,
              "#46039f"
             ],
             [
              0.2222222222222222,
              "#7201a8"
             ],
             [
              0.3333333333333333,
              "#9c179e"
             ],
             [
              0.4444444444444444,
              "#bd3786"
             ],
             [
              0.5555555555555556,
              "#d8576b"
             ],
             [
              0.6666666666666666,
              "#ed7953"
             ],
             [
              0.7777777777777778,
              "#fb9f3a"
             ],
             [
              0.8888888888888888,
              "#fdca26"
             ],
             [
              1,
              "#f0f921"
             ]
            ],
            "type": "histogram2dcontour"
           }
          ],
          "mesh3d": [
           {
            "colorbar": {
             "outlinewidth": 0,
             "ticks": ""
            },
            "type": "mesh3d"
           }
          ],
          "parcoords": [
           {
            "line": {
             "colorbar": {
              "outlinewidth": 0,
              "ticks": ""
             }
            },
            "type": "parcoords"
           }
          ],
          "pie": [
           {
            "automargin": true,
            "type": "pie"
           }
          ],
          "scatter": [
           {
            "fillpattern": {
             "fillmode": "overlay",
             "size": 10,
             "solidity": 0.2
            },
            "type": "scatter"
           }
          ],
          "scatter3d": [
           {
            "line": {
             "colorbar": {
              "outlinewidth": 0,
              "ticks": ""
             }
            },
            "marker": {
             "colorbar": {
              "outlinewidth": 0,
              "ticks": ""
             }
            },
            "type": "scatter3d"
           }
          ],
          "scattercarpet": [
           {
            "marker": {
             "colorbar": {
              "outlinewidth": 0,
              "ticks": ""
             }
            },
            "type": "scattercarpet"
           }
          ],
          "scattergeo": [
           {
            "marker": {
             "colorbar": {
              "outlinewidth": 0,
              "ticks": ""
             }
            },
            "type": "scattergeo"
           }
          ],
          "scattergl": [
           {
            "marker": {
             "colorbar": {
              "outlinewidth": 0,
              "ticks": ""
             }
            },
            "type": "scattergl"
           }
          ],
          "scattermapbox": [
           {
            "marker": {
             "colorbar": {
              "outlinewidth": 0,
              "ticks": ""
             }
            },
            "type": "scattermapbox"
           }
          ],
          "scatterpolar": [
           {
            "marker": {
             "colorbar": {
              "outlinewidth": 0,
              "ticks": ""
             }
            },
            "type": "scatterpolar"
           }
          ],
          "scatterpolargl": [
           {
            "marker": {
             "colorbar": {
              "outlinewidth": 0,
              "ticks": ""
             }
            },
            "type": "scatterpolargl"
           }
          ],
          "scatterternary": [
           {
            "marker": {
             "colorbar": {
              "outlinewidth": 0,
              "ticks": ""
             }
            },
            "type": "scatterternary"
           }
          ],
          "surface": [
           {
            "colorbar": {
             "outlinewidth": 0,
             "ticks": ""
            },
            "colorscale": [
             [
              0,
              "#0d0887"
             ],
             [
              0.1111111111111111,
              "#46039f"
             ],
             [
              0.2222222222222222,
              "#7201a8"
             ],
             [
              0.3333333333333333,
              "#9c179e"
             ],
             [
              0.4444444444444444,
              "#bd3786"
             ],
             [
              0.5555555555555556,
              "#d8576b"
             ],
             [
              0.6666666666666666,
              "#ed7953"
             ],
             [
              0.7777777777777778,
              "#fb9f3a"
             ],
             [
              0.8888888888888888,
              "#fdca26"
             ],
             [
              1,
              "#f0f921"
             ]
            ],
            "type": "surface"
           }
          ],
          "table": [
           {
            "cells": {
             "fill": {
              "color": "#EBF0F8"
             },
             "line": {
              "color": "white"
             }
            },
            "header": {
             "fill": {
              "color": "#C8D4E3"
             },
             "line": {
              "color": "white"
             }
            },
            "type": "table"
           }
          ]
         },
         "layout": {
          "annotationdefaults": {
           "arrowcolor": "#2a3f5f",
           "arrowhead": 0,
           "arrowwidth": 1
          },
          "autotypenumbers": "strict",
          "coloraxis": {
           "colorbar": {
            "outlinewidth": 0,
            "ticks": ""
           }
          },
          "colorscale": {
           "diverging": [
            [
             0,
             "#8e0152"
            ],
            [
             0.1,
             "#c51b7d"
            ],
            [
             0.2,
             "#de77ae"
            ],
            [
             0.3,
             "#f1b6da"
            ],
            [
             0.4,
             "#fde0ef"
            ],
            [
             0.5,
             "#f7f7f7"
            ],
            [
             0.6,
             "#e6f5d0"
            ],
            [
             0.7,
             "#b8e186"
            ],
            [
             0.8,
             "#7fbc41"
            ],
            [
             0.9,
             "#4d9221"
            ],
            [
             1,
             "#276419"
            ]
           ],
           "sequential": [
            [
             0,
             "#0d0887"
            ],
            [
             0.1111111111111111,
             "#46039f"
            ],
            [
             0.2222222222222222,
             "#7201a8"
            ],
            [
             0.3333333333333333,
             "#9c179e"
            ],
            [
             0.4444444444444444,
             "#bd3786"
            ],
            [
             0.5555555555555556,
             "#d8576b"
            ],
            [
             0.6666666666666666,
             "#ed7953"
            ],
            [
             0.7777777777777778,
             "#fb9f3a"
            ],
            [
             0.8888888888888888,
             "#fdca26"
            ],
            [
             1,
             "#f0f921"
            ]
           ],
           "sequentialminus": [
            [
             0,
             "#0d0887"
            ],
            [
             0.1111111111111111,
             "#46039f"
            ],
            [
             0.2222222222222222,
             "#7201a8"
            ],
            [
             0.3333333333333333,
             "#9c179e"
            ],
            [
             0.4444444444444444,
             "#bd3786"
            ],
            [
             0.5555555555555556,
             "#d8576b"
            ],
            [
             0.6666666666666666,
             "#ed7953"
            ],
            [
             0.7777777777777778,
             "#fb9f3a"
            ],
            [
             0.8888888888888888,
             "#fdca26"
            ],
            [
             1,
             "#f0f921"
            ]
           ]
          },
          "colorway": [
           "#636efa",
           "#EF553B",
           "#00cc96",
           "#ab63fa",
           "#FFA15A",
           "#19d3f3",
           "#FF6692",
           "#B6E880",
           "#FF97FF",
           "#FECB52"
          ],
          "font": {
           "color": "#2a3f5f"
          },
          "geo": {
           "bgcolor": "white",
           "lakecolor": "white",
           "landcolor": "#E5ECF6",
           "showlakes": true,
           "showland": true,
           "subunitcolor": "white"
          },
          "hoverlabel": {
           "align": "left"
          },
          "hovermode": "closest",
          "mapbox": {
           "style": "light"
          },
          "paper_bgcolor": "white",
          "plot_bgcolor": "#E5ECF6",
          "polar": {
           "angularaxis": {
            "gridcolor": "white",
            "linecolor": "white",
            "ticks": ""
           },
           "bgcolor": "#E5ECF6",
           "radialaxis": {
            "gridcolor": "white",
            "linecolor": "white",
            "ticks": ""
           }
          },
          "scene": {
           "xaxis": {
            "backgroundcolor": "#E5ECF6",
            "gridcolor": "white",
            "gridwidth": 2,
            "linecolor": "white",
            "showbackground": true,
            "ticks": "",
            "zerolinecolor": "white"
           },
           "yaxis": {
            "backgroundcolor": "#E5ECF6",
            "gridcolor": "white",
            "gridwidth": 2,
            "linecolor": "white",
            "showbackground": true,
            "ticks": "",
            "zerolinecolor": "white"
           },
           "zaxis": {
            "backgroundcolor": "#E5ECF6",
            "gridcolor": "white",
            "gridwidth": 2,
            "linecolor": "white",
            "showbackground": true,
            "ticks": "",
            "zerolinecolor": "white"
           }
          },
          "shapedefaults": {
           "line": {
            "color": "#2a3f5f"
           }
          },
          "ternary": {
           "aaxis": {
            "gridcolor": "white",
            "linecolor": "white",
            "ticks": ""
           },
           "baxis": {
            "gridcolor": "white",
            "linecolor": "white",
            "ticks": ""
           },
           "bgcolor": "#E5ECF6",
           "caxis": {
            "gridcolor": "white",
            "linecolor": "white",
            "ticks": ""
           }
          },
          "title": {
           "x": 0.05
          },
          "xaxis": {
           "automargin": true,
           "gridcolor": "white",
           "linecolor": "white",
           "ticks": "",
           "title": {
            "standoff": 15
           },
           "zerolinecolor": "white",
           "zerolinewidth": 2
          },
          "yaxis": {
           "automargin": true,
           "gridcolor": "white",
           "linecolor": "white",
           "ticks": "",
           "title": {
            "standoff": 15
           },
           "zerolinecolor": "white",
           "zerolinewidth": 2
          }
         }
        },
        "xaxis": {
         "anchor": "y",
         "domain": [
          0,
          1
         ],
         "title": {
          "text": "TIME"
         }
        },
        "yaxis": {
         "anchor": "x",
         "domain": [
          0,
          1
         ],
         "title": {
          "text": "Value"
         }
        }
       }
      },
      "text/html": [
       "<div>                            <div id=\"8a6d0475-aa86-4eb6-90a3-d8635ec1e946\" class=\"plotly-graph-div\" style=\"height:525px; width:100%;\"></div>            <script type=\"text/javascript\">                require([\"plotly\"], function(Plotly) {                    window.PLOTLYENV=window.PLOTLYENV || {};                                    if (document.getElementById(\"8a6d0475-aa86-4eb6-90a3-d8635ec1e946\")) {                    Plotly.newPlot(                        \"8a6d0475-aa86-4eb6-90a3-d8635ec1e946\",                        [{\"alignmentgroup\":\"True\",\"hovertemplate\":\"TIME=%{x}<br>Value=%{y}<extra></extra>\",\"legendgroup\":\"\",\"marker\":{\"color\":\"#636efa\",\"pattern\":{\"shape\":\"\"}},\"name\":\"\",\"offsetgroup\":\"\",\"orientation\":\"v\",\"showlegend\":false,\"textposition\":\"auto\",\"x\":[2006,2007,2008,2009,2010,2011,2012,2013,2014,2015,2016,2017,2018,2019,2020],\"xaxis\":\"x\",\"y\":[21839.9628670585,22590.984709907,22467.8758088104,22722.9733525656,23291.5868677003,23666.7548738797,24617.5774184607,25748.9794744452,26631.2016858859,27308.1029608959,30653.260715263,30076.3789394926,30610.7151561307,32625.0508075616,32482.6713098403],\"yaxis\":\"y\",\"type\":\"bar\"}],                        {\"template\":{\"data\":{\"histogram2dcontour\":[{\"type\":\"histogram2dcontour\",\"colorbar\":{\"outlinewidth\":0,\"ticks\":\"\"},\"colorscale\":[[0.0,\"#0d0887\"],[0.1111111111111111,\"#46039f\"],[0.2222222222222222,\"#7201a8\"],[0.3333333333333333,\"#9c179e\"],[0.4444444444444444,\"#bd3786\"],[0.5555555555555556,\"#d8576b\"],[0.6666666666666666,\"#ed7953\"],[0.7777777777777778,\"#fb9f3a\"],[0.8888888888888888,\"#fdca26\"],[1.0,\"#f0f921\"]]}],\"choropleth\":[{\"type\":\"choropleth\",\"colorbar\":{\"outlinewidth\":0,\"ticks\":\"\"}}],\"histogram2d\":[{\"type\":\"histogram2d\",\"colorbar\":{\"outlinewidth\":0,\"ticks\":\"\"},\"colorscale\":[[0.0,\"#0d0887\"],[0.1111111111111111,\"#46039f\"],[0.2222222222222222,\"#7201a8\"],[0.3333333333333333,\"#9c179e\"],[0.4444444444444444,\"#bd3786\"],[0.5555555555555556,\"#d8576b\"],[0.6666666666666666,\"#ed7953\"],[0.7777777777777778,\"#fb9f3a\"],[0.8888888888888888,\"#fdca26\"],[1.0,\"#f0f921\"]]}],\"heatmap\":[{\"type\":\"heatmap\",\"colorbar\":{\"outlinewidth\":0,\"ticks\":\"\"},\"colorscale\":[[0.0,\"#0d0887\"],[0.1111111111111111,\"#46039f\"],[0.2222222222222222,\"#7201a8\"],[0.3333333333333333,\"#9c179e\"],[0.4444444444444444,\"#bd3786\"],[0.5555555555555556,\"#d8576b\"],[0.6666666666666666,\"#ed7953\"],[0.7777777777777778,\"#fb9f3a\"],[0.8888888888888888,\"#fdca26\"],[1.0,\"#f0f921\"]]}],\"heatmapgl\":[{\"type\":\"heatmapgl\",\"colorbar\":{\"outlinewidth\":0,\"ticks\":\"\"},\"colorscale\":[[0.0,\"#0d0887\"],[0.1111111111111111,\"#46039f\"],[0.2222222222222222,\"#7201a8\"],[0.3333333333333333,\"#9c179e\"],[0.4444444444444444,\"#bd3786\"],[0.5555555555555556,\"#d8576b\"],[0.6666666666666666,\"#ed7953\"],[0.7777777777777778,\"#fb9f3a\"],[0.8888888888888888,\"#fdca26\"],[1.0,\"#f0f921\"]]}],\"contourcarpet\":[{\"type\":\"contourcarpet\",\"colorbar\":{\"outlinewidth\":0,\"ticks\":\"\"}}],\"contour\":[{\"type\":\"contour\",\"colorbar\":{\"outlinewidth\":0,\"ticks\":\"\"},\"colorscale\":[[0.0,\"#0d0887\"],[0.1111111111111111,\"#46039f\"],[0.2222222222222222,\"#7201a8\"],[0.3333333333333333,\"#9c179e\"],[0.4444444444444444,\"#bd3786\"],[0.5555555555555556,\"#d8576b\"],[0.6666666666666666,\"#ed7953\"],[0.7777777777777778,\"#fb9f3a\"],[0.8888888888888888,\"#fdca26\"],[1.0,\"#f0f921\"]]}],\"surface\":[{\"type\":\"surface\",\"colorbar\":{\"outlinewidth\":0,\"ticks\":\"\"},\"colorscale\":[[0.0,\"#0d0887\"],[0.1111111111111111,\"#46039f\"],[0.2222222222222222,\"#7201a8\"],[0.3333333333333333,\"#9c179e\"],[0.4444444444444444,\"#bd3786\"],[0.5555555555555556,\"#d8576b\"],[0.6666666666666666,\"#ed7953\"],[0.7777777777777778,\"#fb9f3a\"],[0.8888888888888888,\"#fdca26\"],[1.0,\"#f0f921\"]]}],\"mesh3d\":[{\"type\":\"mesh3d\",\"colorbar\":{\"outlinewidth\":0,\"ticks\":\"\"}}],\"scatter\":[{\"fillpattern\":{\"fillmode\":\"overlay\",\"size\":10,\"solidity\":0.2},\"type\":\"scatter\"}],\"parcoords\":[{\"type\":\"parcoords\",\"line\":{\"colorbar\":{\"outlinewidth\":0,\"ticks\":\"\"}}}],\"scatterpolargl\":[{\"type\":\"scatterpolargl\",\"marker\":{\"colorbar\":{\"outlinewidth\":0,\"ticks\":\"\"}}}],\"bar\":[{\"error_x\":{\"color\":\"#2a3f5f\"},\"error_y\":{\"color\":\"#2a3f5f\"},\"marker\":{\"line\":{\"color\":\"#E5ECF6\",\"width\":0.5},\"pattern\":{\"fillmode\":\"overlay\",\"size\":10,\"solidity\":0.2}},\"type\":\"bar\"}],\"scattergeo\":[{\"type\":\"scattergeo\",\"marker\":{\"colorbar\":{\"outlinewidth\":0,\"ticks\":\"\"}}}],\"scatterpolar\":[{\"type\":\"scatterpolar\",\"marker\":{\"colorbar\":{\"outlinewidth\":0,\"ticks\":\"\"}}}],\"histogram\":[{\"marker\":{\"pattern\":{\"fillmode\":\"overlay\",\"size\":10,\"solidity\":0.2}},\"type\":\"histogram\"}],\"scattergl\":[{\"type\":\"scattergl\",\"marker\":{\"colorbar\":{\"outlinewidth\":0,\"ticks\":\"\"}}}],\"scatter3d\":[{\"type\":\"scatter3d\",\"line\":{\"colorbar\":{\"outlinewidth\":0,\"ticks\":\"\"}},\"marker\":{\"colorbar\":{\"outlinewidth\":0,\"ticks\":\"\"}}}],\"scattermapbox\":[{\"type\":\"scattermapbox\",\"marker\":{\"colorbar\":{\"outlinewidth\":0,\"ticks\":\"\"}}}],\"scatterternary\":[{\"type\":\"scatterternary\",\"marker\":{\"colorbar\":{\"outlinewidth\":0,\"ticks\":\"\"}}}],\"scattercarpet\":[{\"type\":\"scattercarpet\",\"marker\":{\"colorbar\":{\"outlinewidth\":0,\"ticks\":\"\"}}}],\"carpet\":[{\"aaxis\":{\"endlinecolor\":\"#2a3f5f\",\"gridcolor\":\"white\",\"linecolor\":\"white\",\"minorgridcolor\":\"white\",\"startlinecolor\":\"#2a3f5f\"},\"baxis\":{\"endlinecolor\":\"#2a3f5f\",\"gridcolor\":\"white\",\"linecolor\":\"white\",\"minorgridcolor\":\"white\",\"startlinecolor\":\"#2a3f5f\"},\"type\":\"carpet\"}],\"table\":[{\"cells\":{\"fill\":{\"color\":\"#EBF0F8\"},\"line\":{\"color\":\"white\"}},\"header\":{\"fill\":{\"color\":\"#C8D4E3\"},\"line\":{\"color\":\"white\"}},\"type\":\"table\"}],\"barpolar\":[{\"marker\":{\"line\":{\"color\":\"#E5ECF6\",\"width\":0.5},\"pattern\":{\"fillmode\":\"overlay\",\"size\":10,\"solidity\":0.2}},\"type\":\"barpolar\"}],\"pie\":[{\"automargin\":true,\"type\":\"pie\"}]},\"layout\":{\"autotypenumbers\":\"strict\",\"colorway\":[\"#636efa\",\"#EF553B\",\"#00cc96\",\"#ab63fa\",\"#FFA15A\",\"#19d3f3\",\"#FF6692\",\"#B6E880\",\"#FF97FF\",\"#FECB52\"],\"font\":{\"color\":\"#2a3f5f\"},\"hovermode\":\"closest\",\"hoverlabel\":{\"align\":\"left\"},\"paper_bgcolor\":\"white\",\"plot_bgcolor\":\"#E5ECF6\",\"polar\":{\"bgcolor\":\"#E5ECF6\",\"angularaxis\":{\"gridcolor\":\"white\",\"linecolor\":\"white\",\"ticks\":\"\"},\"radialaxis\":{\"gridcolor\":\"white\",\"linecolor\":\"white\",\"ticks\":\"\"}},\"ternary\":{\"bgcolor\":\"#E5ECF6\",\"aaxis\":{\"gridcolor\":\"white\",\"linecolor\":\"white\",\"ticks\":\"\"},\"baxis\":{\"gridcolor\":\"white\",\"linecolor\":\"white\",\"ticks\":\"\"},\"caxis\":{\"gridcolor\":\"white\",\"linecolor\":\"white\",\"ticks\":\"\"}},\"coloraxis\":{\"colorbar\":{\"outlinewidth\":0,\"ticks\":\"\"}},\"colorscale\":{\"sequential\":[[0.0,\"#0d0887\"],[0.1111111111111111,\"#46039f\"],[0.2222222222222222,\"#7201a8\"],[0.3333333333333333,\"#9c179e\"],[0.4444444444444444,\"#bd3786\"],[0.5555555555555556,\"#d8576b\"],[0.6666666666666666,\"#ed7953\"],[0.7777777777777778,\"#fb9f3a\"],[0.8888888888888888,\"#fdca26\"],[1.0,\"#f0f921\"]],\"sequentialminus\":[[0.0,\"#0d0887\"],[0.1111111111111111,\"#46039f\"],[0.2222222222222222,\"#7201a8\"],[0.3333333333333333,\"#9c179e\"],[0.4444444444444444,\"#bd3786\"],[0.5555555555555556,\"#d8576b\"],[0.6666666666666666,\"#ed7953\"],[0.7777777777777778,\"#fb9f3a\"],[0.8888888888888888,\"#fdca26\"],[1.0,\"#f0f921\"]],\"diverging\":[[0,\"#8e0152\"],[0.1,\"#c51b7d\"],[0.2,\"#de77ae\"],[0.3,\"#f1b6da\"],[0.4,\"#fde0ef\"],[0.5,\"#f7f7f7\"],[0.6,\"#e6f5d0\"],[0.7,\"#b8e186\"],[0.8,\"#7fbc41\"],[0.9,\"#4d9221\"],[1,\"#276419\"]]},\"xaxis\":{\"gridcolor\":\"white\",\"linecolor\":\"white\",\"ticks\":\"\",\"title\":{\"standoff\":15},\"zerolinecolor\":\"white\",\"automargin\":true,\"zerolinewidth\":2},\"yaxis\":{\"gridcolor\":\"white\",\"linecolor\":\"white\",\"ticks\":\"\",\"title\":{\"standoff\":15},\"zerolinecolor\":\"white\",\"automargin\":true,\"zerolinewidth\":2},\"scene\":{\"xaxis\":{\"backgroundcolor\":\"#E5ECF6\",\"gridcolor\":\"white\",\"linecolor\":\"white\",\"showbackground\":true,\"ticks\":\"\",\"zerolinecolor\":\"white\",\"gridwidth\":2},\"yaxis\":{\"backgroundcolor\":\"#E5ECF6\",\"gridcolor\":\"white\",\"linecolor\":\"white\",\"showbackground\":true,\"ticks\":\"\",\"zerolinecolor\":\"white\",\"gridwidth\":2},\"zaxis\":{\"backgroundcolor\":\"#E5ECF6\",\"gridcolor\":\"white\",\"linecolor\":\"white\",\"showbackground\":true,\"ticks\":\"\",\"zerolinecolor\":\"white\",\"gridwidth\":2}},\"shapedefaults\":{\"line\":{\"color\":\"#2a3f5f\"}},\"annotationdefaults\":{\"arrowcolor\":\"#2a3f5f\",\"arrowhead\":0,\"arrowwidth\":1},\"geo\":{\"bgcolor\":\"white\",\"landcolor\":\"#E5ECF6\",\"subunitcolor\":\"white\",\"showland\":true,\"showlakes\":true,\"lakecolor\":\"white\"},\"title\":{\"x\":0.05},\"mapbox\":{\"style\":\"light\"}}},\"xaxis\":{\"anchor\":\"y\",\"domain\":[0.0,1.0],\"title\":{\"text\":\"TIME\"}},\"yaxis\":{\"anchor\":\"x\",\"domain\":[0.0,1.0],\"title\":{\"text\":\"Value\"}},\"legend\":{\"tracegroupgap\":0},\"margin\":{\"t\":60},\"barmode\":\"relative\"},                        {\"responsive\": true}                    ).then(function(){\n",
       "                            \n",
       "var gd = document.getElementById('8a6d0475-aa86-4eb6-90a3-d8635ec1e946');\n",
       "var x = new MutationObserver(function (mutations, observer) {{\n",
       "        var display = window.getComputedStyle(gd).display;\n",
       "        if (!display || display === 'none') {{\n",
       "            console.log([gd, 'removed!']);\n",
       "            Plotly.purge(gd);\n",
       "            observer.disconnect();\n",
       "        }}\n",
       "}});\n",
       "\n",
       "// Listen for the removal of the full notebook cells\n",
       "var notebookContainer = gd.closest('#notebook-container');\n",
       "if (notebookContainer) {{\n",
       "    x.observe(notebookContainer, {childList: true});\n",
       "}}\n",
       "\n",
       "// Listen for the clearing of the current output cell\n",
       "var outputEl = gd.closest('.output');\n",
       "if (outputEl) {{\n",
       "    x.observe(outputEl, {childList: true});\n",
       "}}\n",
       "\n",
       "                        })                };                });            </script>        </div>"
      ]
     },
     "metadata": {},
     "output_type": "display_data"
    }
   ],
   "source": [
    "#yıllara göre yıllık gelir değişimine bakalım.\n",
    "fig = px.bar(data_frame = df_aw,\n",
    "             x='TIME',\n",
    "             y='Value',)\n",
    "fig.show()"
   ]
  },
  {
   "cell_type": "code",
   "execution_count": 23,
   "id": "5540073c",
   "metadata": {},
   "outputs": [
    {
     "data": {
      "text/html": [
       "<div>\n",
       "<style scoped>\n",
       "    .dataframe tbody tr th:only-of-type {\n",
       "        vertical-align: middle;\n",
       "    }\n",
       "\n",
       "    .dataframe tbody tr th {\n",
       "        vertical-align: top;\n",
       "    }\n",
       "\n",
       "    .dataframe thead th {\n",
       "        text-align: right;\n",
       "    }\n",
       "</style>\n",
       "<table border=\"1\" class=\"dataframe\">\n",
       "  <thead>\n",
       "    <tr style=\"text-align: right;\">\n",
       "      <th></th>\n",
       "      <th>date</th>\n",
       "      <th>currency_code</th>\n",
       "      <th>name</th>\n",
       "      <th>local_price</th>\n",
       "      <th>dollar_ex</th>\n",
       "      <th>dollar_price</th>\n",
       "      <th>TIME</th>\n",
       "      <th>LOCATION</th>\n",
       "      <th>INDICATOR</th>\n",
       "      <th>SUBJECT</th>\n",
       "      <th>MEASURE</th>\n",
       "      <th>FREQUENCY</th>\n",
       "      <th>Value</th>\n",
       "      <th>Flag Codes</th>\n",
       "    </tr>\n",
       "  </thead>\n",
       "  <tbody>\n",
       "    <tr>\n",
       "      <th>0</th>\n",
       "      <td>2006-01-01</td>\n",
       "      <td>TRY</td>\n",
       "      <td>Turkey</td>\n",
       "      <td>4.10</td>\n",
       "      <td>1.33650</td>\n",
       "      <td>3.067714</td>\n",
       "      <td>2006</td>\n",
       "      <td>TUR</td>\n",
       "      <td>AVWAGE</td>\n",
       "      <td>TOT</td>\n",
       "      <td>USD</td>\n",
       "      <td>A</td>\n",
       "      <td>21839.962867</td>\n",
       "      <td>NaN</td>\n",
       "    </tr>\n",
       "    <tr>\n",
       "      <th>1</th>\n",
       "      <td>2006-05-01</td>\n",
       "      <td>TRY</td>\n",
       "      <td>Turkey</td>\n",
       "      <td>4.20</td>\n",
       "      <td>1.54150</td>\n",
       "      <td>2.724619</td>\n",
       "      <td>2006</td>\n",
       "      <td>TUR</td>\n",
       "      <td>AVWAGE</td>\n",
       "      <td>TOT</td>\n",
       "      <td>USD</td>\n",
       "      <td>A</td>\n",
       "      <td>21839.962867</td>\n",
       "      <td>NaN</td>\n",
       "    </tr>\n",
       "    <tr>\n",
       "      <th>2</th>\n",
       "      <td>2007-01-01</td>\n",
       "      <td>TRY</td>\n",
       "      <td>Turkey</td>\n",
       "      <td>4.55</td>\n",
       "      <td>1.40975</td>\n",
       "      <td>3.227523</td>\n",
       "      <td>2007</td>\n",
       "      <td>TUR</td>\n",
       "      <td>AVWAGE</td>\n",
       "      <td>TOT</td>\n",
       "      <td>USD</td>\n",
       "      <td>A</td>\n",
       "      <td>22590.984710</td>\n",
       "      <td>NaN</td>\n",
       "    </tr>\n",
       "    <tr>\n",
       "      <th>3</th>\n",
       "      <td>2007-06-01</td>\n",
       "      <td>TRY</td>\n",
       "      <td>Turkey</td>\n",
       "      <td>4.75</td>\n",
       "      <td>1.29810</td>\n",
       "      <td>3.659194</td>\n",
       "      <td>2007</td>\n",
       "      <td>TUR</td>\n",
       "      <td>AVWAGE</td>\n",
       "      <td>TOT</td>\n",
       "      <td>USD</td>\n",
       "      <td>A</td>\n",
       "      <td>22590.984710</td>\n",
       "      <td>NaN</td>\n",
       "    </tr>\n",
       "    <tr>\n",
       "      <th>4</th>\n",
       "      <td>2008-06-01</td>\n",
       "      <td>TRY</td>\n",
       "      <td>Turkey</td>\n",
       "      <td>5.15</td>\n",
       "      <td>1.19275</td>\n",
       "      <td>4.317753</td>\n",
       "      <td>2008</td>\n",
       "      <td>TUR</td>\n",
       "      <td>AVWAGE</td>\n",
       "      <td>TOT</td>\n",
       "      <td>USD</td>\n",
       "      <td>A</td>\n",
       "      <td>22467.875809</td>\n",
       "      <td>NaN</td>\n",
       "    </tr>\n",
       "  </tbody>\n",
       "</table>\n",
       "</div>"
      ],
      "text/plain": [
       "         date currency_code    name  local_price  dollar_ex  dollar_price  \\\n",
       "0  2006-01-01           TRY  Turkey         4.10    1.33650      3.067714   \n",
       "1  2006-05-01           TRY  Turkey         4.20    1.54150      2.724619   \n",
       "2  2007-01-01           TRY  Turkey         4.55    1.40975      3.227523   \n",
       "3  2007-06-01           TRY  Turkey         4.75    1.29810      3.659194   \n",
       "4  2008-06-01           TRY  Turkey         5.15    1.19275      4.317753   \n",
       "\n",
       "   TIME LOCATION INDICATOR SUBJECT MEASURE FREQUENCY         Value  Flag Codes  \n",
       "0  2006      TUR    AVWAGE     TOT     USD         A  21839.962867         NaN  \n",
       "1  2006      TUR    AVWAGE     TOT     USD         A  21839.962867         NaN  \n",
       "2  2007      TUR    AVWAGE     TOT     USD         A  22590.984710         NaN  \n",
       "3  2007      TUR    AVWAGE     TOT     USD         A  22590.984710         NaN  \n",
       "4  2008      TUR    AVWAGE     TOT     USD         A  22467.875809         NaN  "
      ]
     },
     "execution_count": 23,
     "metadata": {},
     "output_type": "execute_result"
    }
   ],
   "source": [
    "#bigmac fiyatları ve yıllık ortalama geliri birleştiriyorum.\n",
    "\n",
    "df_co = df_bm.merge(df_aw, on='TIME')\n",
    "df_co.head()"
   ]
  },
  {
   "cell_type": "code",
   "execution_count": 24,
   "id": "487cee1c",
   "metadata": {},
   "outputs": [
    {
     "data": {
      "text/html": [
       "<div>\n",
       "<style scoped>\n",
       "    .dataframe tbody tr th:only-of-type {\n",
       "        vertical-align: middle;\n",
       "    }\n",
       "\n",
       "    .dataframe tbody tr th {\n",
       "        vertical-align: top;\n",
       "    }\n",
       "\n",
       "    .dataframe thead th {\n",
       "        text-align: right;\n",
       "    }\n",
       "</style>\n",
       "<table border=\"1\" class=\"dataframe\">\n",
       "  <thead>\n",
       "    <tr style=\"text-align: right;\">\n",
       "      <th></th>\n",
       "      <th>date</th>\n",
       "      <th>currency_code</th>\n",
       "      <th>name</th>\n",
       "      <th>local_price</th>\n",
       "      <th>dollar_ex</th>\n",
       "      <th>dollar_price</th>\n",
       "      <th>TIME</th>\n",
       "      <th>LOCATION</th>\n",
       "      <th>INDICATOR</th>\n",
       "      <th>SUBJECT</th>\n",
       "      <th>MEASURE</th>\n",
       "      <th>FREQUENCY</th>\n",
       "      <th>Value</th>\n",
       "      <th>Flag Codes</th>\n",
       "      <th>piece</th>\n",
       "    </tr>\n",
       "  </thead>\n",
       "  <tbody>\n",
       "    <tr>\n",
       "      <th>0</th>\n",
       "      <td>2006-01-01</td>\n",
       "      <td>TRY</td>\n",
       "      <td>Turkey</td>\n",
       "      <td>4.10</td>\n",
       "      <td>1.33650</td>\n",
       "      <td>3.067714</td>\n",
       "      <td>2006</td>\n",
       "      <td>TUR</td>\n",
       "      <td>AVWAGE</td>\n",
       "      <td>TOT</td>\n",
       "      <td>USD</td>\n",
       "      <td>A</td>\n",
       "      <td>21839.962867</td>\n",
       "      <td>NaN</td>\n",
       "      <td>7119.295213</td>\n",
       "    </tr>\n",
       "    <tr>\n",
       "      <th>1</th>\n",
       "      <td>2006-05-01</td>\n",
       "      <td>TRY</td>\n",
       "      <td>Turkey</td>\n",
       "      <td>4.20</td>\n",
       "      <td>1.54150</td>\n",
       "      <td>2.724619</td>\n",
       "      <td>2006</td>\n",
       "      <td>TUR</td>\n",
       "      <td>AVWAGE</td>\n",
       "      <td>TOT</td>\n",
       "      <td>USD</td>\n",
       "      <td>A</td>\n",
       "      <td>21839.962867</td>\n",
       "      <td>NaN</td>\n",
       "      <td>8015.786371</td>\n",
       "    </tr>\n",
       "    <tr>\n",
       "      <th>2</th>\n",
       "      <td>2007-01-01</td>\n",
       "      <td>TRY</td>\n",
       "      <td>Turkey</td>\n",
       "      <td>4.55</td>\n",
       "      <td>1.40975</td>\n",
       "      <td>3.227523</td>\n",
       "      <td>2007</td>\n",
       "      <td>TUR</td>\n",
       "      <td>AVWAGE</td>\n",
       "      <td>TOT</td>\n",
       "      <td>USD</td>\n",
       "      <td>A</td>\n",
       "      <td>22590.984710</td>\n",
       "      <td>NaN</td>\n",
       "      <td>6999.481471</td>\n",
       "    </tr>\n",
       "    <tr>\n",
       "      <th>3</th>\n",
       "      <td>2007-06-01</td>\n",
       "      <td>TRY</td>\n",
       "      <td>Turkey</td>\n",
       "      <td>4.75</td>\n",
       "      <td>1.29810</td>\n",
       "      <td>3.659194</td>\n",
       "      <td>2007</td>\n",
       "      <td>TUR</td>\n",
       "      <td>AVWAGE</td>\n",
       "      <td>TOT</td>\n",
       "      <td>USD</td>\n",
       "      <td>A</td>\n",
       "      <td>22590.984710</td>\n",
       "      <td>NaN</td>\n",
       "      <td>6173.759421</td>\n",
       "    </tr>\n",
       "    <tr>\n",
       "      <th>4</th>\n",
       "      <td>2008-06-01</td>\n",
       "      <td>TRY</td>\n",
       "      <td>Turkey</td>\n",
       "      <td>5.15</td>\n",
       "      <td>1.19275</td>\n",
       "      <td>4.317753</td>\n",
       "      <td>2008</td>\n",
       "      <td>TUR</td>\n",
       "      <td>AVWAGE</td>\n",
       "      <td>TOT</td>\n",
       "      <td>USD</td>\n",
       "      <td>A</td>\n",
       "      <td>22467.875809</td>\n",
       "      <td>NaN</td>\n",
       "      <td>5203.603664</td>\n",
       "    </tr>\n",
       "    <tr>\n",
       "      <th>5</th>\n",
       "      <td>2009-07-01</td>\n",
       "      <td>TRY</td>\n",
       "      <td>Turkey</td>\n",
       "      <td>5.65</td>\n",
       "      <td>1.55005</td>\n",
       "      <td>3.645044</td>\n",
       "      <td>2009</td>\n",
       "      <td>TUR</td>\n",
       "      <td>AVWAGE</td>\n",
       "      <td>TOT</td>\n",
       "      <td>USD</td>\n",
       "      <td>A</td>\n",
       "      <td>22722.973353</td>\n",
       "      <td>NaN</td>\n",
       "      <td>6233.937141</td>\n",
       "    </tr>\n",
       "    <tr>\n",
       "      <th>6</th>\n",
       "      <td>2010-01-01</td>\n",
       "      <td>TRY</td>\n",
       "      <td>Turkey</td>\n",
       "      <td>5.65</td>\n",
       "      <td>1.47455</td>\n",
       "      <td>3.831677</td>\n",
       "      <td>2010</td>\n",
       "      <td>TUR</td>\n",
       "      <td>AVWAGE</td>\n",
       "      <td>TOT</td>\n",
       "      <td>USD</td>\n",
       "      <td>A</td>\n",
       "      <td>23291.586868</td>\n",
       "      <td>NaN</td>\n",
       "      <td>6078.691932</td>\n",
       "    </tr>\n",
       "    <tr>\n",
       "      <th>7</th>\n",
       "      <td>2010-07-01</td>\n",
       "      <td>TRY</td>\n",
       "      <td>Turkey</td>\n",
       "      <td>5.95</td>\n",
       "      <td>1.52930</td>\n",
       "      <td>3.890669</td>\n",
       "      <td>2010</td>\n",
       "      <td>TUR</td>\n",
       "      <td>AVWAGE</td>\n",
       "      <td>TOT</td>\n",
       "      <td>USD</td>\n",
       "      <td>A</td>\n",
       "      <td>23291.586868</td>\n",
       "      <td>NaN</td>\n",
       "      <td>5986.525008</td>\n",
       "    </tr>\n",
       "    <tr>\n",
       "      <th>8</th>\n",
       "      <td>2011-07-01</td>\n",
       "      <td>TRY</td>\n",
       "      <td>Turkey</td>\n",
       "      <td>6.50</td>\n",
       "      <td>1.72285</td>\n",
       "      <td>3.772818</td>\n",
       "      <td>2011</td>\n",
       "      <td>TUR</td>\n",
       "      <td>AVWAGE</td>\n",
       "      <td>TOT</td>\n",
       "      <td>USD</td>\n",
       "      <td>A</td>\n",
       "      <td>23666.754874</td>\n",
       "      <td>NaN</td>\n",
       "      <td>6272.964405</td>\n",
       "    </tr>\n",
       "    <tr>\n",
       "      <th>9</th>\n",
       "      <td>2012-01-01</td>\n",
       "      <td>TRY</td>\n",
       "      <td>Turkey</td>\n",
       "      <td>6.60</td>\n",
       "      <td>1.86295</td>\n",
       "      <td>3.542768</td>\n",
       "      <td>2012</td>\n",
       "      <td>TUR</td>\n",
       "      <td>AVWAGE</td>\n",
       "      <td>TOT</td>\n",
       "      <td>USD</td>\n",
       "      <td>A</td>\n",
       "      <td>24617.577418</td>\n",
       "      <td>NaN</td>\n",
       "      <td>6948.684220</td>\n",
       "    </tr>\n",
       "    <tr>\n",
       "      <th>10</th>\n",
       "      <td>2012-07-01</td>\n",
       "      <td>TRY</td>\n",
       "      <td>Turkey</td>\n",
       "      <td>8.25</td>\n",
       "      <td>1.82690</td>\n",
       "      <td>4.515847</td>\n",
       "      <td>2012</td>\n",
       "      <td>TUR</td>\n",
       "      <td>AVWAGE</td>\n",
       "      <td>TOT</td>\n",
       "      <td>USD</td>\n",
       "      <td>A</td>\n",
       "      <td>24617.577418</td>\n",
       "      <td>NaN</td>\n",
       "      <td>5451.376023</td>\n",
       "    </tr>\n",
       "    <tr>\n",
       "      <th>11</th>\n",
       "      <td>2013-01-01</td>\n",
       "      <td>TRY</td>\n",
       "      <td>Turkey</td>\n",
       "      <td>8.45</td>\n",
       "      <td>1.76875</td>\n",
       "      <td>4.777385</td>\n",
       "      <td>2013</td>\n",
       "      <td>TUR</td>\n",
       "      <td>AVWAGE</td>\n",
       "      <td>TOT</td>\n",
       "      <td>USD</td>\n",
       "      <td>A</td>\n",
       "      <td>25748.979474</td>\n",
       "      <td>NaN</td>\n",
       "      <td>5389.764195</td>\n",
       "    </tr>\n",
       "    <tr>\n",
       "      <th>12</th>\n",
       "      <td>2013-07-01</td>\n",
       "      <td>TRY</td>\n",
       "      <td>Turkey</td>\n",
       "      <td>8.50</td>\n",
       "      <td>1.95745</td>\n",
       "      <td>4.342384</td>\n",
       "      <td>2013</td>\n",
       "      <td>TUR</td>\n",
       "      <td>AVWAGE</td>\n",
       "      <td>TOT</td>\n",
       "      <td>USD</td>\n",
       "      <td>A</td>\n",
       "      <td>25748.979474</td>\n",
       "      <td>NaN</td>\n",
       "      <td>5929.687044</td>\n",
       "    </tr>\n",
       "    <tr>\n",
       "      <th>13</th>\n",
       "      <td>2014-01-01</td>\n",
       "      <td>TRY</td>\n",
       "      <td>Turkey</td>\n",
       "      <td>8.50</td>\n",
       "      <td>2.26155</td>\n",
       "      <td>3.758484</td>\n",
       "      <td>2014</td>\n",
       "      <td>TUR</td>\n",
       "      <td>AVWAGE</td>\n",
       "      <td>TOT</td>\n",
       "      <td>USD</td>\n",
       "      <td>A</td>\n",
       "      <td>26631.201686</td>\n",
       "      <td>NaN</td>\n",
       "      <td>7085.622844</td>\n",
       "    </tr>\n",
       "    <tr>\n",
       "      <th>14</th>\n",
       "      <td>2014-07-01</td>\n",
       "      <td>TRY</td>\n",
       "      <td>Turkey</td>\n",
       "      <td>9.25</td>\n",
       "      <td>2.09125</td>\n",
       "      <td>4.423192</td>\n",
       "      <td>2014</td>\n",
       "      <td>TUR</td>\n",
       "      <td>AVWAGE</td>\n",
       "      <td>TOT</td>\n",
       "      <td>USD</td>\n",
       "      <td>A</td>\n",
       "      <td>26631.201686</td>\n",
       "      <td>NaN</td>\n",
       "      <td>6020.810868</td>\n",
       "    </tr>\n",
       "    <tr>\n",
       "      <th>15</th>\n",
       "      <td>2015-01-01</td>\n",
       "      <td>TRY</td>\n",
       "      <td>Turkey</td>\n",
       "      <td>9.25</td>\n",
       "      <td>2.33345</td>\n",
       "      <td>3.964088</td>\n",
       "      <td>2015</td>\n",
       "      <td>TUR</td>\n",
       "      <td>AVWAGE</td>\n",
       "      <td>TOT</td>\n",
       "      <td>USD</td>\n",
       "      <td>A</td>\n",
       "      <td>27308.102961</td>\n",
       "      <td>NaN</td>\n",
       "      <td>6888.874903</td>\n",
       "    </tr>\n",
       "    <tr>\n",
       "      <th>16</th>\n",
       "      <td>2015-07-01</td>\n",
       "      <td>TRY</td>\n",
       "      <td>Turkey</td>\n",
       "      <td>10.25</td>\n",
       "      <td>2.64570</td>\n",
       "      <td>3.874211</td>\n",
       "      <td>2015</td>\n",
       "      <td>TUR</td>\n",
       "      <td>AVWAGE</td>\n",
       "      <td>TOT</td>\n",
       "      <td>USD</td>\n",
       "      <td>A</td>\n",
       "      <td>27308.102961</td>\n",
       "      <td>NaN</td>\n",
       "      <td>7048.687610</td>\n",
       "    </tr>\n",
       "    <tr>\n",
       "      <th>17</th>\n",
       "      <td>2016-01-01</td>\n",
       "      <td>TRY</td>\n",
       "      <td>Turkey</td>\n",
       "      <td>10.25</td>\n",
       "      <td>3.00960</td>\n",
       "      <td>3.405768</td>\n",
       "      <td>2016</td>\n",
       "      <td>TUR</td>\n",
       "      <td>AVWAGE</td>\n",
       "      <td>TOT</td>\n",
       "      <td>USD</td>\n",
       "      <td>A</td>\n",
       "      <td>30653.260715</td>\n",
       "      <td>NaN</td>\n",
       "      <td>9000.395458</td>\n",
       "    </tr>\n",
       "    <tr>\n",
       "      <th>18</th>\n",
       "      <td>2016-07-01</td>\n",
       "      <td>TRY</td>\n",
       "      <td>Turkey</td>\n",
       "      <td>10.75</td>\n",
       "      <td>3.04305</td>\n",
       "      <td>3.532640</td>\n",
       "      <td>2016</td>\n",
       "      <td>TUR</td>\n",
       "      <td>AVWAGE</td>\n",
       "      <td>TOT</td>\n",
       "      <td>USD</td>\n",
       "      <td>A</td>\n",
       "      <td>30653.260715</td>\n",
       "      <td>NaN</td>\n",
       "      <td>8677.153955</td>\n",
       "    </tr>\n",
       "    <tr>\n",
       "      <th>19</th>\n",
       "      <td>2017-01-01</td>\n",
       "      <td>TRY</td>\n",
       "      <td>Turkey</td>\n",
       "      <td>10.75</td>\n",
       "      <td>3.91115</td>\n",
       "      <td>2.748552</td>\n",
       "      <td>2017</td>\n",
       "      <td>TUR</td>\n",
       "      <td>AVWAGE</td>\n",
       "      <td>TOT</td>\n",
       "      <td>USD</td>\n",
       "      <td>A</td>\n",
       "      <td>30076.378939</td>\n",
       "      <td>NaN</td>\n",
       "      <td>10942.625999</td>\n",
       "    </tr>\n",
       "    <tr>\n",
       "      <th>20</th>\n",
       "      <td>2017-07-01</td>\n",
       "      <td>TRY</td>\n",
       "      <td>Turkey</td>\n",
       "      <td>10.75</td>\n",
       "      <td>3.57605</td>\n",
       "      <td>3.006110</td>\n",
       "      <td>2017</td>\n",
       "      <td>TUR</td>\n",
       "      <td>AVWAGE</td>\n",
       "      <td>TOT</td>\n",
       "      <td>USD</td>\n",
       "      <td>A</td>\n",
       "      <td>30076.378939</td>\n",
       "      <td>NaN</td>\n",
       "      <td>10005.082317</td>\n",
       "    </tr>\n",
       "    <tr>\n",
       "      <th>21</th>\n",
       "      <td>2018-01-01</td>\n",
       "      <td>TRY</td>\n",
       "      <td>Turkey</td>\n",
       "      <td>10.75</td>\n",
       "      <td>3.80260</td>\n",
       "      <td>2.827013</td>\n",
       "      <td>2018</td>\n",
       "      <td>TUR</td>\n",
       "      <td>AVWAGE</td>\n",
       "      <td>TOT</td>\n",
       "      <td>USD</td>\n",
       "      <td>A</td>\n",
       "      <td>30610.715156</td>\n",
       "      <td>NaN</td>\n",
       "      <td>10827.935391</td>\n",
       "    </tr>\n",
       "    <tr>\n",
       "      <th>22</th>\n",
       "      <td>2018-07-01</td>\n",
       "      <td>TRY</td>\n",
       "      <td>Turkey</td>\n",
       "      <td>10.75</td>\n",
       "      <td>4.70625</td>\n",
       "      <td>2.284197</td>\n",
       "      <td>2018</td>\n",
       "      <td>TUR</td>\n",
       "      <td>AVWAGE</td>\n",
       "      <td>TOT</td>\n",
       "      <td>USD</td>\n",
       "      <td>A</td>\n",
       "      <td>30610.715156</td>\n",
       "      <td>NaN</td>\n",
       "      <td>13401.086345</td>\n",
       "    </tr>\n",
       "    <tr>\n",
       "      <th>23</th>\n",
       "      <td>2019-01-01</td>\n",
       "      <td>TRY</td>\n",
       "      <td>Turkey</td>\n",
       "      <td>10.75</td>\n",
       "      <td>5.38340</td>\n",
       "      <td>1.996879</td>\n",
       "      <td>2019</td>\n",
       "      <td>TUR</td>\n",
       "      <td>AVWAGE</td>\n",
       "      <td>TOT</td>\n",
       "      <td>USD</td>\n",
       "      <td>A</td>\n",
       "      <td>32625.050808</td>\n",
       "      <td>NaN</td>\n",
       "      <td>16338.018467</td>\n",
       "    </tr>\n",
       "    <tr>\n",
       "      <th>24</th>\n",
       "      <td>2019-07-09</td>\n",
       "      <td>TRY</td>\n",
       "      <td>Turkey</td>\n",
       "      <td>13.99</td>\n",
       "      <td>5.72200</td>\n",
       "      <td>2.444949</td>\n",
       "      <td>2019</td>\n",
       "      <td>TUR</td>\n",
       "      <td>AVWAGE</td>\n",
       "      <td>TOT</td>\n",
       "      <td>USD</td>\n",
       "      <td>A</td>\n",
       "      <td>32625.050808</td>\n",
       "      <td>NaN</td>\n",
       "      <td>13343.855663</td>\n",
       "    </tr>\n",
       "    <tr>\n",
       "      <th>25</th>\n",
       "      <td>2020-01-14</td>\n",
       "      <td>TRY</td>\n",
       "      <td>Turkey</td>\n",
       "      <td>12.99</td>\n",
       "      <td>5.88025</td>\n",
       "      <td>2.209090</td>\n",
       "      <td>2020</td>\n",
       "      <td>TUR</td>\n",
       "      <td>AVWAGE</td>\n",
       "      <td>TOT</td>\n",
       "      <td>USD</td>\n",
       "      <td>A</td>\n",
       "      <td>32482.671310</td>\n",
       "      <td>NaN</td>\n",
       "      <td>14704.097611</td>\n",
       "    </tr>\n",
       "  </tbody>\n",
       "</table>\n",
       "</div>"
      ],
      "text/plain": [
       "          date currency_code    name  local_price  dollar_ex  dollar_price  \\\n",
       "0   2006-01-01           TRY  Turkey         4.10    1.33650      3.067714   \n",
       "1   2006-05-01           TRY  Turkey         4.20    1.54150      2.724619   \n",
       "2   2007-01-01           TRY  Turkey         4.55    1.40975      3.227523   \n",
       "3   2007-06-01           TRY  Turkey         4.75    1.29810      3.659194   \n",
       "4   2008-06-01           TRY  Turkey         5.15    1.19275      4.317753   \n",
       "5   2009-07-01           TRY  Turkey         5.65    1.55005      3.645044   \n",
       "6   2010-01-01           TRY  Turkey         5.65    1.47455      3.831677   \n",
       "7   2010-07-01           TRY  Turkey         5.95    1.52930      3.890669   \n",
       "8   2011-07-01           TRY  Turkey         6.50    1.72285      3.772818   \n",
       "9   2012-01-01           TRY  Turkey         6.60    1.86295      3.542768   \n",
       "10  2012-07-01           TRY  Turkey         8.25    1.82690      4.515847   \n",
       "11  2013-01-01           TRY  Turkey         8.45    1.76875      4.777385   \n",
       "12  2013-07-01           TRY  Turkey         8.50    1.95745      4.342384   \n",
       "13  2014-01-01           TRY  Turkey         8.50    2.26155      3.758484   \n",
       "14  2014-07-01           TRY  Turkey         9.25    2.09125      4.423192   \n",
       "15  2015-01-01           TRY  Turkey         9.25    2.33345      3.964088   \n",
       "16  2015-07-01           TRY  Turkey        10.25    2.64570      3.874211   \n",
       "17  2016-01-01           TRY  Turkey        10.25    3.00960      3.405768   \n",
       "18  2016-07-01           TRY  Turkey        10.75    3.04305      3.532640   \n",
       "19  2017-01-01           TRY  Turkey        10.75    3.91115      2.748552   \n",
       "20  2017-07-01           TRY  Turkey        10.75    3.57605      3.006110   \n",
       "21  2018-01-01           TRY  Turkey        10.75    3.80260      2.827013   \n",
       "22  2018-07-01           TRY  Turkey        10.75    4.70625      2.284197   \n",
       "23  2019-01-01           TRY  Turkey        10.75    5.38340      1.996879   \n",
       "24  2019-07-09           TRY  Turkey        13.99    5.72200      2.444949   \n",
       "25  2020-01-14           TRY  Turkey        12.99    5.88025      2.209090   \n",
       "\n",
       "    TIME LOCATION INDICATOR SUBJECT MEASURE FREQUENCY         Value  \\\n",
       "0   2006      TUR    AVWAGE     TOT     USD         A  21839.962867   \n",
       "1   2006      TUR    AVWAGE     TOT     USD         A  21839.962867   \n",
       "2   2007      TUR    AVWAGE     TOT     USD         A  22590.984710   \n",
       "3   2007      TUR    AVWAGE     TOT     USD         A  22590.984710   \n",
       "4   2008      TUR    AVWAGE     TOT     USD         A  22467.875809   \n",
       "5   2009      TUR    AVWAGE     TOT     USD         A  22722.973353   \n",
       "6   2010      TUR    AVWAGE     TOT     USD         A  23291.586868   \n",
       "7   2010      TUR    AVWAGE     TOT     USD         A  23291.586868   \n",
       "8   2011      TUR    AVWAGE     TOT     USD         A  23666.754874   \n",
       "9   2012      TUR    AVWAGE     TOT     USD         A  24617.577418   \n",
       "10  2012      TUR    AVWAGE     TOT     USD         A  24617.577418   \n",
       "11  2013      TUR    AVWAGE     TOT     USD         A  25748.979474   \n",
       "12  2013      TUR    AVWAGE     TOT     USD         A  25748.979474   \n",
       "13  2014      TUR    AVWAGE     TOT     USD         A  26631.201686   \n",
       "14  2014      TUR    AVWAGE     TOT     USD         A  26631.201686   \n",
       "15  2015      TUR    AVWAGE     TOT     USD         A  27308.102961   \n",
       "16  2015      TUR    AVWAGE     TOT     USD         A  27308.102961   \n",
       "17  2016      TUR    AVWAGE     TOT     USD         A  30653.260715   \n",
       "18  2016      TUR    AVWAGE     TOT     USD         A  30653.260715   \n",
       "19  2017      TUR    AVWAGE     TOT     USD         A  30076.378939   \n",
       "20  2017      TUR    AVWAGE     TOT     USD         A  30076.378939   \n",
       "21  2018      TUR    AVWAGE     TOT     USD         A  30610.715156   \n",
       "22  2018      TUR    AVWAGE     TOT     USD         A  30610.715156   \n",
       "23  2019      TUR    AVWAGE     TOT     USD         A  32625.050808   \n",
       "24  2019      TUR    AVWAGE     TOT     USD         A  32625.050808   \n",
       "25  2020      TUR    AVWAGE     TOT     USD         A  32482.671310   \n",
       "\n",
       "    Flag Codes         piece  \n",
       "0          NaN   7119.295213  \n",
       "1          NaN   8015.786371  \n",
       "2          NaN   6999.481471  \n",
       "3          NaN   6173.759421  \n",
       "4          NaN   5203.603664  \n",
       "5          NaN   6233.937141  \n",
       "6          NaN   6078.691932  \n",
       "7          NaN   5986.525008  \n",
       "8          NaN   6272.964405  \n",
       "9          NaN   6948.684220  \n",
       "10         NaN   5451.376023  \n",
       "11         NaN   5389.764195  \n",
       "12         NaN   5929.687044  \n",
       "13         NaN   7085.622844  \n",
       "14         NaN   6020.810868  \n",
       "15         NaN   6888.874903  \n",
       "16         NaN   7048.687610  \n",
       "17         NaN   9000.395458  \n",
       "18         NaN   8677.153955  \n",
       "19         NaN  10942.625999  \n",
       "20         NaN  10005.082317  \n",
       "21         NaN  10827.935391  \n",
       "22         NaN  13401.086345  \n",
       "23         NaN  16338.018467  \n",
       "24         NaN  13343.855663  \n",
       "25         NaN  14704.097611  "
      ]
     },
     "execution_count": 24,
     "metadata": {},
     "output_type": "execute_result"
    }
   ],
   "source": [
    "#bir yıl kaç bigmac alındığını yazalım.\n",
    "df_co['piece'] = df_co['Value'].div(df_co['dollar_price'])\n",
    "df_co"
   ]
  },
  {
   "cell_type": "code",
   "execution_count": 50,
   "id": "b170726f",
   "metadata": {},
   "outputs": [
    {
     "data": {
      "application/vnd.plotly.v1+json": {
       "config": {
        "plotlyServerURL": "https://plot.ly"
       },
       "data": [
        {
         "type": "bar",
         "x": [
          2006,
          2006,
          2007,
          2007,
          2008,
          2009,
          2010,
          2010,
          2011,
          2012,
          2012,
          2013,
          2013,
          2014,
          2014,
          2015,
          2015,
          2016,
          2016,
          2017,
          2017,
          2018,
          2018,
          2019,
          2019,
          2020
         ],
         "y": [
          7119.295212639923,
          8015.786371326352,
          6999.481471382731,
          6173.75942145901,
          5203.603664263811,
          6233.937140733498,
          6078.691931994245,
          5986.525007861183,
          6272.964405302106,
          6948.684219957774,
          5451.376022519499,
          5389.764194724847,
          5929.687043794438,
          7085.622843848851,
          6020.810867633387,
          6888.874903146217,
          7048.687610111449,
          9000.39545840541,
          8677.153955309877,
          10942.625998995036,
          10005.082316890468,
          10827.935390949082,
          13401.086344515385,
          16338.018466737392,
          13343.855662678177,
          14704.09761121541
         ]
        }
       ],
       "layout": {
        "template": {
         "data": {
          "bar": [
           {
            "error_x": {
             "color": "#2a3f5f"
            },
            "error_y": {
             "color": "#2a3f5f"
            },
            "marker": {
             "line": {
              "color": "#E5ECF6",
              "width": 0.5
             },
             "pattern": {
              "fillmode": "overlay",
              "size": 10,
              "solidity": 0.2
             }
            },
            "type": "bar"
           }
          ],
          "barpolar": [
           {
            "marker": {
             "line": {
              "color": "#E5ECF6",
              "width": 0.5
             },
             "pattern": {
              "fillmode": "overlay",
              "size": 10,
              "solidity": 0.2
             }
            },
            "type": "barpolar"
           }
          ],
          "carpet": [
           {
            "aaxis": {
             "endlinecolor": "#2a3f5f",
             "gridcolor": "white",
             "linecolor": "white",
             "minorgridcolor": "white",
             "startlinecolor": "#2a3f5f"
            },
            "baxis": {
             "endlinecolor": "#2a3f5f",
             "gridcolor": "white",
             "linecolor": "white",
             "minorgridcolor": "white",
             "startlinecolor": "#2a3f5f"
            },
            "type": "carpet"
           }
          ],
          "choropleth": [
           {
            "colorbar": {
             "outlinewidth": 0,
             "ticks": ""
            },
            "type": "choropleth"
           }
          ],
          "contour": [
           {
            "colorbar": {
             "outlinewidth": 0,
             "ticks": ""
            },
            "colorscale": [
             [
              0,
              "#0d0887"
             ],
             [
              0.1111111111111111,
              "#46039f"
             ],
             [
              0.2222222222222222,
              "#7201a8"
             ],
             [
              0.3333333333333333,
              "#9c179e"
             ],
             [
              0.4444444444444444,
              "#bd3786"
             ],
             [
              0.5555555555555556,
              "#d8576b"
             ],
             [
              0.6666666666666666,
              "#ed7953"
             ],
             [
              0.7777777777777778,
              "#fb9f3a"
             ],
             [
              0.8888888888888888,
              "#fdca26"
             ],
             [
              1,
              "#f0f921"
             ]
            ],
            "type": "contour"
           }
          ],
          "contourcarpet": [
           {
            "colorbar": {
             "outlinewidth": 0,
             "ticks": ""
            },
            "type": "contourcarpet"
           }
          ],
          "heatmap": [
           {
            "colorbar": {
             "outlinewidth": 0,
             "ticks": ""
            },
            "colorscale": [
             [
              0,
              "#0d0887"
             ],
             [
              0.1111111111111111,
              "#46039f"
             ],
             [
              0.2222222222222222,
              "#7201a8"
             ],
             [
              0.3333333333333333,
              "#9c179e"
             ],
             [
              0.4444444444444444,
              "#bd3786"
             ],
             [
              0.5555555555555556,
              "#d8576b"
             ],
             [
              0.6666666666666666,
              "#ed7953"
             ],
             [
              0.7777777777777778,
              "#fb9f3a"
             ],
             [
              0.8888888888888888,
              "#fdca26"
             ],
             [
              1,
              "#f0f921"
             ]
            ],
            "type": "heatmap"
           }
          ],
          "heatmapgl": [
           {
            "colorbar": {
             "outlinewidth": 0,
             "ticks": ""
            },
            "colorscale": [
             [
              0,
              "#0d0887"
             ],
             [
              0.1111111111111111,
              "#46039f"
             ],
             [
              0.2222222222222222,
              "#7201a8"
             ],
             [
              0.3333333333333333,
              "#9c179e"
             ],
             [
              0.4444444444444444,
              "#bd3786"
             ],
             [
              0.5555555555555556,
              "#d8576b"
             ],
             [
              0.6666666666666666,
              "#ed7953"
             ],
             [
              0.7777777777777778,
              "#fb9f3a"
             ],
             [
              0.8888888888888888,
              "#fdca26"
             ],
             [
              1,
              "#f0f921"
             ]
            ],
            "type": "heatmapgl"
           }
          ],
          "histogram": [
           {
            "marker": {
             "pattern": {
              "fillmode": "overlay",
              "size": 10,
              "solidity": 0.2
             }
            },
            "type": "histogram"
           }
          ],
          "histogram2d": [
           {
            "colorbar": {
             "outlinewidth": 0,
             "ticks": ""
            },
            "colorscale": [
             [
              0,
              "#0d0887"
             ],
             [
              0.1111111111111111,
              "#46039f"
             ],
             [
              0.2222222222222222,
              "#7201a8"
             ],
             [
              0.3333333333333333,
              "#9c179e"
             ],
             [
              0.4444444444444444,
              "#bd3786"
             ],
             [
              0.5555555555555556,
              "#d8576b"
             ],
             [
              0.6666666666666666,
              "#ed7953"
             ],
             [
              0.7777777777777778,
              "#fb9f3a"
             ],
             [
              0.8888888888888888,
              "#fdca26"
             ],
             [
              1,
              "#f0f921"
             ]
            ],
            "type": "histogram2d"
           }
          ],
          "histogram2dcontour": [
           {
            "colorbar": {
             "outlinewidth": 0,
             "ticks": ""
            },
            "colorscale": [
             [
              0,
              "#0d0887"
             ],
             [
              0.1111111111111111,
              "#46039f"
             ],
             [
              0.2222222222222222,
              "#7201a8"
             ],
             [
              0.3333333333333333,
              "#9c179e"
             ],
             [
              0.4444444444444444,
              "#bd3786"
             ],
             [
              0.5555555555555556,
              "#d8576b"
             ],
             [
              0.6666666666666666,
              "#ed7953"
             ],
             [
              0.7777777777777778,
              "#fb9f3a"
             ],
             [
              0.8888888888888888,
              "#fdca26"
             ],
             [
              1,
              "#f0f921"
             ]
            ],
            "type": "histogram2dcontour"
           }
          ],
          "mesh3d": [
           {
            "colorbar": {
             "outlinewidth": 0,
             "ticks": ""
            },
            "type": "mesh3d"
           }
          ],
          "parcoords": [
           {
            "line": {
             "colorbar": {
              "outlinewidth": 0,
              "ticks": ""
             }
            },
            "type": "parcoords"
           }
          ],
          "pie": [
           {
            "automargin": true,
            "type": "pie"
           }
          ],
          "scatter": [
           {
            "fillpattern": {
             "fillmode": "overlay",
             "size": 10,
             "solidity": 0.2
            },
            "type": "scatter"
           }
          ],
          "scatter3d": [
           {
            "line": {
             "colorbar": {
              "outlinewidth": 0,
              "ticks": ""
             }
            },
            "marker": {
             "colorbar": {
              "outlinewidth": 0,
              "ticks": ""
             }
            },
            "type": "scatter3d"
           }
          ],
          "scattercarpet": [
           {
            "marker": {
             "colorbar": {
              "outlinewidth": 0,
              "ticks": ""
             }
            },
            "type": "scattercarpet"
           }
          ],
          "scattergeo": [
           {
            "marker": {
             "colorbar": {
              "outlinewidth": 0,
              "ticks": ""
             }
            },
            "type": "scattergeo"
           }
          ],
          "scattergl": [
           {
            "marker": {
             "colorbar": {
              "outlinewidth": 0,
              "ticks": ""
             }
            },
            "type": "scattergl"
           }
          ],
          "scattermapbox": [
           {
            "marker": {
             "colorbar": {
              "outlinewidth": 0,
              "ticks": ""
             }
            },
            "type": "scattermapbox"
           }
          ],
          "scatterpolar": [
           {
            "marker": {
             "colorbar": {
              "outlinewidth": 0,
              "ticks": ""
             }
            },
            "type": "scatterpolar"
           }
          ],
          "scatterpolargl": [
           {
            "marker": {
             "colorbar": {
              "outlinewidth": 0,
              "ticks": ""
             }
            },
            "type": "scatterpolargl"
           }
          ],
          "scatterternary": [
           {
            "marker": {
             "colorbar": {
              "outlinewidth": 0,
              "ticks": ""
             }
            },
            "type": "scatterternary"
           }
          ],
          "surface": [
           {
            "colorbar": {
             "outlinewidth": 0,
             "ticks": ""
            },
            "colorscale": [
             [
              0,
              "#0d0887"
             ],
             [
              0.1111111111111111,
              "#46039f"
             ],
             [
              0.2222222222222222,
              "#7201a8"
             ],
             [
              0.3333333333333333,
              "#9c179e"
             ],
             [
              0.4444444444444444,
              "#bd3786"
             ],
             [
              0.5555555555555556,
              "#d8576b"
             ],
             [
              0.6666666666666666,
              "#ed7953"
             ],
             [
              0.7777777777777778,
              "#fb9f3a"
             ],
             [
              0.8888888888888888,
              "#fdca26"
             ],
             [
              1,
              "#f0f921"
             ]
            ],
            "type": "surface"
           }
          ],
          "table": [
           {
            "cells": {
             "fill": {
              "color": "#EBF0F8"
             },
             "line": {
              "color": "white"
             }
            },
            "header": {
             "fill": {
              "color": "#C8D4E3"
             },
             "line": {
              "color": "white"
             }
            },
            "type": "table"
           }
          ]
         },
         "layout": {
          "annotationdefaults": {
           "arrowcolor": "#2a3f5f",
           "arrowhead": 0,
           "arrowwidth": 1
          },
          "autotypenumbers": "strict",
          "coloraxis": {
           "colorbar": {
            "outlinewidth": 0,
            "ticks": ""
           }
          },
          "colorscale": {
           "diverging": [
            [
             0,
             "#8e0152"
            ],
            [
             0.1,
             "#c51b7d"
            ],
            [
             0.2,
             "#de77ae"
            ],
            [
             0.3,
             "#f1b6da"
            ],
            [
             0.4,
             "#fde0ef"
            ],
            [
             0.5,
             "#f7f7f7"
            ],
            [
             0.6,
             "#e6f5d0"
            ],
            [
             0.7,
             "#b8e186"
            ],
            [
             0.8,
             "#7fbc41"
            ],
            [
             0.9,
             "#4d9221"
            ],
            [
             1,
             "#276419"
            ]
           ],
           "sequential": [
            [
             0,
             "#0d0887"
            ],
            [
             0.1111111111111111,
             "#46039f"
            ],
            [
             0.2222222222222222,
             "#7201a8"
            ],
            [
             0.3333333333333333,
             "#9c179e"
            ],
            [
             0.4444444444444444,
             "#bd3786"
            ],
            [
             0.5555555555555556,
             "#d8576b"
            ],
            [
             0.6666666666666666,
             "#ed7953"
            ],
            [
             0.7777777777777778,
             "#fb9f3a"
            ],
            [
             0.8888888888888888,
             "#fdca26"
            ],
            [
             1,
             "#f0f921"
            ]
           ],
           "sequentialminus": [
            [
             0,
             "#0d0887"
            ],
            [
             0.1111111111111111,
             "#46039f"
            ],
            [
             0.2222222222222222,
             "#7201a8"
            ],
            [
             0.3333333333333333,
             "#9c179e"
            ],
            [
             0.4444444444444444,
             "#bd3786"
            ],
            [
             0.5555555555555556,
             "#d8576b"
            ],
            [
             0.6666666666666666,
             "#ed7953"
            ],
            [
             0.7777777777777778,
             "#fb9f3a"
            ],
            [
             0.8888888888888888,
             "#fdca26"
            ],
            [
             1,
             "#f0f921"
            ]
           ]
          },
          "colorway": [
           "#636efa",
           "#EF553B",
           "#00cc96",
           "#ab63fa",
           "#FFA15A",
           "#19d3f3",
           "#FF6692",
           "#B6E880",
           "#FF97FF",
           "#FECB52"
          ],
          "font": {
           "color": "#2a3f5f"
          },
          "geo": {
           "bgcolor": "white",
           "lakecolor": "white",
           "landcolor": "#E5ECF6",
           "showlakes": true,
           "showland": true,
           "subunitcolor": "white"
          },
          "hoverlabel": {
           "align": "left"
          },
          "hovermode": "closest",
          "mapbox": {
           "style": "light"
          },
          "paper_bgcolor": "white",
          "plot_bgcolor": "#E5ECF6",
          "polar": {
           "angularaxis": {
            "gridcolor": "white",
            "linecolor": "white",
            "ticks": ""
           },
           "bgcolor": "#E5ECF6",
           "radialaxis": {
            "gridcolor": "white",
            "linecolor": "white",
            "ticks": ""
           }
          },
          "scene": {
           "xaxis": {
            "backgroundcolor": "#E5ECF6",
            "gridcolor": "white",
            "gridwidth": 2,
            "linecolor": "white",
            "showbackground": true,
            "ticks": "",
            "zerolinecolor": "white"
           },
           "yaxis": {
            "backgroundcolor": "#E5ECF6",
            "gridcolor": "white",
            "gridwidth": 2,
            "linecolor": "white",
            "showbackground": true,
            "ticks": "",
            "zerolinecolor": "white"
           },
           "zaxis": {
            "backgroundcolor": "#E5ECF6",
            "gridcolor": "white",
            "gridwidth": 2,
            "linecolor": "white",
            "showbackground": true,
            "ticks": "",
            "zerolinecolor": "white"
           }
          },
          "shapedefaults": {
           "line": {
            "color": "#2a3f5f"
           }
          },
          "ternary": {
           "aaxis": {
            "gridcolor": "white",
            "linecolor": "white",
            "ticks": ""
           },
           "baxis": {
            "gridcolor": "white",
            "linecolor": "white",
            "ticks": ""
           },
           "bgcolor": "#E5ECF6",
           "caxis": {
            "gridcolor": "white",
            "linecolor": "white",
            "ticks": ""
           }
          },
          "title": {
           "x": 0.05
          },
          "xaxis": {
           "automargin": true,
           "gridcolor": "white",
           "linecolor": "white",
           "ticks": "",
           "title": {
            "standoff": 15
           },
           "zerolinecolor": "white",
           "zerolinewidth": 2
          },
          "yaxis": {
           "automargin": true,
           "gridcolor": "white",
           "linecolor": "white",
           "ticks": "",
           "title": {
            "standoff": 15
           },
           "zerolinecolor": "white",
           "zerolinewidth": 2
          }
         }
        }
       }
      },
      "text/html": [
       "<div>                            <div id=\"2c09f081-fa94-41a9-ac28-257b428ac7ed\" class=\"plotly-graph-div\" style=\"height:525px; width:100%;\"></div>            <script type=\"text/javascript\">                require([\"plotly\"], function(Plotly) {                    window.PLOTLYENV=window.PLOTLYENV || {};                                    if (document.getElementById(\"2c09f081-fa94-41a9-ac28-257b428ac7ed\")) {                    Plotly.newPlot(                        \"2c09f081-fa94-41a9-ac28-257b428ac7ed\",                        [{\"x\":[2006,2006,2007,2007,2008,2009,2010,2010,2011,2012,2012,2013,2013,2014,2014,2015,2015,2016,2016,2017,2017,2018,2018,2019,2019,2020],\"y\":[7119.295212639923,8015.786371326352,6999.481471382731,6173.75942145901,5203.603664263811,6233.937140733498,6078.691931994245,5986.525007861183,6272.964405302106,6948.684219957774,5451.376022519499,5389.764194724847,5929.687043794438,7085.622843848851,6020.810867633387,6888.874903146217,7048.687610111449,9000.39545840541,8677.153955309877,10942.625998995036,10005.082316890468,10827.935390949082,13401.086344515385,16338.018466737392,13343.855662678177,14704.09761121541],\"type\":\"bar\"}],                        {\"template\":{\"data\":{\"histogram2dcontour\":[{\"type\":\"histogram2dcontour\",\"colorbar\":{\"outlinewidth\":0,\"ticks\":\"\"},\"colorscale\":[[0.0,\"#0d0887\"],[0.1111111111111111,\"#46039f\"],[0.2222222222222222,\"#7201a8\"],[0.3333333333333333,\"#9c179e\"],[0.4444444444444444,\"#bd3786\"],[0.5555555555555556,\"#d8576b\"],[0.6666666666666666,\"#ed7953\"],[0.7777777777777778,\"#fb9f3a\"],[0.8888888888888888,\"#fdca26\"],[1.0,\"#f0f921\"]]}],\"choropleth\":[{\"type\":\"choropleth\",\"colorbar\":{\"outlinewidth\":0,\"ticks\":\"\"}}],\"histogram2d\":[{\"type\":\"histogram2d\",\"colorbar\":{\"outlinewidth\":0,\"ticks\":\"\"},\"colorscale\":[[0.0,\"#0d0887\"],[0.1111111111111111,\"#46039f\"],[0.2222222222222222,\"#7201a8\"],[0.3333333333333333,\"#9c179e\"],[0.4444444444444444,\"#bd3786\"],[0.5555555555555556,\"#d8576b\"],[0.6666666666666666,\"#ed7953\"],[0.7777777777777778,\"#fb9f3a\"],[0.8888888888888888,\"#fdca26\"],[1.0,\"#f0f921\"]]}],\"heatmap\":[{\"type\":\"heatmap\",\"colorbar\":{\"outlinewidth\":0,\"ticks\":\"\"},\"colorscale\":[[0.0,\"#0d0887\"],[0.1111111111111111,\"#46039f\"],[0.2222222222222222,\"#7201a8\"],[0.3333333333333333,\"#9c179e\"],[0.4444444444444444,\"#bd3786\"],[0.5555555555555556,\"#d8576b\"],[0.6666666666666666,\"#ed7953\"],[0.7777777777777778,\"#fb9f3a\"],[0.8888888888888888,\"#fdca26\"],[1.0,\"#f0f921\"]]}],\"heatmapgl\":[{\"type\":\"heatmapgl\",\"colorbar\":{\"outlinewidth\":0,\"ticks\":\"\"},\"colorscale\":[[0.0,\"#0d0887\"],[0.1111111111111111,\"#46039f\"],[0.2222222222222222,\"#7201a8\"],[0.3333333333333333,\"#9c179e\"],[0.4444444444444444,\"#bd3786\"],[0.5555555555555556,\"#d8576b\"],[0.6666666666666666,\"#ed7953\"],[0.7777777777777778,\"#fb9f3a\"],[0.8888888888888888,\"#fdca26\"],[1.0,\"#f0f921\"]]}],\"contourcarpet\":[{\"type\":\"contourcarpet\",\"colorbar\":{\"outlinewidth\":0,\"ticks\":\"\"}}],\"contour\":[{\"type\":\"contour\",\"colorbar\":{\"outlinewidth\":0,\"ticks\":\"\"},\"colorscale\":[[0.0,\"#0d0887\"],[0.1111111111111111,\"#46039f\"],[0.2222222222222222,\"#7201a8\"],[0.3333333333333333,\"#9c179e\"],[0.4444444444444444,\"#bd3786\"],[0.5555555555555556,\"#d8576b\"],[0.6666666666666666,\"#ed7953\"],[0.7777777777777778,\"#fb9f3a\"],[0.8888888888888888,\"#fdca26\"],[1.0,\"#f0f921\"]]}],\"surface\":[{\"type\":\"surface\",\"colorbar\":{\"outlinewidth\":0,\"ticks\":\"\"},\"colorscale\":[[0.0,\"#0d0887\"],[0.1111111111111111,\"#46039f\"],[0.2222222222222222,\"#7201a8\"],[0.3333333333333333,\"#9c179e\"],[0.4444444444444444,\"#bd3786\"],[0.5555555555555556,\"#d8576b\"],[0.6666666666666666,\"#ed7953\"],[0.7777777777777778,\"#fb9f3a\"],[0.8888888888888888,\"#fdca26\"],[1.0,\"#f0f921\"]]}],\"mesh3d\":[{\"type\":\"mesh3d\",\"colorbar\":{\"outlinewidth\":0,\"ticks\":\"\"}}],\"scatter\":[{\"fillpattern\":{\"fillmode\":\"overlay\",\"size\":10,\"solidity\":0.2},\"type\":\"scatter\"}],\"parcoords\":[{\"type\":\"parcoords\",\"line\":{\"colorbar\":{\"outlinewidth\":0,\"ticks\":\"\"}}}],\"scatterpolargl\":[{\"type\":\"scatterpolargl\",\"marker\":{\"colorbar\":{\"outlinewidth\":0,\"ticks\":\"\"}}}],\"bar\":[{\"error_x\":{\"color\":\"#2a3f5f\"},\"error_y\":{\"color\":\"#2a3f5f\"},\"marker\":{\"line\":{\"color\":\"#E5ECF6\",\"width\":0.5},\"pattern\":{\"fillmode\":\"overlay\",\"size\":10,\"solidity\":0.2}},\"type\":\"bar\"}],\"scattergeo\":[{\"type\":\"scattergeo\",\"marker\":{\"colorbar\":{\"outlinewidth\":0,\"ticks\":\"\"}}}],\"scatterpolar\":[{\"type\":\"scatterpolar\",\"marker\":{\"colorbar\":{\"outlinewidth\":0,\"ticks\":\"\"}}}],\"histogram\":[{\"marker\":{\"pattern\":{\"fillmode\":\"overlay\",\"size\":10,\"solidity\":0.2}},\"type\":\"histogram\"}],\"scattergl\":[{\"type\":\"scattergl\",\"marker\":{\"colorbar\":{\"outlinewidth\":0,\"ticks\":\"\"}}}],\"scatter3d\":[{\"type\":\"scatter3d\",\"line\":{\"colorbar\":{\"outlinewidth\":0,\"ticks\":\"\"}},\"marker\":{\"colorbar\":{\"outlinewidth\":0,\"ticks\":\"\"}}}],\"scattermapbox\":[{\"type\":\"scattermapbox\",\"marker\":{\"colorbar\":{\"outlinewidth\":0,\"ticks\":\"\"}}}],\"scatterternary\":[{\"type\":\"scatterternary\",\"marker\":{\"colorbar\":{\"outlinewidth\":0,\"ticks\":\"\"}}}],\"scattercarpet\":[{\"type\":\"scattercarpet\",\"marker\":{\"colorbar\":{\"outlinewidth\":0,\"ticks\":\"\"}}}],\"carpet\":[{\"aaxis\":{\"endlinecolor\":\"#2a3f5f\",\"gridcolor\":\"white\",\"linecolor\":\"white\",\"minorgridcolor\":\"white\",\"startlinecolor\":\"#2a3f5f\"},\"baxis\":{\"endlinecolor\":\"#2a3f5f\",\"gridcolor\":\"white\",\"linecolor\":\"white\",\"minorgridcolor\":\"white\",\"startlinecolor\":\"#2a3f5f\"},\"type\":\"carpet\"}],\"table\":[{\"cells\":{\"fill\":{\"color\":\"#EBF0F8\"},\"line\":{\"color\":\"white\"}},\"header\":{\"fill\":{\"color\":\"#C8D4E3\"},\"line\":{\"color\":\"white\"}},\"type\":\"table\"}],\"barpolar\":[{\"marker\":{\"line\":{\"color\":\"#E5ECF6\",\"width\":0.5},\"pattern\":{\"fillmode\":\"overlay\",\"size\":10,\"solidity\":0.2}},\"type\":\"barpolar\"}],\"pie\":[{\"automargin\":true,\"type\":\"pie\"}]},\"layout\":{\"autotypenumbers\":\"strict\",\"colorway\":[\"#636efa\",\"#EF553B\",\"#00cc96\",\"#ab63fa\",\"#FFA15A\",\"#19d3f3\",\"#FF6692\",\"#B6E880\",\"#FF97FF\",\"#FECB52\"],\"font\":{\"color\":\"#2a3f5f\"},\"hovermode\":\"closest\",\"hoverlabel\":{\"align\":\"left\"},\"paper_bgcolor\":\"white\",\"plot_bgcolor\":\"#E5ECF6\",\"polar\":{\"bgcolor\":\"#E5ECF6\",\"angularaxis\":{\"gridcolor\":\"white\",\"linecolor\":\"white\",\"ticks\":\"\"},\"radialaxis\":{\"gridcolor\":\"white\",\"linecolor\":\"white\",\"ticks\":\"\"}},\"ternary\":{\"bgcolor\":\"#E5ECF6\",\"aaxis\":{\"gridcolor\":\"white\",\"linecolor\":\"white\",\"ticks\":\"\"},\"baxis\":{\"gridcolor\":\"white\",\"linecolor\":\"white\",\"ticks\":\"\"},\"caxis\":{\"gridcolor\":\"white\",\"linecolor\":\"white\",\"ticks\":\"\"}},\"coloraxis\":{\"colorbar\":{\"outlinewidth\":0,\"ticks\":\"\"}},\"colorscale\":{\"sequential\":[[0.0,\"#0d0887\"],[0.1111111111111111,\"#46039f\"],[0.2222222222222222,\"#7201a8\"],[0.3333333333333333,\"#9c179e\"],[0.4444444444444444,\"#bd3786\"],[0.5555555555555556,\"#d8576b\"],[0.6666666666666666,\"#ed7953\"],[0.7777777777777778,\"#fb9f3a\"],[0.8888888888888888,\"#fdca26\"],[1.0,\"#f0f921\"]],\"sequentialminus\":[[0.0,\"#0d0887\"],[0.1111111111111111,\"#46039f\"],[0.2222222222222222,\"#7201a8\"],[0.3333333333333333,\"#9c179e\"],[0.4444444444444444,\"#bd3786\"],[0.5555555555555556,\"#d8576b\"],[0.6666666666666666,\"#ed7953\"],[0.7777777777777778,\"#fb9f3a\"],[0.8888888888888888,\"#fdca26\"],[1.0,\"#f0f921\"]],\"diverging\":[[0,\"#8e0152\"],[0.1,\"#c51b7d\"],[0.2,\"#de77ae\"],[0.3,\"#f1b6da\"],[0.4,\"#fde0ef\"],[0.5,\"#f7f7f7\"],[0.6,\"#e6f5d0\"],[0.7,\"#b8e186\"],[0.8,\"#7fbc41\"],[0.9,\"#4d9221\"],[1,\"#276419\"]]},\"xaxis\":{\"gridcolor\":\"white\",\"linecolor\":\"white\",\"ticks\":\"\",\"title\":{\"standoff\":15},\"zerolinecolor\":\"white\",\"automargin\":true,\"zerolinewidth\":2},\"yaxis\":{\"gridcolor\":\"white\",\"linecolor\":\"white\",\"ticks\":\"\",\"title\":{\"standoff\":15},\"zerolinecolor\":\"white\",\"automargin\":true,\"zerolinewidth\":2},\"scene\":{\"xaxis\":{\"backgroundcolor\":\"#E5ECF6\",\"gridcolor\":\"white\",\"linecolor\":\"white\",\"showbackground\":true,\"ticks\":\"\",\"zerolinecolor\":\"white\",\"gridwidth\":2},\"yaxis\":{\"backgroundcolor\":\"#E5ECF6\",\"gridcolor\":\"white\",\"linecolor\":\"white\",\"showbackground\":true,\"ticks\":\"\",\"zerolinecolor\":\"white\",\"gridwidth\":2},\"zaxis\":{\"backgroundcolor\":\"#E5ECF6\",\"gridcolor\":\"white\",\"linecolor\":\"white\",\"showbackground\":true,\"ticks\":\"\",\"zerolinecolor\":\"white\",\"gridwidth\":2}},\"shapedefaults\":{\"line\":{\"color\":\"#2a3f5f\"}},\"annotationdefaults\":{\"arrowcolor\":\"#2a3f5f\",\"arrowhead\":0,\"arrowwidth\":1},\"geo\":{\"bgcolor\":\"white\",\"landcolor\":\"#E5ECF6\",\"subunitcolor\":\"white\",\"showland\":true,\"showlakes\":true,\"lakecolor\":\"white\"},\"title\":{\"x\":0.05},\"mapbox\":{\"style\":\"light\"}}}},                        {\"responsive\": true}                    ).then(function(){\n",
       "                            \n",
       "var gd = document.getElementById('2c09f081-fa94-41a9-ac28-257b428ac7ed');\n",
       "var x = new MutationObserver(function (mutations, observer) {{\n",
       "        var display = window.getComputedStyle(gd).display;\n",
       "        if (!display || display === 'none') {{\n",
       "            console.log([gd, 'removed!']);\n",
       "            Plotly.purge(gd);\n",
       "            observer.disconnect();\n",
       "        }}\n",
       "}});\n",
       "\n",
       "// Listen for the removal of the full notebook cells\n",
       "var notebookContainer = gd.closest('#notebook-container');\n",
       "if (notebookContainer) {{\n",
       "    x.observe(notebookContainer, {childList: true});\n",
       "}}\n",
       "\n",
       "// Listen for the clearing of the current output cell\n",
       "var outputEl = gd.closest('.output');\n",
       "if (outputEl) {{\n",
       "    x.observe(outputEl, {childList: true});\n",
       "}}\n",
       "\n",
       "                        })                };                });            </script>        </div>"
      ]
     },
     "metadata": {},
     "output_type": "display_data"
    }
   ],
   "source": [
    "\n",
    "\n",
    "\n",
    "\n",
    "fig = go.Figure()\n",
    "fig.add_trace(go.Bar(\n",
    "    x=df_co['TIME'],\n",
    "    y=df_co['piece'],\n",
    "    \n",
    "))\n",
    "fig.show()"
   ]
  },
  {
   "cell_type": "code",
   "execution_count": 26,
   "id": "5db16c57",
   "metadata": {},
   "outputs": [
    {
     "data": {
      "image/png": "[encoded data removed]",
      "text/plain": [
       "<Figure size 864x432 with 1 Axes>"
      ]
     },
     "metadata": {
      "needs_background": "light"
     },
     "output_type": "display_data"
    }
   ],
   "source": [
    "\n",
    "plt.figure(figsize=(12,6))\n",
    "\n",
    "plt.plot(df_co.TIME,\n",
    "         df_co.local_price,\n",
    "         color=\"r\",\n",
    "         linewidth=3)\n",
    "\n",
    "plt.plot(df_co.TIME,df_co.dollar_price,\n",
    "         color=\"blue\",\n",
    "         linewidth=3,\n",
    "         )\n",
    "\n",
    "plt.xlabel(\"Tarih\")\n",
    "\n",
    "plt.ylabel(\"Dolar ve TL Cinsinden Fiyatlar\")\n",
    "\n",
    "plt.title(\"Big Mac'ın Yıllara Göre Dolar ve TL Fiyat Değişimleri\")\n",
    "\n",
    "plt.show()"
   ]
  },
  {
   "cell_type": "markdown",
   "id": "d778ab81",
   "metadata": {},
   "source": [
    "Grafiğe baktığımız zaman dolar olarak Bigmac'in fiyatla "
   ]
  },
  {
   "cell_type": "code",
   "execution_count": null,
   "id": "c33cdc98",
   "metadata": {},
   "outputs": [],
   "source": []
  },
  {
   "cell_type": "code",
   "execution_count": null,
   "id": "6387d1e2",
   "metadata": {},
   "outputs": [],
   "source": []
  },
  {
   "cell_type": "code",
   "execution_count": null,
   "id": "f3f49850",
   "metadata": {},
   "outputs": [],
   "source": []
  },
  {
   "cell_type": "code",
   "execution_count": null,
   "id": "5d010bf9",
   "metadata": {},
   "outputs": [],
   "source": []
  },
  {
   "cell_type": "code",
   "execution_count": null,
   "id": "949923a7",
   "metadata": {},
   "outputs": [],
   "source": []
  }
 ],
 "metadata": {
  "kernelspec": {
   "display_name": "Python 3",
   "language": "python",
   "name": "python3"
  },
  "language_info": {
   "codemirror_mode": {
    "name": "ipython",
    "version": 3
   },
   "file_extension": ".py",
   "mimetype": "text/x-python",
   "name": "python",
   "nbconvert_exporter": "python",
   "pygments_lexer": "ipython3",
   "version": "3.8.8"
  }
 },
 "nbformat": 4,
 "nbformat_minor": 5
}
